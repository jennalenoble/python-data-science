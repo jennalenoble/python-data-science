{
 "cells": [
  {
   "cell_type": "markdown",
   "id": "70bf2a6b-b209-4874-9bcd-3d5481f1085e",
   "metadata": {},
   "source": [
    "# Module 5: Making Choices and Repeating Iterations"
   ]
  },
  {
   "cell_type": "markdown",
   "id": "ef763a9e-aa81-4db1-ae23-b962f9017936",
   "metadata": {},
   "source": [
    "### Conditionals"
   ]
  },
  {
   "cell_type": "code",
   "execution_count": 1,
   "id": "255bbd7b-67a4-4af9-a806-d6027178224a",
   "metadata": {},
   "outputs": [
    {
     "name": "stdout",
     "output_type": "stream",
     "text": [
      "My name is Jenna too!\n",
      "Nice to meet you!\n"
     ]
    }
   ],
   "source": [
    "my_name = 'Jenna'\n",
    "\n",
    "if my_name.lower() == 'jenna':\n",
    "    print('My name is Jenna too!')\n",
    "\n",
    "elif my_name.lower() == 'totoro':\n",
    "    print('Interesting, I loved that movie!')\n",
    "    \n",
    "else:\n",
    "    print(\"That's a great name.\")\n",
    "\n",
    "print('Nice to meet you!')"
   ]
  },
  {
   "cell_type": "code",
   "execution_count": 4,
   "id": "167cecde-5f4f-42e7-885d-b3939dc05515",
   "metadata": {},
   "outputs": [
    {
     "name": "stdout",
     "output_type": "stream",
     "text": [
      "Interesting, I loved that movie!\n",
      "Nice to meet you!\n"
     ]
    }
   ],
   "source": [
    "my_name = 'Totoro'\n",
    "\n",
    "if my_name.lower() == 'jenna':\n",
    "    print('My name is Jenna too!')\n",
    "\n",
    "elif my_name.lower() == 'totoro':\n",
    "    print('Interesting, I loved that movie!')\n",
    "    \n",
    "else:\n",
    "    print(\"That's a great name.\")\n",
    "\n",
    "print('Nice to meet you!')"
   ]
  },
  {
   "cell_type": "code",
   "execution_count": 5,
   "id": "5b564485-9384-4b65-907a-45dd9b88accf",
   "metadata": {},
   "outputs": [
    {
     "name": "stdout",
     "output_type": "stream",
     "text": [
      "That's a great name.\n",
      "Nice to meet you!\n"
     ]
    }
   ],
   "source": [
    "my_name = 'Desmond'\n",
    "\n",
    "if my_name.lower() == 'jenna':\n",
    "    print('My name is Jenna too!')\n",
    "\n",
    "elif my_name.lower() == 'totoro':\n",
    "    print('Interesting, I loved that movie!')\n",
    "    \n",
    "else:\n",
    "    print(\"That's a great name.\")\n",
    "\n",
    "print('Nice to meet you!')"
   ]
  },
  {
   "cell_type": "code",
   "execution_count": 6,
   "id": "5ba2bbfb-f0a2-46ef-8626-d7462bebfbf5",
   "metadata": {},
   "outputs": [
    {
     "data": {
      "text/plain": [
       "'Between 10 and 20'"
      ]
     },
     "execution_count": 6,
     "metadata": {},
     "output_type": "execute_result"
    }
   ],
   "source": [
    "item = 13\n",
    "\n",
    "if item > 20:\n",
    "    magnitude = 'Greater than 20'\n",
    "elif item > 10:\n",
    "    magnitude = 'Between 10 and 20'\n",
    "else:\n",
    "    magnitude = '10 or less' \n",
    "    \n",
    "magnitude"
   ]
  },
  {
   "cell_type": "code",
   "execution_count": 7,
   "id": "90f0ea10-cb5e-4608-9c84-b2f06f136ca1",
   "metadata": {},
   "outputs": [
    {
     "data": {
      "text/plain": [
       "True"
      ]
     },
     "execution_count": 7,
     "metadata": {},
     "output_type": "execute_result"
    }
   ],
   "source": [
    "exercises = ['burpees', 'lunges', 'squats', 'curls']\n",
    "\n",
    "'squats' in exercises"
   ]
  },
  {
   "cell_type": "code",
   "execution_count": 13,
   "id": "cfe12944-f1a7-4540-9a7b-d093045863a8",
   "metadata": {},
   "outputs": [
    {
     "data": {
      "text/plain": [
       "16"
      ]
     },
     "execution_count": 13,
     "metadata": {},
     "output_type": "execute_result"
    }
   ],
   "source": [
    "cups_of_tea = [2, 1, 4, 3, 3, 2, 1]\n",
    "\n",
    "tea_amount = sum(cups_of_tea) if type(cups_of_tea) is list else 'cannot sum'\n",
    "\n",
    "tea_amount"
   ]
  },
  {
   "cell_type": "markdown",
   "id": "2767aef9-9154-440d-9e17-fde20732cb1d",
   "metadata": {},
   "source": [
    "### Loops"
   ]
  },
  {
   "cell_type": "code",
   "execution_count": 15,
   "id": "bb64a5e3-0967-484c-babb-cf276fc0dd8b",
   "metadata": {},
   "outputs": [
    {
     "data": {
      "text/plain": [
       "[4, 9, 25]"
      ]
     },
     "execution_count": 15,
     "metadata": {},
     "output_type": "execute_result"
    }
   ],
   "source": [
    "numbers = [2, 3, 5]\n",
    "\n",
    "squared = list()\n",
    "for number in numbers:\n",
    "    squared.append(number ** 2)\n",
    "squared"
   ]
  },
  {
   "cell_type": "markdown",
   "id": "5c9c693d-8a2f-4710-8d03-ef0beea5db56",
   "metadata": {},
   "source": [
    "### Range, Dictionaries and Collections"
   ]
  },
  {
   "cell_type": "code",
   "execution_count": 16,
   "id": "d7faaffa-1fe7-49d2-a7d6-c541a8a94c55",
   "metadata": {},
   "outputs": [
    {
     "name": "stdout",
     "output_type": "stream",
     "text": [
      "0\n",
      "1\n",
      "2\n",
      "3\n",
      "4\n"
     ]
    }
   ],
   "source": [
    "for i in range(5):\n",
    "    print(i)"
   ]
  },
  {
   "cell_type": "code",
   "execution_count": 17,
   "id": "fe132f7d-f1c1-43b2-8953-79f9763951a8",
   "metadata": {},
   "outputs": [
    {
     "name": "stdout",
     "output_type": "stream",
     "text": [
      "50\n",
      "60\n",
      "70\n",
      "80\n",
      "90\n",
      "100\n"
     ]
    }
   ],
   "source": [
    "for i in range(50, 101, 10):\n",
    "    print(i)"
   ]
  },
  {
   "cell_type": "code",
   "execution_count": 19,
   "id": "ae3b215c-0253-48a2-a1ea-7b867eea67e4",
   "metadata": {},
   "outputs": [
    {
     "name": "stdout",
     "output_type": "stream",
     "text": [
      "7\n",
      "8\n",
      "9\n"
     ]
    }
   ],
   "source": [
    "for i in range(7,10):\n",
    "    print(i)"
   ]
  },
  {
   "cell_type": "code",
   "execution_count": 20,
   "id": "d9642c7c-91f2-4a97-900f-01c11ae5b06d",
   "metadata": {},
   "outputs": [
    {
     "data": {
      "text/plain": [
       "dict_items([('Special K', 4), ('Lucky Charms', 7), ('Cheerios', 2), ('Wheaties', 3)])"
      ]
     },
     "execution_count": 20,
     "metadata": {},
     "output_type": "execute_result"
    }
   ],
   "source": [
    "cereals = {'Special K': 4, 'Lucky Charms': 7, 'Cheerios': 2, 'Wheaties': 3}\n",
    "cereals.items()"
   ]
  },
  {
   "cell_type": "code",
   "execution_count": 22,
   "id": "b3577cf5-07ad-47e4-9619-1b6d00e8c5df",
   "metadata": {},
   "outputs": [
    {
     "name": "stdout",
     "output_type": "stream",
     "text": [
      "Special K has 4 available\n",
      "Lucky Charms has 7 available\n",
      "Cheerios has 2 available\n",
      "Wheaties has 3 available\n"
     ]
    }
   ],
   "source": [
    "cereals = {'Special K': 4, 'Lucky Charms': 7, 'Cheerios': 2, 'Wheaties': 3}\n",
    "\n",
    "for cereal, stock in cereals.items():\n",
    "    print(cereal + \" has \" + str(stock) + \" available\")"
   ]
  },
  {
   "cell_type": "markdown",
   "id": "75689a44-60dc-4497-a4db-e89b9aa8c921",
   "metadata": {},
   "source": [
    "### Comprehensions"
   ]
  },
  {
   "cell_type": "code",
   "execution_count": 23,
   "id": "59436101-c510-441a-878d-eb40350c4355",
   "metadata": {},
   "outputs": [],
   "source": [
    "numbers = [2, 3, 5]"
   ]
  },
  {
   "cell_type": "code",
   "execution_count": 24,
   "id": "8654e03e-de52-43fc-a93d-d6a4038a6773",
   "metadata": {},
   "outputs": [
    {
     "data": {
      "text/plain": [
       "[4, 9, 25]"
      ]
     },
     "execution_count": 24,
     "metadata": {},
     "output_type": "execute_result"
    }
   ],
   "source": [
    "squared = list()\n",
    "\n",
    "for number in numbers:\n",
    "    squared.append(number ** 2)\n",
    "    \n",
    "squared"
   ]
  },
  {
   "cell_type": "code",
   "execution_count": 25,
   "id": "de6c22a7-b2cc-4150-9136-ebe9233a5a1b",
   "metadata": {},
   "outputs": [
    {
     "data": {
      "text/plain": [
       "[4, 9, 25]"
      ]
     },
     "execution_count": 25,
     "metadata": {},
     "output_type": "execute_result"
    }
   ],
   "source": [
    "squared = [number ** 2 for number in numbers]\n",
    "squared"
   ]
  },
  {
   "cell_type": "code",
   "execution_count": 26,
   "id": "d07c5f64-db88-4dd8-b304-2c8453b345da",
   "metadata": {},
   "outputs": [
    {
     "data": {
      "text/plain": [
       "{2: 4, 3: 9, 5: 25}"
      ]
     },
     "execution_count": 26,
     "metadata": {},
     "output_type": "execute_result"
    }
   ],
   "source": [
    "word_length = {number : number ** 2 for number in numbers}\n",
    "word_length"
   ]
  },
  {
   "cell_type": "markdown",
   "id": "410a448c-7e26-44e1-ba5a-7602cc2b3787",
   "metadata": {},
   "source": [
    "### Nested Loops"
   ]
  },
  {
   "cell_type": "code",
   "execution_count": 29,
   "id": "4175fd8c-5554-4553-bca2-dce994210b15",
   "metadata": {},
   "outputs": [
    {
     "name": "stdout",
     "output_type": "stream",
     "text": [
      "hearts\n",
      "Jack\n",
      "Queen\n",
      "King\n",
      "diamonds\n",
      "Jack\n",
      "Queen\n",
      "King\n"
     ]
    },
    {
     "data": {
      "text/plain": [
       "['Jack of hearts',\n",
       " 'Queen of hearts',\n",
       " 'King of hearts',\n",
       " 'Jack of diamonds',\n",
       " 'Queen of diamonds',\n",
       " 'King of diamonds']"
      ]
     },
     "execution_count": 29,
     "metadata": {},
     "output_type": "execute_result"
    }
   ],
   "source": [
    "suits = ['hearts','diamonds']\n",
    "faces = ['Jack', 'Queen', 'King']\n",
    "\n",
    "cards = list()\n",
    "\n",
    "for suit in suits:\n",
    "    print(suit)\n",
    "    for face in faces:\n",
    "        print(face)\n",
    "        cards.append(face + ' of ' + suit)\n",
    "cards"
   ]
  },
  {
   "cell_type": "markdown",
   "id": "b8505156-9246-4e9c-b83d-6cb855184eb3",
   "metadata": {},
   "source": [
    "### Repeated Iterations with Conditions"
   ]
  },
  {
   "cell_type": "code",
   "execution_count": 30,
   "id": "02942c3f-8977-419c-b135-d31a452e2913",
   "metadata": {},
   "outputs": [
    {
     "name": "stdout",
     "output_type": "stream",
     "text": [
      "greater than 20\n",
      "Between 10 and 20\n",
      "greater than 20\n"
     ]
    }
   ],
   "source": [
    "item_list = [25, 13, 21, 8, 17, 11, 4]\n",
    "\n",
    "for item in item_list:\n",
    "    if item > 20:\n",
    "        magnitude = 'greater than 20'\n",
    "    elif item > 10:\n",
    "        magnitude = 'Between 10 and 20'\n",
    "    else:\n",
    "        magnitude = '10 or less'\n",
    "        break\n",
    "    \n",
    "    print(magnitude)"
   ]
  },
  {
   "cell_type": "code",
   "execution_count": 32,
   "id": "fc2a311b-6a61-45d6-bdc3-56b7331d8c8d",
   "metadata": {},
   "outputs": [
    {
     "data": {
      "text/plain": [
       "46"
      ]
     },
     "execution_count": 32,
     "metadata": {},
     "output_type": "execute_result"
    }
   ],
   "source": [
    "item_list = [25, 13, 21, 8, 17, 11, 4]\n",
    "number_over_20 = 0\n",
    "\n",
    "for item in item_list:\n",
    "    if item > 20:\n",
    "        number_over_20 = number_over_20 + item\n",
    "        \n",
    "number_over_20"
   ]
  },
  {
   "cell_type": "code",
   "execution_count": 34,
   "id": "12f3d744-fc0d-43ce-bec2-21b7f1713e04",
   "metadata": {},
   "outputs": [
    {
     "data": {
      "text/plain": [
       "46"
      ]
     },
     "execution_count": 34,
     "metadata": {},
     "output_type": "execute_result"
    }
   ],
   "source": [
    "item_list = [25, 13, 21, 8, 17, 11, 4]\n",
    "number_over_20 = 0\n",
    "\n",
    "for item in item_list:\n",
    "    if item > 20:\n",
    "        number_over_20 += item\n",
    "        \n",
    "number_over_20"
   ]
  },
  {
   "cell_type": "markdown",
   "id": "5168667f-a2ea-40e0-b240-93ecbde25469",
   "metadata": {},
   "source": [
    "### Functions"
   ]
  },
  {
   "cell_type": "code",
   "execution_count": 35,
   "id": "7b632940-40f9-49a2-8107-a35185bc6760",
   "metadata": {},
   "outputs": [],
   "source": [
    "def squares_a_list(numerical_list):\n",
    "    new_squared_list = list()\n",
    "    \n",
    "    for number in numerical_list:\n",
    "        new_squared_list.append(number ** 2)\n",
    "        \n",
    "    return new_squared_list"
   ]
  },
  {
   "cell_type": "code",
   "execution_count": 36,
   "id": "cc6fe509-dc7e-4b09-9fa4-0a246b463a7b",
   "metadata": {},
   "outputs": [
    {
     "data": {
      "text/plain": [
       "[4, 9, 16]"
      ]
     },
     "execution_count": 36,
     "metadata": {},
     "output_type": "execute_result"
    }
   ],
   "source": [
    "squares_a_list([2,3,4])"
   ]
  },
  {
   "cell_type": "code",
   "execution_count": 38,
   "id": "5e3c96bc-2961-48c9-addf-ee35609ec557",
   "metadata": {},
   "outputs": [
    {
     "name": "stdout",
     "output_type": "stream",
     "text": [
      "[1, 4, 9]\n",
      "[1600, 1936, 2304]\n",
      "[10000, 14400, 40000]\n"
     ]
    }
   ],
   "source": [
    "for list_of_numbers in [[1,2,3], [40, 44, 48], [100, 120, 200]]:\n",
    "    print(squares_a_list(list_of_numbers))"
   ]
  },
  {
   "cell_type": "code",
   "execution_count": null,
   "id": "c9a8051e-8e10-4062-8ba4-05a517dd3677",
   "metadata": {},
   "outputs": [],
   "source": []
  }
 ],
 "metadata": {
  "kernelspec": {
   "display_name": "Python 3 (ipykernel)",
   "language": "python",
   "name": "python3"
  },
  "language_info": {
   "codemirror_mode": {
    "name": "ipython",
    "version": 3
   },
   "file_extension": ".py",
   "mimetype": "text/x-python",
   "name": "python",
   "nbconvert_exporter": "python",
   "pygments_lexer": "ipython3",
   "version": "3.10.8"
  }
 },
 "nbformat": 4,
 "nbformat_minor": 5
}
