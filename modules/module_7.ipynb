{
 "cells": [
  {
   "cell_type": "markdown",
   "id": "6d5bb2a0-20c4-49ce-a734-ca35b4b109bb",
   "metadata": {},
   "source": [
    "# Module 7: Importing Files and the Coding Style Guide"
   ]
  },
  {
   "cell_type": "markdown",
   "id": "28300eb1-ad98-4087-bc69-77ca2394773f",
   "metadata": {},
   "source": [
    "### Importing python libraries"
   ]
  },
  {
   "cell_type": "code",
   "execution_count": 2,
   "id": "320cbc41-d78e-45c6-8093-271ffa4b9f16",
   "metadata": {},
   "outputs": [],
   "source": [
    "import pandas as pd\n",
    "import altair as alt"
   ]
  },
  {
   "cell_type": "code",
   "execution_count": 3,
   "id": "b9f97341-444f-4a57-bbae-f40b6081d17c",
   "metadata": {},
   "outputs": [],
   "source": [
    "from pandas import read_csv"
   ]
  },
  {
   "cell_type": "markdown",
   "id": "d7be83cd-12a0-4840-bd24-028fdbe6e158",
   "metadata": {},
   "source": [
    "### Working with Other Files"
   ]
  },
  {
   "cell_type": "code",
   "execution_count": 4,
   "id": "1fe09dbd-54de-4aec-98f7-100efb063f1f",
   "metadata": {},
   "outputs": [],
   "source": [
    "from exponent_a_list import exponent_a_list"
   ]
  },
  {
   "cell_type": "code",
   "execution_count": 5,
   "id": "a73d7c2d-f2b6-444e-84e8-0e6b36ac0c87",
   "metadata": {},
   "outputs": [
    {
     "data": {
      "text/plain": [
       "[1, 9, 25]"
      ]
     },
     "execution_count": 5,
     "metadata": {},
     "output_type": "execute_result"
    }
   ],
   "source": [
    "exponent_a_list([1,3,5])"
   ]
  },
  {
   "cell_type": "markdown",
   "id": "a9e86957-e5a6-4633-91be-ac55926bae10",
   "metadata": {},
   "source": [
    "### Automatic Style Formatters"
   ]
  },
  {
   "cell_type": "markdown",
   "id": "77d84ea0-75af-421a-8817-0f45f1998d40",
   "metadata": {},
   "source": [
    "**Flake8 and Black**\n",
    "\n",
    "In terminal:\n",
    "\n",
    "* flake8 exponent_a_list.py\n",
    "* flake8-nb module_7.ipynb"
   ]
  },
  {
   "cell_type": "markdown",
   "id": "9f5d3e11-f911-4ecd-80a4-f3ca2a8325a3",
   "metadata": {},
   "source": [
    "In notebook:"
   ]
  },
  {
   "cell_type": "code",
   "execution_count": 7,
   "id": "b700158e-de47-43dd-8f84-8fd098787367",
   "metadata": {
    "tags": []
   },
   "outputs": [
    {
     "name": "stdout",
     "output_type": "stream",
     "text": [
      "exponent_a_list.py:3:80: E501 line too long (81 > 79 characters)\n",
      "exponent_a_list.py:4:1: W293 blank line contains whitespace\n",
      "exponent_a_list.py:11:1: W293 blank line contains whitespace\n",
      "exponent_a_list.py:17:1: W293 blank line contains whitespace\n",
      "exponent_a_list.py:22:1: W293 blank line contains whitespace\n",
      "exponent_a_list.py:25:1: W293 blank line contains whitespace\n",
      "exponent_a_list.py:27:80: E501 line too long (81 > 79 characters)\n",
      "exponent_a_list.py:28:1: W293 blank line contains whitespace\n",
      "exponent_a_list.py:31:1: W293 blank line contains whitespace\n",
      "exponent_a_list.py:32:29: W292 no newline at end of file\n"
     ]
    }
   ],
   "source": [
    "!flake8 exponent_a_list.py"
   ]
  },
  {
   "cell_type": "code",
   "execution_count": 8,
   "id": "815b5821-7423-4754-8e59-cc986dbb9eaf",
   "metadata": {},
   "outputs": [
    {
     "name": "stdout",
     "output_type": "stream",
     "text": [
      "\u001b[1mreformatted exponent_a_list.py\u001b[0m\n",
      "\n",
      "\u001b[1mAll done! ✨ 🍰 ✨\u001b[0m\n",
      "\u001b[34m\u001b[1m1 file \u001b[0m\u001b[1mreformatted\u001b[0m.\n"
     ]
    }
   ],
   "source": [
    "!black exponent_a_list.py"
   ]
  },
  {
   "cell_type": "code",
   "execution_count": 9,
   "id": "81af8275-1922-4da1-8e9b-4c71e6749c5b",
   "metadata": {},
   "outputs": [
    {
     "data": {
      "text/plain": [
       "[1, 25, 49]"
      ]
     },
     "execution_count": 9,
     "metadata": {},
     "output_type": "execute_result"
    }
   ],
   "source": [
    "exponent_a_list([1,5,7])"
   ]
  },
  {
   "cell_type": "markdown",
   "id": "946053d7-f6d8-4952-abf9-66f853c4f0b0",
   "metadata": {},
   "source": [
    "### Formatting That Can't Be Fixed Automatically"
   ]
  },
  {
   "cell_type": "markdown",
   "id": "618fc84f-795a-4cb0-a344-d5ec801de4a1",
   "metadata": {},
   "source": [
    "**Comments**: \n",
    "* Comments should start with a # followed by a single space\n",
    "* They should be complete sentences. The first word should be capitalized unless it is an identifier that begins with a lower case letter.\n",
    "* Comments should be clear and easily understandable to other speakers of the language \n",
    "* For block comments, each line of a block comment should start with a # followed by a single space and should be indented to the same level as the code it precedes. \n",
    "* Commens should reflect what the code is doing\n",
    "\n",
    "**Naming conventions**\n",
    "\n",
    "Some common variable naming recommendations:\n",
    "\n",
    "* Variable names should use underscores\n",
    "* Variable names should be lowercase\n",
    "* Variable names should not contain Python Keywords\n",
    "* Variable names should be meaningful and concise"
   ]
  },
  {
   "cell_type": "markdown",
   "id": "0e404606-f0fc-4e9c-91a1-03535a80cc1a",
   "metadata": {},
   "source": [
    "### The Python Debugger"
   ]
  },
  {
   "cell_type": "markdown",
   "id": "a772e288-f773-424a-8dc7-6849a48b0d5a",
   "metadata": {},
   "source": [
    "`breakpoint()` used to stop code after specified line. It can help explain where your code is failing."
   ]
  },
  {
   "cell_type": "code",
   "execution_count": null,
   "id": "9e5da5f2-9902-46fc-94f2-59587bfa9560",
   "metadata": {},
   "outputs": [],
   "source": []
  }
 ],
 "metadata": {
  "kernelspec": {
   "display_name": "Python 3 (ipykernel)",
   "language": "python",
   "name": "python3"
  },
  "language_info": {
   "codemirror_mode": {
    "name": "ipython",
    "version": 3
   },
   "file_extension": ".py",
   "mimetype": "text/x-python",
   "name": "python",
   "nbconvert_exporter": "python",
   "pygments_lexer": "ipython3",
   "version": "3.10.8"
  }
 },
 "nbformat": 4,
 "nbformat_minor": 5
}
