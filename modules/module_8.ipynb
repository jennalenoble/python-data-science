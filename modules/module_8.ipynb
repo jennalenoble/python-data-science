{
 "cells": [
  {
   "cell_type": "markdown",
   "id": "9a44c3e7-6478-4a77-b22c-d6d1f7d2e435",
   "metadata": {},
   "source": [
    "# Module 8: A Slice of NumPy and Advanced Data Wrangling"
   ]
  },
  {
   "cell_type": "markdown",
   "id": "20237d89-33dc-486b-8496-124b593c8b21",
   "metadata": {},
   "source": [
    "### NumPy and 1D Arrays"
   ]
  },
  {
   "cell_type": "code",
   "execution_count": 30,
   "id": "61a9c658-5c6f-42a0-a5ba-676fe94464a8",
   "metadata": {},
   "outputs": [],
   "source": [
    "import numpy as np\n",
    "import pandas as pd"
   ]
  },
  {
   "cell_type": "code",
   "execution_count": 3,
   "id": "b828b7c4-8623-4d1b-b673-1bcf87e8579b",
   "metadata": {},
   "outputs": [
    {
     "data": {
      "text/plain": [
       "[1, 2, 3, 4]"
      ]
     },
     "execution_count": 3,
     "metadata": {},
     "output_type": "execute_result"
    }
   ],
   "source": [
    "my_list = [1, 2, 3, 4]\n",
    "my_list"
   ]
  },
  {
   "cell_type": "code",
   "execution_count": 4,
   "id": "7f714423-c64c-44d1-9d4e-62c11e95dbe4",
   "metadata": {},
   "outputs": [
    {
     "data": {
      "text/plain": [
       "array([1, 2, 3, 4])"
      ]
     },
     "execution_count": 4,
     "metadata": {},
     "output_type": "execute_result"
    }
   ],
   "source": [
    "my_array = np.array((1, 2, 3, 4))\n",
    "my_array"
   ]
  },
  {
   "cell_type": "code",
   "execution_count": 5,
   "id": "d981dfed-e795-4e8c-8e13-ecaa19bb5ebd",
   "metadata": {},
   "outputs": [],
   "source": [
    "my_list = [1, \"hi\"]"
   ]
  },
  {
   "cell_type": "code",
   "execution_count": 7,
   "id": "47df12ff-f7f5-4bb3-854a-d82c46146b33",
   "metadata": {},
   "outputs": [
    {
     "data": {
      "text/plain": [
       "array(['1', 'hi'], dtype='<U21')"
      ]
     },
     "execution_count": 7,
     "metadata": {},
     "output_type": "execute_result"
    }
   ],
   "source": [
    "my_array = np.array((1, \"hi\"))\n",
    "my_array"
   ]
  },
  {
   "cell_type": "markdown",
   "id": "8f41ca82-b7f3-4b37-be7c-eebc50dc9e01",
   "metadata": {},
   "source": [
    "Array cannot contain different element types."
   ]
  },
  {
   "cell_type": "code",
   "execution_count": 9,
   "id": "711f51c3-9a3a-43ec-8989-41b7e9d68560",
   "metadata": {},
   "outputs": [
    {
     "data": {
      "text/plain": [
       "array([1, 2, 3, 4])"
      ]
     },
     "execution_count": 9,
     "metadata": {},
     "output_type": "execute_result"
    }
   ],
   "source": [
    "my_array = np.array([1, 2, 3, 4])\n",
    "my_array"
   ]
  },
  {
   "cell_type": "code",
   "execution_count": 10,
   "id": "ad0f786b-5493-4dad-93ab-de3752155eea",
   "metadata": {},
   "outputs": [
    {
     "data": {
      "text/plain": [
       "array([0., 0., 0., 0., 0., 0., 0., 0., 0., 0.])"
      ]
     },
     "execution_count": 10,
     "metadata": {},
     "output_type": "execute_result"
    }
   ],
   "source": [
    "np.zeros(10)"
   ]
  },
  {
   "cell_type": "code",
   "execution_count": 11,
   "id": "d7f92795-3a64-4cb8-bdb5-b68073b573ca",
   "metadata": {},
   "outputs": [
    {
     "data": {
      "text/plain": [
       "array([0, 1, 2, 3, 4])"
      ]
     },
     "execution_count": 11,
     "metadata": {},
     "output_type": "execute_result"
    }
   ],
   "source": [
    "np.arange(5)"
   ]
  },
  {
   "cell_type": "code",
   "execution_count": 12,
   "id": "20eed374-ea28-4c5c-a655-3a3a4b23074c",
   "metadata": {},
   "outputs": [
    {
     "data": {
      "text/plain": [
       "array([0, 2, 4, 6, 8])"
      ]
     },
     "execution_count": 12,
     "metadata": {},
     "output_type": "execute_result"
    }
   ],
   "source": [
    "np.arange(0, 10, 2)"
   ]
  },
  {
   "cell_type": "code",
   "execution_count": 13,
   "id": "eaa7a185-96cc-4294-9990-022d9b0ebb38",
   "metadata": {},
   "outputs": [
    {
     "data": {
      "text/plain": [
       "array([1.        , 1.44444444, 1.88888889, 2.33333333, 2.77777778,\n",
       "       3.22222222, 3.66666667, 4.11111111, 4.55555556, 5.        ])"
      ]
     },
     "execution_count": 13,
     "metadata": {},
     "output_type": "execute_result"
    }
   ],
   "source": [
    "np.linspace(1,5,10)"
   ]
  },
  {
   "cell_type": "code",
   "execution_count": 14,
   "id": "20fb276d-5fc5-437e-8f71-103b86b7f479",
   "metadata": {},
   "outputs": [
    {
     "data": {
      "text/plain": [
       "array([0.77089068, 0.9736534 , 0.76169731, 0.76910574, 0.04696362])"
      ]
     },
     "execution_count": 14,
     "metadata": {},
     "output_type": "execute_result"
    }
   ],
   "source": [
    "np.random.rand(5)"
   ]
  },
  {
   "cell_type": "code",
   "execution_count": 15,
   "id": "f068706c-279d-4537-85ef-c53d43379746",
   "metadata": {},
   "outputs": [
    {
     "data": {
      "text/plain": [
       "array([1., 1., 1., 1.])"
      ]
     },
     "execution_count": 15,
     "metadata": {},
     "output_type": "execute_result"
    }
   ],
   "source": [
    "array1 = np.ones(4)\n",
    "array1"
   ]
  },
  {
   "cell_type": "code",
   "execution_count": 17,
   "id": "125ab1a6-f0f0-4032-9bdb-c98c4b3c79e5",
   "metadata": {},
   "outputs": [
    {
     "data": {
      "text/plain": [
       "array([2., 2., 2., 2.])"
      ]
     },
     "execution_count": 17,
     "metadata": {},
     "output_type": "execute_result"
    }
   ],
   "source": [
    "array2 = array1 + 1\n",
    "array2"
   ]
  },
  {
   "cell_type": "code",
   "execution_count": 18,
   "id": "4e7bfedc-e616-4ae7-b526-e51922c3d83b",
   "metadata": {},
   "outputs": [
    {
     "data": {
      "text/plain": [
       "array([3., 3., 3., 3.])"
      ]
     },
     "execution_count": 18,
     "metadata": {},
     "output_type": "execute_result"
    }
   ],
   "source": [
    "array1 + array2"
   ]
  },
  {
   "cell_type": "code",
   "execution_count": 19,
   "id": "862b33af-be09-410d-8473-b96058bcb99b",
   "metadata": {},
   "outputs": [
    {
     "data": {
      "text/plain": [
       "array([2., 2., 2., 2.])"
      ]
     },
     "execution_count": 19,
     "metadata": {},
     "output_type": "execute_result"
    }
   ],
   "source": [
    "array1 * array2"
   ]
  },
  {
   "cell_type": "markdown",
   "id": "3ad7236d-a797-44cc-b6b6-541164a8f038",
   "metadata": {},
   "source": [
    "Can't add lists together"
   ]
  },
  {
   "cell_type": "code",
   "execution_count": 20,
   "id": "b793464a-0fe0-49a6-b22f-a0bf4b2ffe83",
   "metadata": {},
   "outputs": [
    {
     "data": {
      "text/plain": [
       "array([0, 1, 2, 3, 4, 5, 6, 7, 8, 9])"
      ]
     },
     "execution_count": 20,
     "metadata": {},
     "output_type": "execute_result"
    }
   ],
   "source": [
    "arr = np.arange(10)\n",
    "arr"
   ]
  },
  {
   "cell_type": "code",
   "execution_count": 21,
   "id": "4ecc8a4f-0795-4832-bc52-31b60ae5fdf8",
   "metadata": {},
   "outputs": [
    {
     "data": {
      "text/plain": [
       "7"
      ]
     },
     "execution_count": 21,
     "metadata": {},
     "output_type": "execute_result"
    }
   ],
   "source": [
    "arr[7]"
   ]
  },
  {
   "cell_type": "code",
   "execution_count": 22,
   "id": "3bb02daa-b281-4290-a269-a134b7d48cf1",
   "metadata": {},
   "outputs": [
    {
     "data": {
      "text/plain": [
       "array([2, 3, 4, 5])"
      ]
     },
     "execution_count": 22,
     "metadata": {},
     "output_type": "execute_result"
    }
   ],
   "source": [
    "arr[2:6]"
   ]
  },
  {
   "cell_type": "code",
   "execution_count": 23,
   "id": "3b7bdaa8-31ba-4b45-bcff-c8385483d0b2",
   "metadata": {},
   "outputs": [
    {
     "data": {
      "text/plain": [
       "9"
      ]
     },
     "execution_count": 23,
     "metadata": {},
     "output_type": "execute_result"
    }
   ],
   "source": [
    "arr[-1]"
   ]
  },
  {
   "cell_type": "code",
   "execution_count": 24,
   "id": "e1bfd863-bc44-4504-80aa-ac1850e325d1",
   "metadata": {},
   "outputs": [
    {
     "data": {
      "text/plain": [
       "array([ 98,  87, 103,  92,  67, 107,  78, 104,  85, 105])"
      ]
     },
     "execution_count": 24,
     "metadata": {},
     "output_type": "execute_result"
    }
   ],
   "source": [
    "grade_array = np.array([98,87,103,92,67,107,78,104,85,105])\n",
    "grade_array"
   ]
  },
  {
   "cell_type": "code",
   "execution_count": 25,
   "id": "9251ba42-63a9-4ea5-aef8-9e3e739275ae",
   "metadata": {},
   "outputs": [
    {
     "data": {
      "text/plain": [
       "array([False, False,  True, False, False,  True, False,  True, False,\n",
       "        True])"
      ]
     },
     "execution_count": 25,
     "metadata": {},
     "output_type": "execute_result"
    }
   ],
   "source": [
    "threshold = np.array([98,87,103,92,67,107,78,104,85,105]) > 100\n",
    "threshold"
   ]
  },
  {
   "cell_type": "code",
   "execution_count": 26,
   "id": "ec6fd230-9162-4886-8dbb-16946e90fbd9",
   "metadata": {},
   "outputs": [
    {
     "data": {
      "text/plain": [
       "array([ 98,  87, 100,  92,  67, 100,  78, 100,  85, 100])"
      ]
     },
     "execution_count": 26,
     "metadata": {},
     "output_type": "execute_result"
    }
   ],
   "source": [
    "grade_array[threshold] = 100\n",
    "grade_array"
   ]
  },
  {
   "cell_type": "code",
   "execution_count": 27,
   "id": "9ac6c748-3bc4-45a7-958d-1885612b0759",
   "metadata": {},
   "outputs": [],
   "source": [
    "new_grade_array = np.array([98,87,103,92,67,107,78,104,85,105])"
   ]
  },
  {
   "cell_type": "code",
   "execution_count": 28,
   "id": "a81eeb39-0789-414a-a017-9ba97908d649",
   "metadata": {},
   "outputs": [
    {
     "data": {
      "text/plain": [
       "array([ 98,  87, 100,  92,  67, 100,  78, 100,  85, 100])"
      ]
     },
     "execution_count": 28,
     "metadata": {},
     "output_type": "execute_result"
    }
   ],
   "source": [
    "new_grade_array[new_grade_array > 100] = 100\n",
    "new_grade_array"
   ]
  },
  {
   "cell_type": "code",
   "execution_count": 31,
   "id": "eff2c30b-53e5-42a7-bd4e-2740a2c1ab34",
   "metadata": {},
   "outputs": [
    {
     "data": {
      "text/html": [
       "<div>\n",
       "<style scoped>\n",
       "    .dataframe tbody tr th:only-of-type {\n",
       "        vertical-align: middle;\n",
       "    }\n",
       "\n",
       "    .dataframe tbody tr th {\n",
       "        vertical-align: top;\n",
       "    }\n",
       "\n",
       "    .dataframe thead th {\n",
       "        text-align: right;\n",
       "    }\n",
       "</style>\n",
       "<table border=\"1\" class=\"dataframe\">\n",
       "  <thead>\n",
       "    <tr style=\"text-align: right;\">\n",
       "      <th></th>\n",
       "      <th>name</th>\n",
       "      <th>mfr</th>\n",
       "      <th>type</th>\n",
       "      <th>calories</th>\n",
       "      <th>protein</th>\n",
       "      <th>fat</th>\n",
       "      <th>sodium</th>\n",
       "      <th>fiber</th>\n",
       "      <th>carbo</th>\n",
       "      <th>sugars</th>\n",
       "      <th>potass</th>\n",
       "      <th>vitamins</th>\n",
       "      <th>shelf</th>\n",
       "      <th>weight</th>\n",
       "      <th>cups</th>\n",
       "      <th>rating</th>\n",
       "    </tr>\n",
       "  </thead>\n",
       "  <tbody>\n",
       "    <tr>\n",
       "      <th>0</th>\n",
       "      <td>100% Bran</td>\n",
       "      <td>N</td>\n",
       "      <td>Cold</td>\n",
       "      <td>70</td>\n",
       "      <td>4</td>\n",
       "      <td>1</td>\n",
       "      <td>130</td>\n",
       "      <td>10</td>\n",
       "      <td>5</td>\n",
       "      <td>6</td>\n",
       "      <td>280</td>\n",
       "      <td>25</td>\n",
       "      <td>3</td>\n",
       "      <td>1</td>\n",
       "      <td>0.33</td>\n",
       "      <td>68.402973</td>\n",
       "    </tr>\n",
       "    <tr>\n",
       "      <th>1</th>\n",
       "      <td>100% Natural Bran</td>\n",
       "      <td>Q</td>\n",
       "      <td>Cold</td>\n",
       "      <td>120</td>\n",
       "      <td>3</td>\n",
       "      <td>5</td>\n",
       "      <td>15</td>\n",
       "      <td>2</td>\n",
       "      <td>8</td>\n",
       "      <td>8</td>\n",
       "      <td>135</td>\n",
       "      <td>0</td>\n",
       "      <td>3</td>\n",
       "      <td>1</td>\n",
       "      <td>1.00</td>\n",
       "      <td>33.983679</td>\n",
       "    </tr>\n",
       "    <tr>\n",
       "      <th>2</th>\n",
       "      <td>All-Bran</td>\n",
       "      <td>K</td>\n",
       "      <td>Cold</td>\n",
       "      <td>70</td>\n",
       "      <td>4</td>\n",
       "      <td>1</td>\n",
       "      <td>260</td>\n",
       "      <td>9</td>\n",
       "      <td>7</td>\n",
       "      <td>5</td>\n",
       "      <td>320</td>\n",
       "      <td>25</td>\n",
       "      <td>3</td>\n",
       "      <td>1</td>\n",
       "      <td>0.33</td>\n",
       "      <td>59.425505</td>\n",
       "    </tr>\n",
       "    <tr>\n",
       "      <th>3</th>\n",
       "      <td>All-Bran with Extra Fiber</td>\n",
       "      <td>K</td>\n",
       "      <td>Cold</td>\n",
       "      <td>50</td>\n",
       "      <td>4</td>\n",
       "      <td>0</td>\n",
       "      <td>140</td>\n",
       "      <td>14</td>\n",
       "      <td>8</td>\n",
       "      <td>0</td>\n",
       "      <td>330</td>\n",
       "      <td>25</td>\n",
       "      <td>3</td>\n",
       "      <td>1</td>\n",
       "      <td>0.50</td>\n",
       "      <td>93.704912</td>\n",
       "    </tr>\n",
       "    <tr>\n",
       "      <th>4</th>\n",
       "      <td>Almond Delight</td>\n",
       "      <td>R</td>\n",
       "      <td>Cold</td>\n",
       "      <td>110</td>\n",
       "      <td>2</td>\n",
       "      <td>2</td>\n",
       "      <td>200</td>\n",
       "      <td>1</td>\n",
       "      <td>14</td>\n",
       "      <td>8</td>\n",
       "      <td>1</td>\n",
       "      <td>25</td>\n",
       "      <td>3</td>\n",
       "      <td>1</td>\n",
       "      <td>0.75</td>\n",
       "      <td>34.384843</td>\n",
       "    </tr>\n",
       "  </tbody>\n",
       "</table>\n",
       "</div>"
      ],
      "text/plain": [
       "                        name mfr  type  calories  protein  fat  sodium  fiber  \\\n",
       "0                  100% Bran   N  Cold        70        4    1     130     10   \n",
       "1          100% Natural Bran   Q  Cold       120        3    5      15      2   \n",
       "2                   All-Bran   K  Cold        70        4    1     260      9   \n",
       "3  All-Bran with Extra Fiber   K  Cold        50        4    0     140     14   \n",
       "4             Almond Delight   R  Cold       110        2    2     200      1   \n",
       "\n",
       "   carbo  sugars  potass  vitamins  shelf  weight  cups     rating  \n",
       "0      5       6     280        25      3       1  0.33  68.402973  \n",
       "1      8       8     135         0      3       1  1.00  33.983679  \n",
       "2      7       5     320        25      3       1  0.33  59.425505  \n",
       "3      8       0     330        25      3       1  0.50  93.704912  \n",
       "4     14       8       1        25      3       1  0.75  34.384843  "
      ]
     },
     "execution_count": 31,
     "metadata": {},
     "output_type": "execute_result"
    }
   ],
   "source": [
    "cereal = pd.read_csv('https://raw.githubusercontent.com/UBC-MDS/programming-in-python-for-data-science/master/data/cereal.csv', nrows=5)\n",
    "cereal.head()"
   ]
  },
  {
   "cell_type": "code",
   "execution_count": 32,
   "id": "9e36fa1b-94e1-4a66-9e46-9211c03932d8",
   "metadata": {},
   "outputs": [
    {
     "data": {
      "text/plain": [
       "numpy.int64"
      ]
     },
     "execution_count": 32,
     "metadata": {},
     "output_type": "execute_result"
    }
   ],
   "source": [
    "type(cereal.loc[3, 'calories'])"
   ]
  },
  {
   "cell_type": "code",
   "execution_count": 33,
   "id": "da638886-ab67-4a65-bc1d-57d611473fc6",
   "metadata": {},
   "outputs": [
    {
     "data": {
      "text/plain": [
       "array([ 70, 120,  70,  50, 110])"
      ]
     },
     "execution_count": 33,
     "metadata": {},
     "output_type": "execute_result"
    }
   ],
   "source": [
    "cereal['calories'].to_numpy()"
   ]
  },
  {
   "cell_type": "code",
   "execution_count": 34,
   "id": "5b9c17b4-3393-4103-982e-cbc582a534b9",
   "metadata": {},
   "outputs": [
    {
     "data": {
      "text/plain": [
       "3.141592653589793"
      ]
     },
     "execution_count": 34,
     "metadata": {},
     "output_type": "execute_result"
    }
   ],
   "source": [
    "np.pi"
   ]
  },
  {
   "cell_type": "code",
   "execution_count": 35,
   "id": "266eb6ea-10d7-4019-8b7f-eff9a51f0a45",
   "metadata": {},
   "outputs": [
    {
     "data": {
      "text/plain": [
       "inf"
      ]
     },
     "execution_count": 35,
     "metadata": {},
     "output_type": "execute_result"
    }
   ],
   "source": [
    "np.inf"
   ]
  },
  {
   "cell_type": "code",
   "execution_count": 36,
   "id": "2a952e58-1242-4e90-9868-a079b6238bf1",
   "metadata": {},
   "outputs": [
    {
     "data": {
      "text/plain": [
       "6"
      ]
     },
     "execution_count": 36,
     "metadata": {},
     "output_type": "execute_result"
    }
   ],
   "source": [
    "np.prod([2,3,1])"
   ]
  },
  {
   "cell_type": "code",
   "execution_count": 37,
   "id": "c8b8643d-df37-4a64-ab9a-40aa40d308bf",
   "metadata": {},
   "outputs": [
    {
     "data": {
      "text/plain": [
       "array([ 3, 15])"
      ]
     },
     "execution_count": 37,
     "metadata": {},
     "output_type": "execute_result"
    }
   ],
   "source": [
    "np.diff([2,5,20])"
   ]
  },
  {
   "cell_type": "code",
   "execution_count": 38,
   "id": "1c4c7390-3354-46f4-9279-d6dbbd518cee",
   "metadata": {},
   "outputs": [
    {
     "data": {
      "text/plain": [
       "2.0"
      ]
     },
     "execution_count": 38,
     "metadata": {},
     "output_type": "execute_result"
    }
   ],
   "source": [
    "np.log10(100)"
   ]
  },
  {
   "cell_type": "markdown",
   "id": "e56d1a97-489b-4a78-a061-02a6558f84de",
   "metadata": {},
   "source": [
    "### Multi Dimensional Arrays"
   ]
  },
  {
   "cell_type": "code",
   "execution_count": 39,
   "id": "72db9c93-91c7-4cca-a621-00ab3977ed48",
   "metadata": {},
   "outputs": [
    {
     "data": {
      "text/plain": [
       "array([[1, 2],\n",
       "       [3, 4],\n",
       "       [5, 6]])"
      ]
     },
     "execution_count": 39,
     "metadata": {},
     "output_type": "execute_result"
    }
   ],
   "source": [
    "list_2d = [[1,2], [3,4], [5,6]]\n",
    "array_2d = np.array(list_2d)\n",
    "array_2d"
   ]
  },
  {
   "cell_type": "code",
   "execution_count": 40,
   "id": "2f09c3eb-6767-4b5a-8536-d0260af44b67",
   "metadata": {},
   "outputs": [
    {
     "data": {
      "text/plain": [
       "array([[0., 0., 0., 0.],\n",
       "       [0., 0., 0., 0.],\n",
       "       [0., 0., 0., 0.]])"
      ]
     },
     "execution_count": 40,
     "metadata": {},
     "output_type": "execute_result"
    }
   ],
   "source": [
    "np.zeros((3,4))"
   ]
  },
  {
   "cell_type": "code",
   "execution_count": 41,
   "id": "dc049abc-3030-4986-8271-4eefb46acf36",
   "metadata": {},
   "outputs": [
    {
     "data": {
      "text/plain": [
       "array([[0.70141283, 0.14460961],\n",
       "       [0.58015794, 0.2757587 ],\n",
       "       [0.96054629, 0.00972301],\n",
       "       [0.84955202, 0.25142074]])"
      ]
     },
     "execution_count": 41,
     "metadata": {},
     "output_type": "execute_result"
    }
   ],
   "source": [
    "np.random.rand(4,2)"
   ]
  },
  {
   "cell_type": "code",
   "execution_count": 42,
   "id": "bfb0a721-f1c4-484c-a668-8c5410f2b7c1",
   "metadata": {},
   "outputs": [
    {
     "data": {
      "text/plain": [
       "array([[ 0,  1,  2,  3],\n",
       "       [ 4,  5,  6,  7],\n",
       "       [ 8,  9, 10, 11]])"
      ]
     },
     "execution_count": 42,
     "metadata": {},
     "output_type": "execute_result"
    }
   ],
   "source": [
    "np.arange(0,12).reshape(3,4)"
   ]
  },
  {
   "cell_type": "code",
   "execution_count": 46,
   "id": "d3f36e63-60ef-488b-851a-c24ae964a78a",
   "metadata": {},
   "outputs": [
    {
     "data": {
      "text/plain": [
       "array([1., 1., 1., 1.])"
      ]
     },
     "execution_count": 46,
     "metadata": {},
     "output_type": "execute_result"
    }
   ],
   "source": [
    "array1 = np.ones(4)\n",
    "array1"
   ]
  },
  {
   "cell_type": "code",
   "execution_count": 44,
   "id": "82d014f7-ae3e-4101-ab1e-6708ae8e3594",
   "metadata": {},
   "outputs": [
    {
     "data": {
      "text/plain": [
       "1"
      ]
     },
     "execution_count": 44,
     "metadata": {},
     "output_type": "execute_result"
    }
   ],
   "source": [
    "array1.ndim"
   ]
  },
  {
   "cell_type": "code",
   "execution_count": 45,
   "id": "5de774eb-8906-46d7-b8bf-d9e740bc113c",
   "metadata": {},
   "outputs": [
    {
     "data": {
      "text/plain": [
       "(4,)"
      ]
     },
     "execution_count": 45,
     "metadata": {},
     "output_type": "execute_result"
    }
   ],
   "source": [
    "array1.shape"
   ]
  },
  {
   "cell_type": "code",
   "execution_count": 47,
   "id": "64ebcb32-94d6-4b58-976e-2ef4ef5e640e",
   "metadata": {},
   "outputs": [
    {
     "data": {
      "text/plain": [
       "4"
      ]
     },
     "execution_count": 47,
     "metadata": {},
     "output_type": "execute_result"
    }
   ],
   "source": [
    "array1.size"
   ]
  },
  {
   "cell_type": "code",
   "execution_count": 48,
   "id": "630d71f3-fbe9-4226-9ebc-19ec018df6d4",
   "metadata": {},
   "outputs": [
    {
     "data": {
      "text/plain": [
       "array([[1., 1.],\n",
       "       [1., 1.],\n",
       "       [1., 1.]])"
      ]
     },
     "execution_count": 48,
     "metadata": {},
     "output_type": "execute_result"
    }
   ],
   "source": [
    "array_2d = np.ones((3,2))\n",
    "array_2d"
   ]
  },
  {
   "cell_type": "code",
   "execution_count": 50,
   "id": "e82827b0-2785-4dbd-86e6-d5e678fd84e9",
   "metadata": {},
   "outputs": [
    {
     "data": {
      "text/plain": [
       "2"
      ]
     },
     "execution_count": 50,
     "metadata": {},
     "output_type": "execute_result"
    }
   ],
   "source": [
    "array_2d.ndim"
   ]
  },
  {
   "cell_type": "code",
   "execution_count": 51,
   "id": "d2def247-ea84-43e8-9c32-559fb3809a29",
   "metadata": {},
   "outputs": [
    {
     "data": {
      "text/plain": [
       "6"
      ]
     },
     "execution_count": 51,
     "metadata": {},
     "output_type": "execute_result"
    }
   ],
   "source": [
    "array_2d.size"
   ]
  },
  {
   "cell_type": "code",
   "execution_count": 52,
   "id": "b189bf62-7f3e-43f2-aff8-a5769d599108",
   "metadata": {},
   "outputs": [
    {
     "data": {
      "text/plain": [
       "(3, 2)"
      ]
     },
     "execution_count": 52,
     "metadata": {},
     "output_type": "execute_result"
    }
   ],
   "source": [
    "array_2d.shape"
   ]
  },
  {
   "cell_type": "code",
   "execution_count": 53,
   "id": "93f235a8-c616-43aa-a025-dc406207368b",
   "metadata": {},
   "outputs": [
    {
     "data": {
      "text/plain": [
       "2"
      ]
     },
     "execution_count": 53,
     "metadata": {},
     "output_type": "execute_result"
    }
   ],
   "source": [
    "len(array_2d.shape)"
   ]
  },
  {
   "cell_type": "code",
   "execution_count": 54,
   "id": "efd8eb0d-a1d8-404c-8929-95f2b016cb72",
   "metadata": {},
   "outputs": [
    {
     "data": {
      "text/plain": [
       "6"
      ]
     },
     "execution_count": 54,
     "metadata": {},
     "output_type": "execute_result"
    }
   ],
   "source": [
    "np.prod(array_2d.shape)"
   ]
  },
  {
   "cell_type": "code",
   "execution_count": 55,
   "id": "070f4967-7fd5-4d80-a356-984f47b0cc80",
   "metadata": {},
   "outputs": [
    {
     "data": {
      "text/plain": [
       "array([[ 0,  1,  2,  3],\n",
       "       [ 4,  5,  6,  7],\n",
       "       [ 8,  9, 10, 11]])"
      ]
     },
     "execution_count": 55,
     "metadata": {},
     "output_type": "execute_result"
    }
   ],
   "source": [
    "arr2 = np.arange(0,12).reshape(3,4)\n",
    "arr2"
   ]
  },
  {
   "cell_type": "code",
   "execution_count": 56,
   "id": "39ebe2dd-3013-4ead-a4ac-6ce8ebe5a8ff",
   "metadata": {},
   "outputs": [
    {
     "data": {
      "text/plain": [
       "6"
      ]
     },
     "execution_count": 56,
     "metadata": {},
     "output_type": "execute_result"
    }
   ],
   "source": [
    "arr2[1,2]"
   ]
  },
  {
   "cell_type": "code",
   "execution_count": 57,
   "id": "c83857b2-a0dd-4742-83ce-db9d53257451",
   "metadata": {},
   "outputs": [
    {
     "data": {
      "text/plain": [
       "6"
      ]
     },
     "execution_count": 57,
     "metadata": {},
     "output_type": "execute_result"
    }
   ],
   "source": [
    "arr2[1][2]"
   ]
  },
  {
   "cell_type": "code",
   "execution_count": 58,
   "id": "8e180c95-2a97-4579-baea-4c9f10d00db7",
   "metadata": {},
   "outputs": [
    {
     "data": {
      "text/plain": [
       "array([ 8,  9, 10, 11])"
      ]
     },
     "execution_count": 58,
     "metadata": {},
     "output_type": "execute_result"
    }
   ],
   "source": [
    "arr2[2]"
   ]
  },
  {
   "cell_type": "code",
   "execution_count": 59,
   "id": "1766906e-aeed-480d-a59d-e6812a5f4648",
   "metadata": {},
   "outputs": [
    {
     "data": {
      "text/plain": [
       "array([ 2,  6, 10])"
      ]
     },
     "execution_count": 59,
     "metadata": {},
     "output_type": "execute_result"
    }
   ],
   "source": [
    "arr2[:,2]"
   ]
  },
  {
   "cell_type": "code",
   "execution_count": 60,
   "id": "4a3264e2-8624-43c5-8ab9-77342a0806f9",
   "metadata": {},
   "outputs": [
    {
     "data": {
      "text/plain": [
       "array([[1, 2, 3],\n",
       "       [5, 6, 7]])"
      ]
     },
     "execution_count": 60,
     "metadata": {},
     "output_type": "execute_result"
    }
   ],
   "source": [
    "arr2[:2,1:]"
   ]
  },
  {
   "cell_type": "code",
   "execution_count": 61,
   "id": "735f2c04-5172-4931-982e-cf377a3f8b86",
   "metadata": {},
   "outputs": [
    {
     "data": {
      "text/plain": [
       "array([[ 0,  4,  8],\n",
       "       [ 1,  5,  9],\n",
       "       [ 2,  6, 10],\n",
       "       [ 3,  7, 11]])"
      ]
     },
     "execution_count": 61,
     "metadata": {},
     "output_type": "execute_result"
    }
   ],
   "source": [
    "arr2.T"
   ]
  },
  {
   "cell_type": "code",
   "execution_count": 62,
   "id": "81113e85-07fe-4489-bdd4-8a21dacb129c",
   "metadata": {},
   "outputs": [
    {
     "data": {
      "text/plain": [
       "array([[    0,     1,     2,     3],\n",
       "       [    4, 77777,     6,     7],\n",
       "       [    8,     9,    10,    11]])"
      ]
     },
     "execution_count": 62,
     "metadata": {},
     "output_type": "execute_result"
    }
   ],
   "source": [
    "arr2[1,1] = 77777\n",
    "arr2"
   ]
  },
  {
   "cell_type": "markdown",
   "id": "bd8a4b97-a559-43d5-897e-9b5c55deaeea",
   "metadata": {},
   "source": [
    "### Working with Null Values"
   ]
  },
  {
   "cell_type": "code",
   "execution_count": 63,
   "id": "df41667f-2d8b-4cd6-8a44-fd4f73d6a8e4",
   "metadata": {},
   "outputs": [
    {
     "data": {
      "text/plain": [
       "nan"
      ]
     },
     "execution_count": 63,
     "metadata": {},
     "output_type": "execute_result"
    }
   ],
   "source": [
    "np.nan"
   ]
  },
  {
   "cell_type": "code",
   "execution_count": 64,
   "id": "5e61acbb-4078-40a0-8cfe-e4fb9ba69fb7",
   "metadata": {},
   "outputs": [
    {
     "name": "stdout",
     "output_type": "stream",
     "text": [
      "<class 'pandas.core.frame.DataFrame'>\n",
      "RangeIndex: 5 entries, 0 to 4\n",
      "Data columns (total 16 columns):\n",
      " #   Column    Non-Null Count  Dtype  \n",
      "---  ------    --------------  -----  \n",
      " 0   name      5 non-null      object \n",
      " 1   mfr       5 non-null      object \n",
      " 2   type      5 non-null      object \n",
      " 3   calories  5 non-null      int64  \n",
      " 4   protein   5 non-null      int64  \n",
      " 5   fat       5 non-null      int64  \n",
      " 6   sodium    5 non-null      int64  \n",
      " 7   fiber     5 non-null      int64  \n",
      " 8   carbo     5 non-null      int64  \n",
      " 9   sugars    5 non-null      int64  \n",
      " 10  potass    5 non-null      int64  \n",
      " 11  vitamins  5 non-null      int64  \n",
      " 12  shelf     5 non-null      int64  \n",
      " 13  weight    5 non-null      int64  \n",
      " 14  cups      5 non-null      float64\n",
      " 15  rating    5 non-null      float64\n",
      "dtypes: float64(2), int64(11), object(3)\n",
      "memory usage: 768.0+ bytes\n"
     ]
    }
   ],
   "source": [
    "cereal.info()"
   ]
  },
  {
   "cell_type": "code",
   "execution_count": 65,
   "id": "796ce23d-4cea-47d9-9c19-2136ec93e06f",
   "metadata": {},
   "outputs": [
    {
     "data": {
      "text/plain": [
       "0    False\n",
       "1    False\n",
       "2    False\n",
       "3    False\n",
       "4    False\n",
       "Name: cups, dtype: bool"
      ]
     },
     "execution_count": 65,
     "metadata": {},
     "output_type": "execute_result"
    }
   ],
   "source": [
    "cereal['cups'].isnull()"
   ]
  },
  {
   "cell_type": "code",
   "execution_count": 66,
   "id": "2f2a523d-207c-4ddd-88bd-b1a94b218ea0",
   "metadata": {},
   "outputs": [
    {
     "data": {
      "text/html": [
       "<div>\n",
       "<style scoped>\n",
       "    .dataframe tbody tr th:only-of-type {\n",
       "        vertical-align: middle;\n",
       "    }\n",
       "\n",
       "    .dataframe tbody tr th {\n",
       "        vertical-align: top;\n",
       "    }\n",
       "\n",
       "    .dataframe thead th {\n",
       "        text-align: right;\n",
       "    }\n",
       "</style>\n",
       "<table border=\"1\" class=\"dataframe\">\n",
       "  <thead>\n",
       "    <tr style=\"text-align: right;\">\n",
       "      <th></th>\n",
       "      <th>name</th>\n",
       "      <th>mfr</th>\n",
       "      <th>type</th>\n",
       "      <th>calories</th>\n",
       "      <th>protein</th>\n",
       "      <th>fat</th>\n",
       "      <th>sodium</th>\n",
       "      <th>fiber</th>\n",
       "      <th>carbo</th>\n",
       "      <th>sugars</th>\n",
       "      <th>potass</th>\n",
       "      <th>vitamins</th>\n",
       "      <th>shelf</th>\n",
       "      <th>weight</th>\n",
       "      <th>cups</th>\n",
       "      <th>rating</th>\n",
       "    </tr>\n",
       "  </thead>\n",
       "  <tbody>\n",
       "  </tbody>\n",
       "</table>\n",
       "</div>"
      ],
      "text/plain": [
       "Empty DataFrame\n",
       "Columns: [name, mfr, type, calories, protein, fat, sodium, fiber, carbo, sugars, potass, vitamins, shelf, weight, cups, rating]\n",
       "Index: []"
      ]
     },
     "execution_count": 66,
     "metadata": {},
     "output_type": "execute_result"
    }
   ],
   "source": [
    "cereal[cereal['cups'].isnull()]"
   ]
  },
  {
   "cell_type": "code",
   "execution_count": 67,
   "id": "bb9611a8-82da-4d36-b054-4e903ac62446",
   "metadata": {},
   "outputs": [
    {
     "data": {
      "text/html": [
       "<div>\n",
       "<style scoped>\n",
       "    .dataframe tbody tr th:only-of-type {\n",
       "        vertical-align: middle;\n",
       "    }\n",
       "\n",
       "    .dataframe tbody tr th {\n",
       "        vertical-align: top;\n",
       "    }\n",
       "\n",
       "    .dataframe thead th {\n",
       "        text-align: right;\n",
       "    }\n",
       "</style>\n",
       "<table border=\"1\" class=\"dataframe\">\n",
       "  <thead>\n",
       "    <tr style=\"text-align: right;\">\n",
       "      <th></th>\n",
       "      <th>name</th>\n",
       "      <th>mfr</th>\n",
       "      <th>type</th>\n",
       "      <th>calories</th>\n",
       "      <th>protein</th>\n",
       "      <th>fat</th>\n",
       "      <th>sodium</th>\n",
       "      <th>fiber</th>\n",
       "      <th>carbo</th>\n",
       "      <th>sugars</th>\n",
       "      <th>potass</th>\n",
       "      <th>vitamins</th>\n",
       "      <th>shelf</th>\n",
       "      <th>weight</th>\n",
       "      <th>cups</th>\n",
       "      <th>rating</th>\n",
       "    </tr>\n",
       "  </thead>\n",
       "  <tbody>\n",
       "  </tbody>\n",
       "</table>\n",
       "</div>"
      ],
      "text/plain": [
       "Empty DataFrame\n",
       "Columns: [name, mfr, type, calories, protein, fat, sodium, fiber, carbo, sugars, potass, vitamins, shelf, weight, cups, rating]\n",
       "Index: []"
      ]
     },
     "execution_count": 67,
     "metadata": {},
     "output_type": "execute_result"
    }
   ],
   "source": [
    "cereal[cereal.isnull().any(axis=1)]"
   ]
  },
  {
   "cell_type": "code",
   "execution_count": 69,
   "id": "a8f44db8-8160-4f55-8f0d-0dd7bf0fd52c",
   "metadata": {},
   "outputs": [
    {
     "data": {
      "text/html": [
       "<div>\n",
       "<style scoped>\n",
       "    .dataframe tbody tr th:only-of-type {\n",
       "        vertical-align: middle;\n",
       "    }\n",
       "\n",
       "    .dataframe tbody tr th {\n",
       "        vertical-align: top;\n",
       "    }\n",
       "\n",
       "    .dataframe thead th {\n",
       "        text-align: right;\n",
       "    }\n",
       "</style>\n",
       "<table border=\"1\" class=\"dataframe\">\n",
       "  <thead>\n",
       "    <tr style=\"text-align: right;\">\n",
       "      <th></th>\n",
       "      <th>name</th>\n",
       "      <th>mfr</th>\n",
       "      <th>type</th>\n",
       "      <th>calories</th>\n",
       "      <th>protein</th>\n",
       "      <th>fat</th>\n",
       "      <th>sodium</th>\n",
       "      <th>fiber</th>\n",
       "      <th>carbo</th>\n",
       "      <th>sugars</th>\n",
       "      <th>potass</th>\n",
       "      <th>vitamins</th>\n",
       "      <th>shelf</th>\n",
       "      <th>weight</th>\n",
       "      <th>cups</th>\n",
       "      <th>rating</th>\n",
       "    </tr>\n",
       "  </thead>\n",
       "  <tbody>\n",
       "    <tr>\n",
       "      <th>0</th>\n",
       "      <td>100% Bran</td>\n",
       "      <td>N</td>\n",
       "      <td>Cold</td>\n",
       "      <td>70</td>\n",
       "      <td>4</td>\n",
       "      <td>1</td>\n",
       "      <td>130</td>\n",
       "      <td>10</td>\n",
       "      <td>5</td>\n",
       "      <td>6</td>\n",
       "      <td>280</td>\n",
       "      <td>25</td>\n",
       "      <td>3</td>\n",
       "      <td>1</td>\n",
       "      <td>0.33</td>\n",
       "      <td>68.402973</td>\n",
       "    </tr>\n",
       "    <tr>\n",
       "      <th>1</th>\n",
       "      <td>100% Natural Bran</td>\n",
       "      <td>Q</td>\n",
       "      <td>Cold</td>\n",
       "      <td>120</td>\n",
       "      <td>3</td>\n",
       "      <td>5</td>\n",
       "      <td>15</td>\n",
       "      <td>2</td>\n",
       "      <td>8</td>\n",
       "      <td>8</td>\n",
       "      <td>135</td>\n",
       "      <td>0</td>\n",
       "      <td>3</td>\n",
       "      <td>1</td>\n",
       "      <td>1.00</td>\n",
       "      <td>33.983679</td>\n",
       "    </tr>\n",
       "    <tr>\n",
       "      <th>2</th>\n",
       "      <td>All-Bran</td>\n",
       "      <td>K</td>\n",
       "      <td>Cold</td>\n",
       "      <td>70</td>\n",
       "      <td>4</td>\n",
       "      <td>1</td>\n",
       "      <td>260</td>\n",
       "      <td>9</td>\n",
       "      <td>7</td>\n",
       "      <td>5</td>\n",
       "      <td>320</td>\n",
       "      <td>25</td>\n",
       "      <td>3</td>\n",
       "      <td>1</td>\n",
       "      <td>0.33</td>\n",
       "      <td>59.425505</td>\n",
       "    </tr>\n",
       "    <tr>\n",
       "      <th>3</th>\n",
       "      <td>All-Bran with Extra Fiber</td>\n",
       "      <td>K</td>\n",
       "      <td>Cold</td>\n",
       "      <td>50</td>\n",
       "      <td>4</td>\n",
       "      <td>0</td>\n",
       "      <td>140</td>\n",
       "      <td>14</td>\n",
       "      <td>8</td>\n",
       "      <td>0</td>\n",
       "      <td>330</td>\n",
       "      <td>25</td>\n",
       "      <td>3</td>\n",
       "      <td>1</td>\n",
       "      <td>0.50</td>\n",
       "      <td>93.704912</td>\n",
       "    </tr>\n",
       "    <tr>\n",
       "      <th>4</th>\n",
       "      <td>Almond Delight</td>\n",
       "      <td>R</td>\n",
       "      <td>Cold</td>\n",
       "      <td>110</td>\n",
       "      <td>2</td>\n",
       "      <td>2</td>\n",
       "      <td>200</td>\n",
       "      <td>1</td>\n",
       "      <td>14</td>\n",
       "      <td>8</td>\n",
       "      <td>1</td>\n",
       "      <td>25</td>\n",
       "      <td>3</td>\n",
       "      <td>1</td>\n",
       "      <td>0.75</td>\n",
       "      <td>34.384843</td>\n",
       "    </tr>\n",
       "  </tbody>\n",
       "</table>\n",
       "</div>"
      ],
      "text/plain": [
       "                        name mfr  type  calories  protein  fat  sodium  fiber  \\\n",
       "0                  100% Bran   N  Cold        70        4    1     130     10   \n",
       "1          100% Natural Bran   Q  Cold       120        3    5      15      2   \n",
       "2                   All-Bran   K  Cold        70        4    1     260      9   \n",
       "3  All-Bran with Extra Fiber   K  Cold        50        4    0     140     14   \n",
       "4             Almond Delight   R  Cold       110        2    2     200      1   \n",
       "\n",
       "   carbo  sugars  potass  vitamins  shelf  weight  cups     rating  \n",
       "0      5       6     280        25      3       1  0.33  68.402973  \n",
       "1      8       8     135         0      3       1  1.00  33.983679  \n",
       "2      7       5     320        25      3       1  0.33  59.425505  \n",
       "3      8       0     330        25      3       1  0.50  93.704912  \n",
       "4     14       8       1        25      3       1  0.75  34.384843  "
      ]
     },
     "execution_count": 69,
     "metadata": {},
     "output_type": "execute_result"
    }
   ],
   "source": [
    "na_removed = cereal.dropna()\n",
    "na_removed"
   ]
  },
  {
   "cell_type": "code",
   "execution_count": 77,
   "id": "59fa3941-076f-47db-89e0-d03271fd7ee8",
   "metadata": {},
   "outputs": [],
   "source": [
    "cereal.dropna(subset=['cups']); # drop na from specific column"
   ]
  },
  {
   "cell_type": "code",
   "execution_count": 78,
   "id": "8ea0abf9-b4ef-4e27-89c0-afbe11d460e1",
   "metadata": {},
   "outputs": [],
   "source": [
    "cereal_zero_fill = cereal.fillna(value=0) # replace nan with 0"
   ]
  },
  {
   "cell_type": "code",
   "execution_count": 73,
   "id": "e63e0281-cbfd-4077-adfa-41597ce0c6b7",
   "metadata": {},
   "outputs": [],
   "source": [
    "cereal_mean_fill = cereal.fillna(value=cereal['cups'].mean().round(2))"
   ]
  },
  {
   "cell_type": "code",
   "execution_count": 75,
   "id": "5527f434-39ab-42b7-b03c-30744ad77f19",
   "metadata": {},
   "outputs": [],
   "source": [
    "cereal.fillna(method='bfill'); # uses next valid row observation to fill na"
   ]
  },
  {
   "cell_type": "code",
   "execution_count": 79,
   "id": "007d99a8-181b-47f5-a2d3-58c52ab8113a",
   "metadata": {},
   "outputs": [],
   "source": [
    "cereal.fillna(method='ffill'); # ffill has the NaN value adopt the same value and the row that precedes it."
   ]
  },
  {
   "cell_type": "markdown",
   "id": "5354b64c-f945-4e0c-8127-602daa1763b3",
   "metadata": {},
   "source": [
    "### Working with Dates & Time"
   ]
  },
  {
   "cell_type": "code",
   "execution_count": 95,
   "id": "2e4c48fd-567b-45f9-8705-31685675973d",
   "metadata": {},
   "outputs": [
    {
     "data": {
      "text/html": [
       "<div>\n",
       "<style scoped>\n",
       "    .dataframe tbody tr th:only-of-type {\n",
       "        vertical-align: middle;\n",
       "    }\n",
       "\n",
       "    .dataframe tbody tr th {\n",
       "        vertical-align: top;\n",
       "    }\n",
       "\n",
       "    .dataframe thead th {\n",
       "        text-align: right;\n",
       "    }\n",
       "</style>\n",
       "<table border=\"1\" class=\"dataframe\">\n",
       "  <thead>\n",
       "    <tr style=\"text-align: right;\">\n",
       "      <th></th>\n",
       "      <th>Date/Time</th>\n",
       "      <th>Lat</th>\n",
       "      <th>Lon</th>\n",
       "    </tr>\n",
       "  </thead>\n",
       "  <tbody>\n",
       "    <tr>\n",
       "      <th>0</th>\n",
       "      <td>2014-08-08 15:45:00</td>\n",
       "      <td>40.7141</td>\n",
       "      <td>-73.9827</td>\n",
       "    </tr>\n",
       "    <tr>\n",
       "      <th>1</th>\n",
       "      <td>2014-08-08 15:46:00</td>\n",
       "      <td>40.6916</td>\n",
       "      <td>-73.9845</td>\n",
       "    </tr>\n",
       "    <tr>\n",
       "      <th>2</th>\n",
       "      <td>2014-08-08 15:46:00</td>\n",
       "      <td>40.6463</td>\n",
       "      <td>-73.7895</td>\n",
       "    </tr>\n",
       "    <tr>\n",
       "      <th>3</th>\n",
       "      <td>2014-08-08 15:46:00</td>\n",
       "      <td>40.6632</td>\n",
       "      <td>-73.7223</td>\n",
       "    </tr>\n",
       "    <tr>\n",
       "      <th>4</th>\n",
       "      <td>2014-08-08 15:46:00</td>\n",
       "      <td>40.7556</td>\n",
       "      <td>-73.9910</td>\n",
       "    </tr>\n",
       "  </tbody>\n",
       "</table>\n",
       "</div>"
      ],
      "text/plain": [
       "             Date/Time      Lat      Lon\n",
       "0  2014-08-08 15:45:00  40.7141 -73.9827\n",
       "1  2014-08-08 15:46:00  40.6916 -73.9845\n",
       "2  2014-08-08 15:46:00  40.6463 -73.7895\n",
       "3  2014-08-08 15:46:00  40.6632 -73.7223\n",
       "4  2014-08-08 15:46:00  40.7556 -73.9910"
      ]
     },
     "execution_count": 95,
     "metadata": {},
     "output_type": "execute_result"
    }
   ],
   "source": [
    "ubers = pd.read_csv(\"https://raw.githubusercontent.com/plotly/datasets/master/uber-rides-data3.csv\", nrows=50)\n",
    "ubers.head()"
   ]
  },
  {
   "cell_type": "code",
   "execution_count": 89,
   "id": "7d8fd23a-7e82-4a9d-be3d-b3f96df14127",
   "metadata": {},
   "outputs": [
    {
     "data": {
      "text/html": [
       "<div>\n",
       "<style scoped>\n",
       "    .dataframe tbody tr th:only-of-type {\n",
       "        vertical-align: middle;\n",
       "    }\n",
       "\n",
       "    .dataframe tbody tr th {\n",
       "        vertical-align: top;\n",
       "    }\n",
       "\n",
       "    .dataframe thead th {\n",
       "        text-align: right;\n",
       "    }\n",
       "</style>\n",
       "<table border=\"1\" class=\"dataframe\">\n",
       "  <thead>\n",
       "    <tr style=\"text-align: right;\">\n",
       "      <th></th>\n",
       "      <th>Date</th>\n",
       "      <th>Time</th>\n",
       "    </tr>\n",
       "  </thead>\n",
       "  <tbody>\n",
       "    <tr>\n",
       "      <th>0</th>\n",
       "      <td>2014-08-08</td>\n",
       "      <td>15:45:00</td>\n",
       "    </tr>\n",
       "    <tr>\n",
       "      <th>1</th>\n",
       "      <td>2014-08-08</td>\n",
       "      <td>15:46:00</td>\n",
       "    </tr>\n",
       "    <tr>\n",
       "      <th>2</th>\n",
       "      <td>2014-08-08</td>\n",
       "      <td>15:46:00</td>\n",
       "    </tr>\n",
       "    <tr>\n",
       "      <th>3</th>\n",
       "      <td>2014-08-08</td>\n",
       "      <td>15:46:00</td>\n",
       "    </tr>\n",
       "    <tr>\n",
       "      <th>4</th>\n",
       "      <td>2014-08-08</td>\n",
       "      <td>15:46:00</td>\n",
       "    </tr>\n",
       "  </tbody>\n",
       "</table>\n",
       "</div>"
      ],
      "text/plain": [
       "         Date      Time\n",
       "0  2014-08-08  15:45:00\n",
       "1  2014-08-08  15:46:00\n",
       "2  2014-08-08  15:46:00\n",
       "3  2014-08-08  15:46:00\n",
       "4  2014-08-08  15:46:00"
      ]
     },
     "execution_count": 89,
     "metadata": {},
     "output_type": "execute_result"
    }
   ],
   "source": [
    "dates = (ubers['Date/Time'].str.split(' ', expand=True).rename(columns={0: 'Date',\n",
    "                                                                        1: 'Time'}))\n",
    "dates.head()"
   ]
  },
  {
   "cell_type": "code",
   "execution_count": 90,
   "id": "147c2768-339d-4252-9986-5352a8636000",
   "metadata": {},
   "outputs": [
    {
     "data": {
      "text/html": [
       "<div>\n",
       "<style scoped>\n",
       "    .dataframe tbody tr th:only-of-type {\n",
       "        vertical-align: middle;\n",
       "    }\n",
       "\n",
       "    .dataframe tbody tr th {\n",
       "        vertical-align: top;\n",
       "    }\n",
       "\n",
       "    .dataframe thead th {\n",
       "        text-align: right;\n",
       "    }\n",
       "</style>\n",
       "<table border=\"1\" class=\"dataframe\">\n",
       "  <thead>\n",
       "    <tr style=\"text-align: right;\">\n",
       "      <th></th>\n",
       "      <th>Year</th>\n",
       "      <th>Month</th>\n",
       "      <th>Day</th>\n",
       "    </tr>\n",
       "  </thead>\n",
       "  <tbody>\n",
       "    <tr>\n",
       "      <th>0</th>\n",
       "      <td>2014</td>\n",
       "      <td>08</td>\n",
       "      <td>08</td>\n",
       "    </tr>\n",
       "    <tr>\n",
       "      <th>1</th>\n",
       "      <td>2014</td>\n",
       "      <td>08</td>\n",
       "      <td>08</td>\n",
       "    </tr>\n",
       "    <tr>\n",
       "      <th>2</th>\n",
       "      <td>2014</td>\n",
       "      <td>08</td>\n",
       "      <td>08</td>\n",
       "    </tr>\n",
       "    <tr>\n",
       "      <th>3</th>\n",
       "      <td>2014</td>\n",
       "      <td>08</td>\n",
       "      <td>08</td>\n",
       "    </tr>\n",
       "    <tr>\n",
       "      <th>4</th>\n",
       "      <td>2014</td>\n",
       "      <td>08</td>\n",
       "      <td>08</td>\n",
       "    </tr>\n",
       "  </tbody>\n",
       "</table>\n",
       "</div>"
      ],
      "text/plain": [
       "   Year Month Day\n",
       "0  2014    08  08\n",
       "1  2014    08  08\n",
       "2  2014    08  08\n",
       "3  2014    08  08\n",
       "4  2014    08  08"
      ]
     },
     "execution_count": 90,
     "metadata": {},
     "output_type": "execute_result"
    }
   ],
   "source": [
    "dates = (dates['Date'].str.split('-', expand=True).rename(columns = {0: 'Year',\n",
    "                                                                     1: 'Month',\n",
    "                                                                     2: 'Day'}))\n",
    "dates.head()"
   ]
  },
  {
   "cell_type": "code",
   "execution_count": 91,
   "id": "282fd971-1a1a-4334-bbbc-a6e7500479ca",
   "metadata": {},
   "outputs": [
    {
     "data": {
      "text/plain": [
       "'08'"
      ]
     },
     "execution_count": 91,
     "metadata": {},
     "output_type": "execute_result"
    }
   ],
   "source": [
    "dates.iloc[0,1]"
   ]
  },
  {
   "cell_type": "code",
   "execution_count": 92,
   "id": "b400b7ca-e1bd-457f-8cc7-1988cff314b5",
   "metadata": {},
   "outputs": [
    {
     "data": {
      "text/html": [
       "<div>\n",
       "<style scoped>\n",
       "    .dataframe tbody tr th:only-of-type {\n",
       "        vertical-align: middle;\n",
       "    }\n",
       "\n",
       "    .dataframe tbody tr th {\n",
       "        vertical-align: top;\n",
       "    }\n",
       "\n",
       "    .dataframe thead th {\n",
       "        text-align: right;\n",
       "    }\n",
       "</style>\n",
       "<table border=\"1\" class=\"dataframe\">\n",
       "  <thead>\n",
       "    <tr style=\"text-align: right;\">\n",
       "      <th></th>\n",
       "      <th>Date/Time</th>\n",
       "      <th>Lat</th>\n",
       "      <th>Lon</th>\n",
       "      <th>Year</th>\n",
       "      <th>Month</th>\n",
       "      <th>Day</th>\n",
       "    </tr>\n",
       "  </thead>\n",
       "  <tbody>\n",
       "    <tr>\n",
       "      <th>0</th>\n",
       "      <td>2014-08-08 15:45:00</td>\n",
       "      <td>40.7141</td>\n",
       "      <td>-73.9827</td>\n",
       "      <td>2014</td>\n",
       "      <td>08</td>\n",
       "      <td>8</td>\n",
       "    </tr>\n",
       "    <tr>\n",
       "      <th>1</th>\n",
       "      <td>2014-08-08 15:46:00</td>\n",
       "      <td>40.6916</td>\n",
       "      <td>-73.9845</td>\n",
       "      <td>2014</td>\n",
       "      <td>08</td>\n",
       "      <td>8</td>\n",
       "    </tr>\n",
       "    <tr>\n",
       "      <th>2</th>\n",
       "      <td>2014-08-08 15:46:00</td>\n",
       "      <td>40.6463</td>\n",
       "      <td>-73.7895</td>\n",
       "      <td>2014</td>\n",
       "      <td>08</td>\n",
       "      <td>8</td>\n",
       "    </tr>\n",
       "  </tbody>\n",
       "</table>\n",
       "</div>"
      ],
      "text/plain": [
       "             Date/Time      Lat      Lon  Year Month  Day\n",
       "0  2014-08-08 15:45:00  40.7141 -73.9827  2014    08    8\n",
       "1  2014-08-08 15:46:00  40.6916 -73.9845  2014    08    8\n",
       "2  2014-08-08 15:46:00  40.6463 -73.7895  2014    08    8"
      ]
     },
     "execution_count": 92,
     "metadata": {},
     "output_type": "execute_result"
    }
   ],
   "source": [
    "ubers_dates = (ubers.assign(Year = dates['Year'].astype(int),\n",
    "                            Month = dates['Month'],\n",
    "                            Day = dates['Day'].astype(int)))\n",
    "ubers_dates.head(3)"
   ]
  },
  {
   "cell_type": "code",
   "execution_count": 93,
   "id": "8164b7e3-80d2-4a27-8bf5-5ea9ea3a83d4",
   "metadata": {},
   "outputs": [
    {
     "data": {
      "text/html": [
       "<div>\n",
       "<style scoped>\n",
       "    .dataframe tbody tr th:only-of-type {\n",
       "        vertical-align: middle;\n",
       "    }\n",
       "\n",
       "    .dataframe tbody tr th {\n",
       "        vertical-align: top;\n",
       "    }\n",
       "\n",
       "    .dataframe thead th {\n",
       "        text-align: right;\n",
       "    }\n",
       "</style>\n",
       "<table border=\"1\" class=\"dataframe\">\n",
       "  <thead>\n",
       "    <tr style=\"text-align: right;\">\n",
       "      <th></th>\n",
       "      <th>Year</th>\n",
       "      <th>Month</th>\n",
       "      <th>Day</th>\n",
       "      <th>Lat</th>\n",
       "      <th>Lon</th>\n",
       "    </tr>\n",
       "  </thead>\n",
       "  <tbody>\n",
       "    <tr>\n",
       "      <th>0</th>\n",
       "      <td>2014</td>\n",
       "      <td>08</td>\n",
       "      <td>8</td>\n",
       "      <td>40.7141</td>\n",
       "      <td>-73.9827</td>\n",
       "    </tr>\n",
       "    <tr>\n",
       "      <th>1</th>\n",
       "      <td>2014</td>\n",
       "      <td>08</td>\n",
       "      <td>8</td>\n",
       "      <td>40.6916</td>\n",
       "      <td>-73.9845</td>\n",
       "    </tr>\n",
       "    <tr>\n",
       "      <th>2</th>\n",
       "      <td>2014</td>\n",
       "      <td>08</td>\n",
       "      <td>8</td>\n",
       "      <td>40.6463</td>\n",
       "      <td>-73.7895</td>\n",
       "    </tr>\n",
       "  </tbody>\n",
       "</table>\n",
       "</div>"
      ],
      "text/plain": [
       "   Year Month  Day      Lat      Lon\n",
       "0  2014    08    8  40.7141 -73.9827\n",
       "1  2014    08    8  40.6916 -73.9845\n",
       "2  2014    08    8  40.6463 -73.7895"
      ]
     },
     "execution_count": 93,
     "metadata": {},
     "output_type": "execute_result"
    }
   ],
   "source": [
    "uber_dates = ubers_dates.loc[:, ['Year', 'Month', 'Day', 'Lat', 'Lon']]\n",
    "uber_dates.head(3)"
   ]
  },
  {
   "cell_type": "code",
   "execution_count": 94,
   "id": "c151e201-9f2a-4b20-bd3c-e5603a02faea",
   "metadata": {},
   "outputs": [
    {
     "data": {
      "text/html": [
       "<div>\n",
       "<style scoped>\n",
       "    .dataframe tbody tr th:only-of-type {\n",
       "        vertical-align: middle;\n",
       "    }\n",
       "\n",
       "    .dataframe tbody tr th {\n",
       "        vertical-align: top;\n",
       "    }\n",
       "\n",
       "    .dataframe thead th {\n",
       "        text-align: right;\n",
       "    }\n",
       "</style>\n",
       "<table border=\"1\" class=\"dataframe\">\n",
       "  <thead>\n",
       "    <tr style=\"text-align: right;\">\n",
       "      <th></th>\n",
       "      <th>Year</th>\n",
       "      <th>Month</th>\n",
       "      <th>Day</th>\n",
       "      <th>Lat</th>\n",
       "      <th>Lon</th>\n",
       "    </tr>\n",
       "  </thead>\n",
       "  <tbody>\n",
       "    <tr>\n",
       "      <th>261435</th>\n",
       "      <td>2014</td>\n",
       "      <td>08</td>\n",
       "      <td>1</td>\n",
       "      <td>40.7325</td>\n",
       "      <td>-73.9876</td>\n",
       "    </tr>\n",
       "    <tr>\n",
       "      <th>261436</th>\n",
       "      <td>2014</td>\n",
       "      <td>08</td>\n",
       "      <td>1</td>\n",
       "      <td>40.6754</td>\n",
       "      <td>-74.0170</td>\n",
       "    </tr>\n",
       "    <tr>\n",
       "      <th>261437</th>\n",
       "      <td>2014</td>\n",
       "      <td>08</td>\n",
       "      <td>1</td>\n",
       "      <td>40.7303</td>\n",
       "      <td>-74.0029</td>\n",
       "    </tr>\n",
       "    <tr>\n",
       "      <th>261438</th>\n",
       "      <td>2014</td>\n",
       "      <td>08</td>\n",
       "      <td>1</td>\n",
       "      <td>40.7218</td>\n",
       "      <td>-73.9973</td>\n",
       "    </tr>\n",
       "    <tr>\n",
       "      <th>261439</th>\n",
       "      <td>2014</td>\n",
       "      <td>08</td>\n",
       "      <td>1</td>\n",
       "      <td>40.7134</td>\n",
       "      <td>-74.0091</td>\n",
       "    </tr>\n",
       "    <tr>\n",
       "      <th>...</th>\n",
       "      <td>...</td>\n",
       "      <td>...</td>\n",
       "      <td>...</td>\n",
       "      <td>...</td>\n",
       "      <td>...</td>\n",
       "    </tr>\n",
       "    <tr>\n",
       "      <th>1511437</th>\n",
       "      <td>2014</td>\n",
       "      <td>09</td>\n",
       "      <td>30</td>\n",
       "      <td>40.7668</td>\n",
       "      <td>-73.9845</td>\n",
       "    </tr>\n",
       "    <tr>\n",
       "      <th>1511438</th>\n",
       "      <td>2014</td>\n",
       "      <td>09</td>\n",
       "      <td>30</td>\n",
       "      <td>40.6911</td>\n",
       "      <td>-74.1773</td>\n",
       "    </tr>\n",
       "    <tr>\n",
       "      <th>1511439</th>\n",
       "      <td>2014</td>\n",
       "      <td>09</td>\n",
       "      <td>30</td>\n",
       "      <td>40.8519</td>\n",
       "      <td>-73.9319</td>\n",
       "    </tr>\n",
       "    <tr>\n",
       "      <th>1511440</th>\n",
       "      <td>2014</td>\n",
       "      <td>09</td>\n",
       "      <td>30</td>\n",
       "      <td>40.7081</td>\n",
       "      <td>-74.0066</td>\n",
       "    </tr>\n",
       "    <tr>\n",
       "      <th>1511441</th>\n",
       "      <td>2014</td>\n",
       "      <td>09</td>\n",
       "      <td>30</td>\n",
       "      <td>40.7140</td>\n",
       "      <td>-73.9496</td>\n",
       "    </tr>\n",
       "  </tbody>\n",
       "</table>\n",
       "<p>1511442 rows × 5 columns</p>\n",
       "</div>"
      ],
      "text/plain": [
       "         Year Month  Day      Lat      Lon\n",
       "261435   2014    08    1  40.7325 -73.9876\n",
       "261436   2014    08    1  40.6754 -74.0170\n",
       "261437   2014    08    1  40.7303 -74.0029\n",
       "261438   2014    08    1  40.7218 -73.9973\n",
       "261439   2014    08    1  40.7134 -74.0091\n",
       "...       ...   ...  ...      ...      ...\n",
       "1511437  2014    09   30  40.7668 -73.9845\n",
       "1511438  2014    09   30  40.6911 -74.1773\n",
       "1511439  2014    09   30  40.8519 -73.9319\n",
       "1511440  2014    09   30  40.7081 -74.0066\n",
       "1511441  2014    09   30  40.7140 -73.9496\n",
       "\n",
       "[1511442 rows x 5 columns]"
      ]
     },
     "execution_count": 94,
     "metadata": {},
     "output_type": "execute_result"
    }
   ],
   "source": [
    "uber_dates.sort_values(['Year', 'Month', 'Day'])"
   ]
  },
  {
   "cell_type": "code",
   "execution_count": 97,
   "id": "e42a6cc5-c9fe-4e81-a20d-a6e5c2242152",
   "metadata": {},
   "outputs": [],
   "source": [
    "uber = pd.read_csv(\"https://raw.githubusercontent.com/plotly/datasets/master/uber-rides-data3.csv\", nrows = 50,\n",
    "                   parse_dates = ['Date/Time'])"
   ]
  },
  {
   "cell_type": "code",
   "execution_count": 98,
   "id": "4484b219-def6-437e-8e4f-bd572f23f71a",
   "metadata": {},
   "outputs": [
    {
     "data": {
      "text/html": [
       "<div>\n",
       "<style scoped>\n",
       "    .dataframe tbody tr th:only-of-type {\n",
       "        vertical-align: middle;\n",
       "    }\n",
       "\n",
       "    .dataframe tbody tr th {\n",
       "        vertical-align: top;\n",
       "    }\n",
       "\n",
       "    .dataframe thead th {\n",
       "        text-align: right;\n",
       "    }\n",
       "</style>\n",
       "<table border=\"1\" class=\"dataframe\">\n",
       "  <thead>\n",
       "    <tr style=\"text-align: right;\">\n",
       "      <th></th>\n",
       "      <th>Date/Time</th>\n",
       "      <th>Lat</th>\n",
       "      <th>Lon</th>\n",
       "    </tr>\n",
       "  </thead>\n",
       "  <tbody>\n",
       "    <tr>\n",
       "      <th>0</th>\n",
       "      <td>2014-08-08 15:45:00</td>\n",
       "      <td>40.7141</td>\n",
       "      <td>-73.9827</td>\n",
       "    </tr>\n",
       "    <tr>\n",
       "      <th>1</th>\n",
       "      <td>2014-08-08 15:46:00</td>\n",
       "      <td>40.6916</td>\n",
       "      <td>-73.9845</td>\n",
       "    </tr>\n",
       "    <tr>\n",
       "      <th>2</th>\n",
       "      <td>2014-08-08 15:46:00</td>\n",
       "      <td>40.6463</td>\n",
       "      <td>-73.7895</td>\n",
       "    </tr>\n",
       "  </tbody>\n",
       "</table>\n",
       "</div>"
      ],
      "text/plain": [
       "            Date/Time      Lat      Lon\n",
       "0 2014-08-08 15:45:00  40.7141 -73.9827\n",
       "1 2014-08-08 15:46:00  40.6916 -73.9845\n",
       "2 2014-08-08 15:46:00  40.6463 -73.7895"
      ]
     },
     "execution_count": 98,
     "metadata": {},
     "output_type": "execute_result"
    }
   ],
   "source": [
    "uber.head(3)"
   ]
  },
  {
   "cell_type": "code",
   "execution_count": 101,
   "id": "b774c27b-29b2-4678-8108-7237d067e466",
   "metadata": {},
   "outputs": [
    {
     "data": {
      "text/plain": [
       "Date/Time    datetime64[ns]\n",
       "Lat                 float64\n",
       "Lon                 float64\n",
       "dtype: object"
      ]
     },
     "execution_count": 101,
     "metadata": {},
     "output_type": "execute_result"
    }
   ],
   "source": [
    "uber.dtypes"
   ]
  },
  {
   "cell_type": "code",
   "execution_count": 103,
   "id": "9920663e-859d-46ed-a9d5-7ba77c7fc715",
   "metadata": {},
   "outputs": [
    {
     "data": {
      "text/html": [
       "<div>\n",
       "<style scoped>\n",
       "    .dataframe tbody tr th:only-of-type {\n",
       "        vertical-align: middle;\n",
       "    }\n",
       "\n",
       "    .dataframe tbody tr th {\n",
       "        vertical-align: top;\n",
       "    }\n",
       "\n",
       "    .dataframe thead th {\n",
       "        text-align: right;\n",
       "    }\n",
       "</style>\n",
       "<table border=\"1\" class=\"dataframe\">\n",
       "  <thead>\n",
       "    <tr style=\"text-align: right;\">\n",
       "      <th></th>\n",
       "      <th>Date/Time</th>\n",
       "      <th>Lat</th>\n",
       "      <th>Lon</th>\n",
       "    </tr>\n",
       "  </thead>\n",
       "  <tbody>\n",
       "    <tr>\n",
       "      <th>0</th>\n",
       "      <td>2014-08-08 15:45:00</td>\n",
       "      <td>40.7141</td>\n",
       "      <td>-73.9827</td>\n",
       "    </tr>\n",
       "    <tr>\n",
       "      <th>10</th>\n",
       "      <td>2014-08-08 15:46:00</td>\n",
       "      <td>40.7439</td>\n",
       "      <td>-73.9836</td>\n",
       "    </tr>\n",
       "    <tr>\n",
       "      <th>9</th>\n",
       "      <td>2014-08-08 15:46:00</td>\n",
       "      <td>40.7125</td>\n",
       "      <td>-73.9388</td>\n",
       "    </tr>\n",
       "    <tr>\n",
       "      <th>7</th>\n",
       "      <td>2014-08-08 15:46:00</td>\n",
       "      <td>40.7452</td>\n",
       "      <td>-73.9821</td>\n",
       "    </tr>\n",
       "    <tr>\n",
       "      <th>6</th>\n",
       "      <td>2014-08-08 15:46:00</td>\n",
       "      <td>40.7389</td>\n",
       "      <td>-73.9829</td>\n",
       "    </tr>\n",
       "  </tbody>\n",
       "</table>\n",
       "</div>"
      ],
      "text/plain": [
       "             Date/Time      Lat      Lon\n",
       "0  2014-08-08 15:45:00  40.7141 -73.9827\n",
       "10 2014-08-08 15:46:00  40.7439 -73.9836\n",
       "9  2014-08-08 15:46:00  40.7125 -73.9388\n",
       "7  2014-08-08 15:46:00  40.7452 -73.9821\n",
       "6  2014-08-08 15:46:00  40.7389 -73.9829"
      ]
     },
     "execution_count": 103,
     "metadata": {},
     "output_type": "execute_result"
    }
   ],
   "source": [
    "uber.sort_values('Date/Time').head()"
   ]
  },
  {
   "cell_type": "markdown",
   "id": "c99336de-7087-400c-aeab-de1be592992c",
   "metadata": {},
   "source": [
    "To combine month, day, year into one column:"
   ]
  },
  {
   "cell_type": "code",
   "execution_count": 104,
   "id": "c6f2c074-4e1c-4147-93d4-604c402c516b",
   "metadata": {},
   "outputs": [],
   "source": [
    "# pd.read_csv(\"\",\n",
    "#            parse_dates={'Date': ['Year', 'Month', 'Day', 'Clock']})"
   ]
  },
  {
   "cell_type": "markdown",
   "id": "93ccd61b-2a15-49d9-90d3-534de49b733b",
   "metadata": {},
   "source": [
    "**To convert date column to date type:**\n",
    "\n",
    "new_cycling = cycling.assign(Date = pd.to_datatime(cycling['Date']))\n",
    "\n",
    "\n",
    "**Find weekdays:**\n",
    "\n",
    "new_cycling['Date'].dt.day_name().head()\n",
    "new_cycling.assign(weekday = new_cycling['Date'].dt.day_name())\n",
    "\n",
    "**Find days:**\n",
    "\n",
    "new_cycling['Date'].dt.day.head()\n",
    "\n",
    "new_cycling.assign(day = new_cycling['Date'].dt.day())\n",
    "\n",
    "\n",
    "**Timestamp examples:**\n",
    "\n",
    "timestamp_ex = new_cycling.loc[1,'Date']\n",
    "\n",
    "timestamp_ex.month_name()\n",
    "\n",
    "timestamp_ex.day\n",
    "\n",
    "timestamp_ex.hour\n",
    "\n",
    "**.diff():**\n",
    "\n",
    "cycling_intervals = new_cycling['Date'].sort_values().diff()\n",
    "\n",
    "**timedelta**\n",
    "\n",
    "cycling_intervals[1]\n",
    "\n",
    "cycling_intervals[1].seconds\n",
    "\n",
    "cycling_intervals[1].seconds / 3600\n",
    "\n",
    "cycling_intervals.max()\n",
    "\n",
    "cycling_intervals.min()\n",
    "\n",
    "interval_range = cycling_intervals.max() - cycling_intervals.min()"
   ]
  },
  {
   "cell_type": "markdown",
   "id": "15cf0723-4419-4acf-9a9f-2a92329916a3",
   "metadata": {},
   "source": [
    "### Working with Strings"
   ]
  },
  {
   "cell_type": "code",
   "execution_count": 105,
   "id": "14494ab6-484d-4fea-9129-c5f59d8fa411",
   "metadata": {},
   "outputs": [
    {
     "data": {
      "text/plain": [
       "'Violin'"
      ]
     },
     "execution_count": 105,
     "metadata": {},
     "output_type": "execute_result"
    }
   ],
   "source": [
    "instrument = 'Violin'\n",
    "instrument"
   ]
  },
  {
   "cell_type": "code",
   "execution_count": 106,
   "id": "9b5c2433-0d6d-497c-8473-ab7701d3f7e9",
   "metadata": {},
   "outputs": [
    {
     "data": {
      "text/plain": [
       "'VIOLIN'"
      ]
     },
     "execution_count": 106,
     "metadata": {},
     "output_type": "execute_result"
    }
   ],
   "source": [
    "instrument.upper()"
   ]
  },
  {
   "cell_type": "code",
   "execution_count": 107,
   "id": "7f6a5f83-842d-4672-b3a5-db3a1d41c958",
   "metadata": {},
   "outputs": [
    {
     "data": {
      "text/plain": [
       "2"
      ]
     },
     "execution_count": 107,
     "metadata": {},
     "output_type": "execute_result"
    }
   ],
   "source": [
    "instrument.count('i')"
   ]
  },
  {
   "cell_type": "code",
   "execution_count": 108,
   "id": "e4835e5c-6240-4b26-9c35-1832f6de730f",
   "metadata": {},
   "outputs": [
    {
     "data": {
      "text/plain": [
       "['V', 'ol', 'n']"
      ]
     },
     "execution_count": 108,
     "metadata": {},
     "output_type": "execute_result"
    }
   ],
   "source": [
    "instrument.split('i')"
   ]
  },
  {
   "cell_type": "code",
   "execution_count": 109,
   "id": "2488e2b3-4f4f-4ec8-935b-6f891eebb8b4",
   "metadata": {},
   "outputs": [
    {
     "data": {
      "text/html": [
       "<div>\n",
       "<style scoped>\n",
       "    .dataframe tbody tr th:only-of-type {\n",
       "        vertical-align: middle;\n",
       "    }\n",
       "\n",
       "    .dataframe tbody tr th {\n",
       "        vertical-align: top;\n",
       "    }\n",
       "\n",
       "    .dataframe thead th {\n",
       "        text-align: right;\n",
       "    }\n",
       "</style>\n",
       "<table border=\"1\" class=\"dataframe\">\n",
       "  <thead>\n",
       "    <tr style=\"text-align: right;\">\n",
       "      <th></th>\n",
       "      <th>name</th>\n",
       "      <th>mfr</th>\n",
       "      <th>type</th>\n",
       "      <th>calories</th>\n",
       "      <th>protein</th>\n",
       "      <th>fat</th>\n",
       "      <th>sodium</th>\n",
       "      <th>fiber</th>\n",
       "      <th>carbo</th>\n",
       "      <th>sugars</th>\n",
       "      <th>potass</th>\n",
       "      <th>vitamins</th>\n",
       "      <th>shelf</th>\n",
       "      <th>weight</th>\n",
       "      <th>cups</th>\n",
       "      <th>rating</th>\n",
       "    </tr>\n",
       "  </thead>\n",
       "  <tbody>\n",
       "    <tr>\n",
       "      <th>0</th>\n",
       "      <td>100% Bran</td>\n",
       "      <td>N</td>\n",
       "      <td>Cold</td>\n",
       "      <td>70</td>\n",
       "      <td>4</td>\n",
       "      <td>1</td>\n",
       "      <td>130</td>\n",
       "      <td>10</td>\n",
       "      <td>5</td>\n",
       "      <td>6</td>\n",
       "      <td>280</td>\n",
       "      <td>25</td>\n",
       "      <td>3</td>\n",
       "      <td>1</td>\n",
       "      <td>0.33</td>\n",
       "      <td>68.402973</td>\n",
       "    </tr>\n",
       "    <tr>\n",
       "      <th>1</th>\n",
       "      <td>100% Natural Bran</td>\n",
       "      <td>Q</td>\n",
       "      <td>Cold</td>\n",
       "      <td>120</td>\n",
       "      <td>3</td>\n",
       "      <td>5</td>\n",
       "      <td>15</td>\n",
       "      <td>2</td>\n",
       "      <td>8</td>\n",
       "      <td>8</td>\n",
       "      <td>135</td>\n",
       "      <td>0</td>\n",
       "      <td>3</td>\n",
       "      <td>1</td>\n",
       "      <td>1.00</td>\n",
       "      <td>33.983679</td>\n",
       "    </tr>\n",
       "    <tr>\n",
       "      <th>2</th>\n",
       "      <td>All-Bran</td>\n",
       "      <td>K</td>\n",
       "      <td>Cold</td>\n",
       "      <td>70</td>\n",
       "      <td>4</td>\n",
       "      <td>1</td>\n",
       "      <td>260</td>\n",
       "      <td>9</td>\n",
       "      <td>7</td>\n",
       "      <td>5</td>\n",
       "      <td>320</td>\n",
       "      <td>25</td>\n",
       "      <td>3</td>\n",
       "      <td>1</td>\n",
       "      <td>0.33</td>\n",
       "      <td>59.425505</td>\n",
       "    </tr>\n",
       "    <tr>\n",
       "      <th>3</th>\n",
       "      <td>All-Bran with Extra Fiber</td>\n",
       "      <td>K</td>\n",
       "      <td>Cold</td>\n",
       "      <td>50</td>\n",
       "      <td>4</td>\n",
       "      <td>0</td>\n",
       "      <td>140</td>\n",
       "      <td>14</td>\n",
       "      <td>8</td>\n",
       "      <td>0</td>\n",
       "      <td>330</td>\n",
       "      <td>25</td>\n",
       "      <td>3</td>\n",
       "      <td>1</td>\n",
       "      <td>0.50</td>\n",
       "      <td>93.704912</td>\n",
       "    </tr>\n",
       "    <tr>\n",
       "      <th>4</th>\n",
       "      <td>Almond Delight</td>\n",
       "      <td>R</td>\n",
       "      <td>Cold</td>\n",
       "      <td>110</td>\n",
       "      <td>2</td>\n",
       "      <td>2</td>\n",
       "      <td>200</td>\n",
       "      <td>1</td>\n",
       "      <td>14</td>\n",
       "      <td>8</td>\n",
       "      <td>1</td>\n",
       "      <td>25</td>\n",
       "      <td>3</td>\n",
       "      <td>1</td>\n",
       "      <td>0.75</td>\n",
       "      <td>34.384843</td>\n",
       "    </tr>\n",
       "  </tbody>\n",
       "</table>\n",
       "</div>"
      ],
      "text/plain": [
       "                        name mfr  type  calories  protein  fat  sodium  fiber  \\\n",
       "0                  100% Bran   N  Cold        70        4    1     130     10   \n",
       "1          100% Natural Bran   Q  Cold       120        3    5      15      2   \n",
       "2                   All-Bran   K  Cold        70        4    1     260      9   \n",
       "3  All-Bran with Extra Fiber   K  Cold        50        4    0     140     14   \n",
       "4             Almond Delight   R  Cold       110        2    2     200      1   \n",
       "\n",
       "   carbo  sugars  potass  vitamins  shelf  weight  cups     rating  \n",
       "0      5       6     280        25      3       1  0.33  68.402973  \n",
       "1      8       8     135         0      3       1  1.00  33.983679  \n",
       "2      7       5     320        25      3       1  0.33  59.425505  \n",
       "3      8       0     330        25      3       1  0.50  93.704912  \n",
       "4     14       8       1        25      3       1  0.75  34.384843  "
      ]
     },
     "execution_count": 109,
     "metadata": {},
     "output_type": "execute_result"
    }
   ],
   "source": [
    "cereal.head()"
   ]
  },
  {
   "cell_type": "code",
   "execution_count": 110,
   "id": "80c444bd-b39b-4399-8dec-0dc352337630",
   "metadata": {},
   "outputs": [
    {
     "data": {
      "text/html": [
       "<div>\n",
       "<style scoped>\n",
       "    .dataframe tbody tr th:only-of-type {\n",
       "        vertical-align: middle;\n",
       "    }\n",
       "\n",
       "    .dataframe tbody tr th {\n",
       "        vertical-align: top;\n",
       "    }\n",
       "\n",
       "    .dataframe thead th {\n",
       "        text-align: right;\n",
       "    }\n",
       "</style>\n",
       "<table border=\"1\" class=\"dataframe\">\n",
       "  <thead>\n",
       "    <tr style=\"text-align: right;\">\n",
       "      <th></th>\n",
       "      <th>name</th>\n",
       "      <th>mfr</th>\n",
       "      <th>type</th>\n",
       "      <th>calories</th>\n",
       "      <th>protein</th>\n",
       "      <th>fat</th>\n",
       "      <th>sodium</th>\n",
       "      <th>fiber</th>\n",
       "      <th>carbo</th>\n",
       "      <th>sugars</th>\n",
       "      <th>potass</th>\n",
       "      <th>vitamins</th>\n",
       "      <th>shelf</th>\n",
       "      <th>weight</th>\n",
       "      <th>cups</th>\n",
       "      <th>rating</th>\n",
       "    </tr>\n",
       "  </thead>\n",
       "  <tbody>\n",
       "    <tr>\n",
       "      <th>0</th>\n",
       "      <td>100% BRAN</td>\n",
       "      <td>N</td>\n",
       "      <td>Cold</td>\n",
       "      <td>70</td>\n",
       "      <td>4</td>\n",
       "      <td>1</td>\n",
       "      <td>130</td>\n",
       "      <td>10</td>\n",
       "      <td>5</td>\n",
       "      <td>6</td>\n",
       "      <td>280</td>\n",
       "      <td>25</td>\n",
       "      <td>3</td>\n",
       "      <td>1</td>\n",
       "      <td>0.33</td>\n",
       "      <td>68.402973</td>\n",
       "    </tr>\n",
       "    <tr>\n",
       "      <th>1</th>\n",
       "      <td>100% NATURAL BRAN</td>\n",
       "      <td>Q</td>\n",
       "      <td>Cold</td>\n",
       "      <td>120</td>\n",
       "      <td>3</td>\n",
       "      <td>5</td>\n",
       "      <td>15</td>\n",
       "      <td>2</td>\n",
       "      <td>8</td>\n",
       "      <td>8</td>\n",
       "      <td>135</td>\n",
       "      <td>0</td>\n",
       "      <td>3</td>\n",
       "      <td>1</td>\n",
       "      <td>1.00</td>\n",
       "      <td>33.983679</td>\n",
       "    </tr>\n",
       "    <tr>\n",
       "      <th>2</th>\n",
       "      <td>ALL-BRAN</td>\n",
       "      <td>K</td>\n",
       "      <td>Cold</td>\n",
       "      <td>70</td>\n",
       "      <td>4</td>\n",
       "      <td>1</td>\n",
       "      <td>260</td>\n",
       "      <td>9</td>\n",
       "      <td>7</td>\n",
       "      <td>5</td>\n",
       "      <td>320</td>\n",
       "      <td>25</td>\n",
       "      <td>3</td>\n",
       "      <td>1</td>\n",
       "      <td>0.33</td>\n",
       "      <td>59.425505</td>\n",
       "    </tr>\n",
       "    <tr>\n",
       "      <th>3</th>\n",
       "      <td>ALL-BRAN WITH EXTRA FIBER</td>\n",
       "      <td>K</td>\n",
       "      <td>Cold</td>\n",
       "      <td>50</td>\n",
       "      <td>4</td>\n",
       "      <td>0</td>\n",
       "      <td>140</td>\n",
       "      <td>14</td>\n",
       "      <td>8</td>\n",
       "      <td>0</td>\n",
       "      <td>330</td>\n",
       "      <td>25</td>\n",
       "      <td>3</td>\n",
       "      <td>1</td>\n",
       "      <td>0.50</td>\n",
       "      <td>93.704912</td>\n",
       "    </tr>\n",
       "    <tr>\n",
       "      <th>4</th>\n",
       "      <td>ALMOND DELIGHT</td>\n",
       "      <td>R</td>\n",
       "      <td>Cold</td>\n",
       "      <td>110</td>\n",
       "      <td>2</td>\n",
       "      <td>2</td>\n",
       "      <td>200</td>\n",
       "      <td>1</td>\n",
       "      <td>14</td>\n",
       "      <td>8</td>\n",
       "      <td>1</td>\n",
       "      <td>25</td>\n",
       "      <td>3</td>\n",
       "      <td>1</td>\n",
       "      <td>0.75</td>\n",
       "      <td>34.384843</td>\n",
       "    </tr>\n",
       "  </tbody>\n",
       "</table>\n",
       "</div>"
      ],
      "text/plain": [
       "                        name mfr  type  calories  protein  fat  sodium  fiber  \\\n",
       "0                  100% BRAN   N  Cold        70        4    1     130     10   \n",
       "1          100% NATURAL BRAN   Q  Cold       120        3    5      15      2   \n",
       "2                   ALL-BRAN   K  Cold        70        4    1     260      9   \n",
       "3  ALL-BRAN WITH EXTRA FIBER   K  Cold        50        4    0     140     14   \n",
       "4             ALMOND DELIGHT   R  Cold       110        2    2     200      1   \n",
       "\n",
       "   carbo  sugars  potass  vitamins  shelf  weight  cups     rating  \n",
       "0      5       6     280        25      3       1  0.33  68.402973  \n",
       "1      8       8     135         0      3       1  1.00  33.983679  \n",
       "2      7       5     320        25      3       1  0.33  59.425505  \n",
       "3      8       0     330        25      3       1  0.50  93.704912  \n",
       "4     14       8       1        25      3       1  0.75  34.384843  "
      ]
     },
     "execution_count": 110,
     "metadata": {},
     "output_type": "execute_result"
    }
   ],
   "source": [
    "upper_cereal = cereal.assign(name = cereal['name'].str.upper())\n",
    "upper_cereal.head()"
   ]
  },
  {
   "cell_type": "code",
   "execution_count": 111,
   "id": "e42d7405-f2bd-4ff6-97f3-6c0a74c863ca",
   "metadata": {},
   "outputs": [
    {
     "data": {
      "text/html": [
       "<div>\n",
       "<style scoped>\n",
       "    .dataframe tbody tr th:only-of-type {\n",
       "        vertical-align: middle;\n",
       "    }\n",
       "\n",
       "    .dataframe tbody tr th {\n",
       "        vertical-align: top;\n",
       "    }\n",
       "\n",
       "    .dataframe thead th {\n",
       "        text-align: right;\n",
       "    }\n",
       "</style>\n",
       "<table border=\"1\" class=\"dataframe\">\n",
       "  <thead>\n",
       "    <tr style=\"text-align: right;\">\n",
       "      <th></th>\n",
       "      <th>name</th>\n",
       "      <th>mfr</th>\n",
       "      <th>type</th>\n",
       "      <th>calories</th>\n",
       "      <th>protein</th>\n",
       "      <th>fat</th>\n",
       "      <th>sodium</th>\n",
       "      <th>fiber</th>\n",
       "      <th>carbo</th>\n",
       "      <th>sugars</th>\n",
       "      <th>potass</th>\n",
       "      <th>vitamins</th>\n",
       "      <th>shelf</th>\n",
       "      <th>weight</th>\n",
       "      <th>cups</th>\n",
       "      <th>rating</th>\n",
       "      <th>bran</th>\n",
       "    </tr>\n",
       "  </thead>\n",
       "  <tbody>\n",
       "    <tr>\n",
       "      <th>0</th>\n",
       "      <td>100% BRAN</td>\n",
       "      <td>N</td>\n",
       "      <td>Cold</td>\n",
       "      <td>70</td>\n",
       "      <td>4</td>\n",
       "      <td>1</td>\n",
       "      <td>130</td>\n",
       "      <td>10</td>\n",
       "      <td>5</td>\n",
       "      <td>6</td>\n",
       "      <td>280</td>\n",
       "      <td>25</td>\n",
       "      <td>3</td>\n",
       "      <td>1</td>\n",
       "      <td>0.33</td>\n",
       "      <td>68.402973</td>\n",
       "      <td>1</td>\n",
       "    </tr>\n",
       "    <tr>\n",
       "      <th>1</th>\n",
       "      <td>100% NATURAL BRAN</td>\n",
       "      <td>Q</td>\n",
       "      <td>Cold</td>\n",
       "      <td>120</td>\n",
       "      <td>3</td>\n",
       "      <td>5</td>\n",
       "      <td>15</td>\n",
       "      <td>2</td>\n",
       "      <td>8</td>\n",
       "      <td>8</td>\n",
       "      <td>135</td>\n",
       "      <td>0</td>\n",
       "      <td>3</td>\n",
       "      <td>1</td>\n",
       "      <td>1.00</td>\n",
       "      <td>33.983679</td>\n",
       "      <td>1</td>\n",
       "    </tr>\n",
       "    <tr>\n",
       "      <th>2</th>\n",
       "      <td>ALL-BRAN</td>\n",
       "      <td>K</td>\n",
       "      <td>Cold</td>\n",
       "      <td>70</td>\n",
       "      <td>4</td>\n",
       "      <td>1</td>\n",
       "      <td>260</td>\n",
       "      <td>9</td>\n",
       "      <td>7</td>\n",
       "      <td>5</td>\n",
       "      <td>320</td>\n",
       "      <td>25</td>\n",
       "      <td>3</td>\n",
       "      <td>1</td>\n",
       "      <td>0.33</td>\n",
       "      <td>59.425505</td>\n",
       "      <td>1</td>\n",
       "    </tr>\n",
       "    <tr>\n",
       "      <th>3</th>\n",
       "      <td>ALL-BRAN WITH EXTRA FIBER</td>\n",
       "      <td>K</td>\n",
       "      <td>Cold</td>\n",
       "      <td>50</td>\n",
       "      <td>4</td>\n",
       "      <td>0</td>\n",
       "      <td>140</td>\n",
       "      <td>14</td>\n",
       "      <td>8</td>\n",
       "      <td>0</td>\n",
       "      <td>330</td>\n",
       "      <td>25</td>\n",
       "      <td>3</td>\n",
       "      <td>1</td>\n",
       "      <td>0.50</td>\n",
       "      <td>93.704912</td>\n",
       "      <td>1</td>\n",
       "    </tr>\n",
       "    <tr>\n",
       "      <th>4</th>\n",
       "      <td>ALMOND DELIGHT</td>\n",
       "      <td>R</td>\n",
       "      <td>Cold</td>\n",
       "      <td>110</td>\n",
       "      <td>2</td>\n",
       "      <td>2</td>\n",
       "      <td>200</td>\n",
       "      <td>1</td>\n",
       "      <td>14</td>\n",
       "      <td>8</td>\n",
       "      <td>1</td>\n",
       "      <td>25</td>\n",
       "      <td>3</td>\n",
       "      <td>1</td>\n",
       "      <td>0.75</td>\n",
       "      <td>34.384843</td>\n",
       "      <td>0</td>\n",
       "    </tr>\n",
       "  </tbody>\n",
       "</table>\n",
       "</div>"
      ],
      "text/plain": [
       "                        name mfr  type  calories  protein  fat  sodium  fiber  \\\n",
       "0                  100% BRAN   N  Cold        70        4    1     130     10   \n",
       "1          100% NATURAL BRAN   Q  Cold       120        3    5      15      2   \n",
       "2                   ALL-BRAN   K  Cold        70        4    1     260      9   \n",
       "3  ALL-BRAN WITH EXTRA FIBER   K  Cold        50        4    0     140     14   \n",
       "4             ALMOND DELIGHT   R  Cold       110        2    2     200      1   \n",
       "\n",
       "   carbo  sugars  potass  vitamins  shelf  weight  cups     rating  bran  \n",
       "0      5       6     280        25      3       1  0.33  68.402973     1  \n",
       "1      8       8     135         0      3       1  1.00  33.983679     1  \n",
       "2      7       5     320        25      3       1  0.33  59.425505     1  \n",
       "3      8       0     330        25      3       1  0.50  93.704912     1  \n",
       "4     14       8       1        25      3       1  0.75  34.384843     0  "
      ]
     },
     "execution_count": 111,
     "metadata": {},
     "output_type": "execute_result"
    }
   ],
   "source": [
    "type_cereal = upper_cereal.assign(bran = upper_cereal['name'].str.count('BRAN'))\n",
    "type_cereal.head()"
   ]
  },
  {
   "cell_type": "code",
   "execution_count": 112,
   "id": "90b6e4a6-ea95-4ef8-b6c3-88d3bff3f716",
   "metadata": {},
   "outputs": [
    {
     "data": {
      "text/html": [
       "<div>\n",
       "<style scoped>\n",
       "    .dataframe tbody tr th:only-of-type {\n",
       "        vertical-align: middle;\n",
       "    }\n",
       "\n",
       "    .dataframe tbody tr th {\n",
       "        vertical-align: top;\n",
       "    }\n",
       "\n",
       "    .dataframe thead th {\n",
       "        text-align: right;\n",
       "    }\n",
       "</style>\n",
       "<table border=\"1\" class=\"dataframe\">\n",
       "  <thead>\n",
       "    <tr style=\"text-align: right;\">\n",
       "      <th></th>\n",
       "      <th>0</th>\n",
       "      <th>1</th>\n",
       "      <th>2</th>\n",
       "      <th>3</th>\n",
       "    </tr>\n",
       "  </thead>\n",
       "  <tbody>\n",
       "    <tr>\n",
       "      <th>0</th>\n",
       "      <td>100%</td>\n",
       "      <td>BRAN</td>\n",
       "      <td>None</td>\n",
       "      <td>None</td>\n",
       "    </tr>\n",
       "    <tr>\n",
       "      <th>1</th>\n",
       "      <td>100%</td>\n",
       "      <td>NATURAL</td>\n",
       "      <td>BRAN</td>\n",
       "      <td>None</td>\n",
       "    </tr>\n",
       "    <tr>\n",
       "      <th>2</th>\n",
       "      <td>ALL-BRAN</td>\n",
       "      <td>None</td>\n",
       "      <td>None</td>\n",
       "      <td>None</td>\n",
       "    </tr>\n",
       "    <tr>\n",
       "      <th>3</th>\n",
       "      <td>ALL-BRAN</td>\n",
       "      <td>WITH</td>\n",
       "      <td>EXTRA</td>\n",
       "      <td>FIBER</td>\n",
       "    </tr>\n",
       "    <tr>\n",
       "      <th>4</th>\n",
       "      <td>ALMOND</td>\n",
       "      <td>DELIGHT</td>\n",
       "      <td>None</td>\n",
       "      <td>None</td>\n",
       "    </tr>\n",
       "  </tbody>\n",
       "</table>\n",
       "</div>"
      ],
      "text/plain": [
       "          0        1      2      3\n",
       "0      100%     BRAN   None   None\n",
       "1      100%  NATURAL   BRAN   None\n",
       "2  ALL-BRAN     None   None   None\n",
       "3  ALL-BRAN     WITH  EXTRA  FIBER\n",
       "4    ALMOND  DELIGHT   None   None"
      ]
     },
     "execution_count": 112,
     "metadata": {},
     "output_type": "execute_result"
    }
   ],
   "source": [
    "upper_cereal['name'].str.split(expand=True)"
   ]
  },
  {
   "cell_type": "code",
   "execution_count": 114,
   "id": "2118e02b-c946-4003-84e0-a8018f981355",
   "metadata": {},
   "outputs": [
    {
     "data": {
      "text/html": [
       "<div>\n",
       "<style scoped>\n",
       "    .dataframe tbody tr th:only-of-type {\n",
       "        vertical-align: middle;\n",
       "    }\n",
       "\n",
       "    .dataframe tbody tr th {\n",
       "        vertical-align: top;\n",
       "    }\n",
       "\n",
       "    .dataframe thead th {\n",
       "        text-align: right;\n",
       "    }\n",
       "</style>\n",
       "<table border=\"1\" class=\"dataframe\">\n",
       "  <thead>\n",
       "    <tr style=\"text-align: right;\">\n",
       "      <th></th>\n",
       "      <th>name</th>\n",
       "      <th>mfr</th>\n",
       "      <th>type</th>\n",
       "      <th>calories</th>\n",
       "      <th>protein</th>\n",
       "      <th>fat</th>\n",
       "      <th>sodium</th>\n",
       "      <th>fiber</th>\n",
       "      <th>carbo</th>\n",
       "      <th>sugars</th>\n",
       "      <th>potass</th>\n",
       "      <th>vitamins</th>\n",
       "      <th>shelf</th>\n",
       "      <th>weight</th>\n",
       "      <th>cups</th>\n",
       "      <th>rating</th>\n",
       "      <th>Calories_str</th>\n",
       "    </tr>\n",
       "  </thead>\n",
       "  <tbody>\n",
       "    <tr>\n",
       "      <th>0</th>\n",
       "      <td>100% Bran</td>\n",
       "      <td>N</td>\n",
       "      <td>Cold</td>\n",
       "      <td>70</td>\n",
       "      <td>4</td>\n",
       "      <td>1</td>\n",
       "      <td>130</td>\n",
       "      <td>10</td>\n",
       "      <td>5</td>\n",
       "      <td>6</td>\n",
       "      <td>280</td>\n",
       "      <td>25</td>\n",
       "      <td>3</td>\n",
       "      <td>1</td>\n",
       "      <td>0.33</td>\n",
       "      <td>68.402973</td>\n",
       "      <td>70 cal</td>\n",
       "    </tr>\n",
       "    <tr>\n",
       "      <th>1</th>\n",
       "      <td>100% Natural Bran</td>\n",
       "      <td>Q</td>\n",
       "      <td>Cold</td>\n",
       "      <td>120</td>\n",
       "      <td>3</td>\n",
       "      <td>5</td>\n",
       "      <td>15</td>\n",
       "      <td>2</td>\n",
       "      <td>8</td>\n",
       "      <td>8</td>\n",
       "      <td>135</td>\n",
       "      <td>0</td>\n",
       "      <td>3</td>\n",
       "      <td>1</td>\n",
       "      <td>1.00</td>\n",
       "      <td>33.983679</td>\n",
       "      <td>120 cal</td>\n",
       "    </tr>\n",
       "    <tr>\n",
       "      <th>2</th>\n",
       "      <td>All-Bran</td>\n",
       "      <td>K</td>\n",
       "      <td>Cold</td>\n",
       "      <td>70</td>\n",
       "      <td>4</td>\n",
       "      <td>1</td>\n",
       "      <td>260</td>\n",
       "      <td>9</td>\n",
       "      <td>7</td>\n",
       "      <td>5</td>\n",
       "      <td>320</td>\n",
       "      <td>25</td>\n",
       "      <td>3</td>\n",
       "      <td>1</td>\n",
       "      <td>0.33</td>\n",
       "      <td>59.425505</td>\n",
       "      <td>70 cal</td>\n",
       "    </tr>\n",
       "    <tr>\n",
       "      <th>3</th>\n",
       "      <td>All-Bran with Extra Fiber</td>\n",
       "      <td>K</td>\n",
       "      <td>Cold</td>\n",
       "      <td>50</td>\n",
       "      <td>4</td>\n",
       "      <td>0</td>\n",
       "      <td>140</td>\n",
       "      <td>14</td>\n",
       "      <td>8</td>\n",
       "      <td>0</td>\n",
       "      <td>330</td>\n",
       "      <td>25</td>\n",
       "      <td>3</td>\n",
       "      <td>1</td>\n",
       "      <td>0.50</td>\n",
       "      <td>93.704912</td>\n",
       "      <td>50 cal</td>\n",
       "    </tr>\n",
       "    <tr>\n",
       "      <th>4</th>\n",
       "      <td>Almond Delight</td>\n",
       "      <td>R</td>\n",
       "      <td>Cold</td>\n",
       "      <td>110</td>\n",
       "      <td>2</td>\n",
       "      <td>2</td>\n",
       "      <td>200</td>\n",
       "      <td>1</td>\n",
       "      <td>14</td>\n",
       "      <td>8</td>\n",
       "      <td>1</td>\n",
       "      <td>25</td>\n",
       "      <td>3</td>\n",
       "      <td>1</td>\n",
       "      <td>0.75</td>\n",
       "      <td>34.384843</td>\n",
       "      <td>110 cal</td>\n",
       "    </tr>\n",
       "  </tbody>\n",
       "</table>\n",
       "</div>"
      ],
      "text/plain": [
       "                        name mfr  type  calories  protein  fat  sodium  fiber  \\\n",
       "0                  100% Bran   N  Cold        70        4    1     130     10   \n",
       "1          100% Natural Bran   Q  Cold       120        3    5      15      2   \n",
       "2                   All-Bran   K  Cold        70        4    1     260      9   \n",
       "3  All-Bran with Extra Fiber   K  Cold        50        4    0     140     14   \n",
       "4             Almond Delight   R  Cold       110        2    2     200      1   \n",
       "\n",
       "   carbo  sugars  potass  vitamins  shelf  weight  cups     rating  \\\n",
       "0      5       6     280        25      3       1  0.33  68.402973   \n",
       "1      8       8     135         0      3       1  1.00  33.983679   \n",
       "2      7       5     320        25      3       1  0.33  59.425505   \n",
       "3      8       0     330        25      3       1  0.50  93.704912   \n",
       "4     14       8       1        25      3       1  0.75  34.384843   \n",
       "\n",
       "  Calories_str  \n",
       "0       70 cal  \n",
       "1      120 cal  \n",
       "2       70 cal  \n",
       "3       50 cal  \n",
       "4      110 cal  "
      ]
     },
     "execution_count": 114,
     "metadata": {},
     "output_type": "execute_result"
    }
   ],
   "source": [
    "combined_cereal = cereal.assign(Calories_str = cereal['calories'].astype('str') + ' cal')\n",
    "combined_cereal.head()"
   ]
  },
  {
   "cell_type": "code",
   "execution_count": 116,
   "id": "219a960d-0c60-42e6-a36f-c7b9644ea8a8",
   "metadata": {},
   "outputs": [
    {
     "data": {
      "text/html": [
       "<div>\n",
       "<style scoped>\n",
       "    .dataframe tbody tr th:only-of-type {\n",
       "        vertical-align: middle;\n",
       "    }\n",
       "\n",
       "    .dataframe tbody tr th {\n",
       "        vertical-align: top;\n",
       "    }\n",
       "\n",
       "    .dataframe thead th {\n",
       "        text-align: right;\n",
       "    }\n",
       "</style>\n",
       "<table border=\"1\" class=\"dataframe\">\n",
       "  <thead>\n",
       "    <tr style=\"text-align: right;\">\n",
       "      <th></th>\n",
       "      <th>name</th>\n",
       "      <th>mfr</th>\n",
       "      <th>type</th>\n",
       "      <th>calories</th>\n",
       "      <th>protein</th>\n",
       "      <th>fat</th>\n",
       "      <th>sodium</th>\n",
       "      <th>fiber</th>\n",
       "      <th>carbo</th>\n",
       "      <th>sugars</th>\n",
       "      <th>potass</th>\n",
       "      <th>vitamins</th>\n",
       "      <th>shelf</th>\n",
       "      <th>weight</th>\n",
       "      <th>cups</th>\n",
       "      <th>rating</th>\n",
       "    </tr>\n",
       "  </thead>\n",
       "  <tbody>\n",
       "    <tr>\n",
       "      <th>0</th>\n",
       "      <td>100% bran</td>\n",
       "      <td>N</td>\n",
       "      <td>Cold</td>\n",
       "      <td>70</td>\n",
       "      <td>4</td>\n",
       "      <td>1</td>\n",
       "      <td>130</td>\n",
       "      <td>10</td>\n",
       "      <td>5</td>\n",
       "      <td>6</td>\n",
       "      <td>280</td>\n",
       "      <td>25</td>\n",
       "      <td>3</td>\n",
       "      <td>1</td>\n",
       "      <td>0.33</td>\n",
       "      <td>68.402973</td>\n",
       "    </tr>\n",
       "    <tr>\n",
       "      <th>1</th>\n",
       "      <td>100% natural bran</td>\n",
       "      <td>Q</td>\n",
       "      <td>Cold</td>\n",
       "      <td>120</td>\n",
       "      <td>3</td>\n",
       "      <td>5</td>\n",
       "      <td>15</td>\n",
       "      <td>2</td>\n",
       "      <td>8</td>\n",
       "      <td>8</td>\n",
       "      <td>135</td>\n",
       "      <td>0</td>\n",
       "      <td>3</td>\n",
       "      <td>1</td>\n",
       "      <td>1.00</td>\n",
       "      <td>33.983679</td>\n",
       "    </tr>\n",
       "    <tr>\n",
       "      <th>2</th>\n",
       "      <td>All-bran</td>\n",
       "      <td>K</td>\n",
       "      <td>Cold</td>\n",
       "      <td>70</td>\n",
       "      <td>4</td>\n",
       "      <td>1</td>\n",
       "      <td>260</td>\n",
       "      <td>9</td>\n",
       "      <td>7</td>\n",
       "      <td>5</td>\n",
       "      <td>320</td>\n",
       "      <td>25</td>\n",
       "      <td>3</td>\n",
       "      <td>1</td>\n",
       "      <td>0.33</td>\n",
       "      <td>59.425505</td>\n",
       "    </tr>\n",
       "  </tbody>\n",
       "</table>\n",
       "</div>"
      ],
      "text/plain": [
       "                name mfr  type  calories  protein  fat  sodium  fiber  carbo  \\\n",
       "0          100% bran   N  Cold        70        4    1     130     10      5   \n",
       "1  100% natural bran   Q  Cold       120        3    5      15      2      8   \n",
       "2           All-bran   K  Cold        70        4    1     260      9      7   \n",
       "\n",
       "   sugars  potass  vitamins  shelf  weight  cups     rating  \n",
       "0       6     280        25      3       1  0.33  68.402973  \n",
       "1       8     135         0      3       1  1.00  33.983679  \n",
       "2       5     320        25      3       1  0.33  59.425505  "
      ]
     },
     "execution_count": 116,
     "metadata": {},
     "output_type": "execute_result"
    }
   ],
   "source": [
    "cap_cereal = upper_cereal.assign(name = upper_cereal['name'].str.capitalize())\n",
    "cap_cereal.head(3)"
   ]
  },
  {
   "cell_type": "code",
   "execution_count": 117,
   "id": "86f4eda5-7098-4b98-b042-976e0dceeeac",
   "metadata": {},
   "outputs": [
    {
     "data": {
      "text/html": [
       "<div>\n",
       "<style scoped>\n",
       "    .dataframe tbody tr th:only-of-type {\n",
       "        vertical-align: middle;\n",
       "    }\n",
       "\n",
       "    .dataframe tbody tr th {\n",
       "        vertical-align: top;\n",
       "    }\n",
       "\n",
       "    .dataframe thead th {\n",
       "        text-align: right;\n",
       "    }\n",
       "</style>\n",
       "<table border=\"1\" class=\"dataframe\">\n",
       "  <thead>\n",
       "    <tr style=\"text-align: right;\">\n",
       "      <th></th>\n",
       "      <th>name</th>\n",
       "      <th>mfr</th>\n",
       "      <th>type</th>\n",
       "      <th>calories</th>\n",
       "      <th>protein</th>\n",
       "      <th>fat</th>\n",
       "      <th>sodium</th>\n",
       "      <th>fiber</th>\n",
       "      <th>carbo</th>\n",
       "      <th>sugars</th>\n",
       "      <th>potass</th>\n",
       "      <th>vitamins</th>\n",
       "      <th>shelf</th>\n",
       "      <th>weight</th>\n",
       "      <th>cups</th>\n",
       "      <th>rating</th>\n",
       "    </tr>\n",
       "  </thead>\n",
       "  <tbody>\n",
       "    <tr>\n",
       "      <th>0</th>\n",
       "      <td>100% Bran</td>\n",
       "      <td>N</td>\n",
       "      <td>Cold</td>\n",
       "      <td>70</td>\n",
       "      <td>4</td>\n",
       "      <td>1</td>\n",
       "      <td>130</td>\n",
       "      <td>10</td>\n",
       "      <td>5</td>\n",
       "      <td>6</td>\n",
       "      <td>280</td>\n",
       "      <td>25</td>\n",
       "      <td>3</td>\n",
       "      <td>1</td>\n",
       "      <td>0.33</td>\n",
       "      <td>68.402973</td>\n",
       "    </tr>\n",
       "    <tr>\n",
       "      <th>1</th>\n",
       "      <td>100% Natural Bran</td>\n",
       "      <td>Q</td>\n",
       "      <td>Cold</td>\n",
       "      <td>120</td>\n",
       "      <td>3</td>\n",
       "      <td>5</td>\n",
       "      <td>15</td>\n",
       "      <td>2</td>\n",
       "      <td>8</td>\n",
       "      <td>8</td>\n",
       "      <td>135</td>\n",
       "      <td>0</td>\n",
       "      <td>3</td>\n",
       "      <td>1</td>\n",
       "      <td>1.00</td>\n",
       "      <td>33.983679</td>\n",
       "    </tr>\n",
       "    <tr>\n",
       "      <th>2</th>\n",
       "      <td>All-Bran</td>\n",
       "      <td>K</td>\n",
       "      <td>Cold</td>\n",
       "      <td>70</td>\n",
       "      <td>4</td>\n",
       "      <td>1</td>\n",
       "      <td>260</td>\n",
       "      <td>9</td>\n",
       "      <td>7</td>\n",
       "      <td>5</td>\n",
       "      <td>320</td>\n",
       "      <td>25</td>\n",
       "      <td>3</td>\n",
       "      <td>1</td>\n",
       "      <td>0.33</td>\n",
       "      <td>59.425505</td>\n",
       "    </tr>\n",
       "  </tbody>\n",
       "</table>\n",
       "</div>"
      ],
      "text/plain": [
       "                name mfr  type  calories  protein  fat  sodium  fiber  carbo  \\\n",
       "0          100% Bran   N  Cold        70        4    1     130     10      5   \n",
       "1  100% Natural Bran   Q  Cold       120        3    5      15      2      8   \n",
       "2           All-Bran   K  Cold        70        4    1     260      9      7   \n",
       "\n",
       "   sugars  potass  vitamins  shelf  weight  cups     rating  \n",
       "0       6     280        25      3       1  0.33  68.402973  \n",
       "1       8     135         0      3       1  1.00  33.983679  \n",
       "2       5     320        25      3       1  0.33  59.425505  "
      ]
     },
     "execution_count": 117,
     "metadata": {},
     "output_type": "execute_result"
    }
   ],
   "source": [
    "cap_cereal = upper_cereal.assign(name = upper_cereal['name'].str.title())\n",
    "cap_cereal.head(3)"
   ]
  },
  {
   "cell_type": "code",
   "execution_count": 118,
   "id": "1b720034-0180-44c4-8e0f-b25ef0e6a03d",
   "metadata": {},
   "outputs": [
    {
     "data": {
      "text/plain": [
       "False"
      ]
     },
     "execution_count": 118,
     "metadata": {},
     "output_type": "execute_result"
    }
   ],
   "source": [
    "\"Sunshine\" == \" Sunshine \""
   ]
  },
  {
   "cell_type": "code",
   "execution_count": 119,
   "id": "33581eba-ca74-414c-83ca-6b94f4ae8188",
   "metadata": {},
   "outputs": [
    {
     "data": {
      "text/plain": [
       "'Sunshine'"
      ]
     },
     "execution_count": 119,
     "metadata": {},
     "output_type": "execute_result"
    }
   ],
   "source": [
    "string1 = \" Sunshine \"\n",
    "new_string1 = string1.strip()\n",
    "new_string1"
   ]
  },
  {
   "cell_type": "code",
   "execution_count": 120,
   "id": "769a119d-ddd8-459d-b5c3-e32412bab2a8",
   "metadata": {},
   "outputs": [
    {
     "data": {
      "text/plain": [
       "True"
      ]
     },
     "execution_count": 120,
     "metadata": {},
     "output_type": "execute_result"
    }
   ],
   "source": [
    "\"Sunshine\" == new_string1"
   ]
  },
  {
   "cell_type": "code",
   "execution_count": 121,
   "id": "498f3e5c-001d-45df-8398-174e34f30d72",
   "metadata": {},
   "outputs": [
    {
     "data": {
      "text/html": [
       "<div>\n",
       "<style scoped>\n",
       "    .dataframe tbody tr th:only-of-type {\n",
       "        vertical-align: middle;\n",
       "    }\n",
       "\n",
       "    .dataframe tbody tr th {\n",
       "        vertical-align: top;\n",
       "    }\n",
       "\n",
       "    .dataframe thead th {\n",
       "        text-align: right;\n",
       "    }\n",
       "</style>\n",
       "<table border=\"1\" class=\"dataframe\">\n",
       "  <thead>\n",
       "    <tr style=\"text-align: right;\">\n",
       "      <th></th>\n",
       "      <th>name</th>\n",
       "      <th>mfr</th>\n",
       "      <th>type</th>\n",
       "      <th>calories</th>\n",
       "      <th>protein</th>\n",
       "      <th>fat</th>\n",
       "      <th>sodium</th>\n",
       "      <th>fiber</th>\n",
       "      <th>carbo</th>\n",
       "      <th>sugars</th>\n",
       "      <th>potass</th>\n",
       "      <th>vitamins</th>\n",
       "      <th>shelf</th>\n",
       "      <th>weight</th>\n",
       "      <th>cups</th>\n",
       "      <th>rating</th>\n",
       "    </tr>\n",
       "  </thead>\n",
       "  <tbody>\n",
       "    <tr>\n",
       "      <th>2</th>\n",
       "      <td>All-Bran</td>\n",
       "      <td>K</td>\n",
       "      <td>Cold</td>\n",
       "      <td>70</td>\n",
       "      <td>4</td>\n",
       "      <td>1</td>\n",
       "      <td>260</td>\n",
       "      <td>9</td>\n",
       "      <td>7</td>\n",
       "      <td>5</td>\n",
       "      <td>320</td>\n",
       "      <td>25</td>\n",
       "      <td>3</td>\n",
       "      <td>1</td>\n",
       "      <td>0.33</td>\n",
       "      <td>59.425505</td>\n",
       "    </tr>\n",
       "  </tbody>\n",
       "</table>\n",
       "</div>"
      ],
      "text/plain": [
       "       name mfr  type  calories  protein  fat  sodium  fiber  carbo  sugars  \\\n",
       "2  All-Bran   K  Cold        70        4    1     260      9      7       5   \n",
       "\n",
       "   potass  vitamins  shelf  weight  cups     rating  \n",
       "2     320        25      3       1  0.33  59.425505  "
      ]
     },
     "execution_count": 121,
     "metadata": {},
     "output_type": "execute_result"
    }
   ],
   "source": [
    "cereal[cereal['name'] == 'All-Bran']"
   ]
  },
  {
   "cell_type": "code",
   "execution_count": 122,
   "id": "d08fb98f-e8d2-4ae4-9266-73383ac2c35e",
   "metadata": {},
   "outputs": [],
   "source": [
    "stripped_cereal = cereal.assign(name = cereal['name'].str.strip())"
   ]
  },
  {
   "cell_type": "code",
   "execution_count": 123,
   "id": "8cf86d3b-d318-4f02-bd94-e62d801f01e1",
   "metadata": {},
   "outputs": [
    {
     "data": {
      "text/html": [
       "<div>\n",
       "<style scoped>\n",
       "    .dataframe tbody tr th:only-of-type {\n",
       "        vertical-align: middle;\n",
       "    }\n",
       "\n",
       "    .dataframe tbody tr th {\n",
       "        vertical-align: top;\n",
       "    }\n",
       "\n",
       "    .dataframe thead th {\n",
       "        text-align: right;\n",
       "    }\n",
       "</style>\n",
       "<table border=\"1\" class=\"dataframe\">\n",
       "  <thead>\n",
       "    <tr style=\"text-align: right;\">\n",
       "      <th></th>\n",
       "      <th>name</th>\n",
       "      <th>mfr</th>\n",
       "      <th>type</th>\n",
       "      <th>calories</th>\n",
       "      <th>protein</th>\n",
       "      <th>fat</th>\n",
       "      <th>sodium</th>\n",
       "      <th>fiber</th>\n",
       "      <th>carbo</th>\n",
       "      <th>sugars</th>\n",
       "      <th>potass</th>\n",
       "      <th>vitamins</th>\n",
       "      <th>shelf</th>\n",
       "      <th>weight</th>\n",
       "      <th>cups</th>\n",
       "      <th>rating</th>\n",
       "    </tr>\n",
       "  </thead>\n",
       "  <tbody>\n",
       "    <tr>\n",
       "      <th>2</th>\n",
       "      <td>All-Bran</td>\n",
       "      <td>K</td>\n",
       "      <td>Cold</td>\n",
       "      <td>70</td>\n",
       "      <td>4</td>\n",
       "      <td>1</td>\n",
       "      <td>260</td>\n",
       "      <td>9</td>\n",
       "      <td>7</td>\n",
       "      <td>5</td>\n",
       "      <td>320</td>\n",
       "      <td>25</td>\n",
       "      <td>3</td>\n",
       "      <td>1</td>\n",
       "      <td>0.33</td>\n",
       "      <td>59.425505</td>\n",
       "    </tr>\n",
       "  </tbody>\n",
       "</table>\n",
       "</div>"
      ],
      "text/plain": [
       "       name mfr  type  calories  protein  fat  sodium  fiber  carbo  sugars  \\\n",
       "2  All-Bran   K  Cold        70        4    1     260      9      7       5   \n",
       "\n",
       "   potass  vitamins  shelf  weight  cups     rating  \n",
       "2     320        25      3       1  0.33  59.425505  "
      ]
     },
     "execution_count": 123,
     "metadata": {},
     "output_type": "execute_result"
    }
   ],
   "source": [
    "stripped_cereal[stripped_cereal['name'] == 'All-Bran']"
   ]
  },
  {
   "cell_type": "code",
   "execution_count": 124,
   "id": "cca274cf-b25c-459b-8809-8cf081c1e470",
   "metadata": {},
   "outputs": [
    {
     "data": {
      "text/plain": [
       "0                    100% Bran\n",
       "1            100% Natural Bran\n",
       "2                     All-Bran\n",
       "3    All-Bran with Extra Fiber\n",
       "4               Almond Delight\n",
       "Name: name, dtype: object"
      ]
     },
     "execution_count": 124,
     "metadata": {},
     "output_type": "execute_result"
    }
   ],
   "source": [
    "stripped_cereal['name'].str.strip(\"!\").tail()"
   ]
  },
  {
   "cell_type": "markdown",
   "id": "cc79e834-c020-4979-982e-ab8d96118c37",
   "metadata": {},
   "source": [
    "### More Advanced String Processing"
   ]
  },
  {
   "cell_type": "markdown",
   "id": "52cf5960-b2ab-481c-a780-8fb219744f79",
   "metadata": {},
   "source": [
    "**Replace**"
   ]
  },
  {
   "cell_type": "code",
   "execution_count": 126,
   "id": "2a9cdf28-fd56-4f23-938a-3f6f493c27a6",
   "metadata": {
    "tags": []
   },
   "outputs": [],
   "source": [
    "cereal_lower = cereal.assign(name = cereal['name'].str.lower())\n",
    "cereal_spell = cereal_lower.assign(name = cereal_lower['name'].str.replace('brann', 'bran'))"
   ]
  },
  {
   "cell_type": "markdown",
   "id": "790b6d11-04d8-4f41-a5d3-1df0465744e7",
   "metadata": {},
   "source": [
    "**Contains**"
   ]
  },
  {
   "cell_type": "code",
   "execution_count": 127,
   "id": "292dc777-25fc-4d5b-9569-b48fa4a356ce",
   "metadata": {},
   "outputs": [
    {
     "data": {
      "text/plain": [
       "0     True\n",
       "1     True\n",
       "2     True\n",
       "3     True\n",
       "4    False\n",
       "Name: name, dtype: bool"
      ]
     },
     "execution_count": 127,
     "metadata": {},
     "output_type": "execute_result"
    }
   ],
   "source": [
    "cereal_lower['name'].str.contains('bran')"
   ]
  },
  {
   "cell_type": "code",
   "execution_count": 128,
   "id": "2e1c90ee-9533-4384-b87a-3f25fbdf8d95",
   "metadata": {},
   "outputs": [
    {
     "data": {
      "text/html": [
       "<div>\n",
       "<style scoped>\n",
       "    .dataframe tbody tr th:only-of-type {\n",
       "        vertical-align: middle;\n",
       "    }\n",
       "\n",
       "    .dataframe tbody tr th {\n",
       "        vertical-align: top;\n",
       "    }\n",
       "\n",
       "    .dataframe thead th {\n",
       "        text-align: right;\n",
       "    }\n",
       "</style>\n",
       "<table border=\"1\" class=\"dataframe\">\n",
       "  <thead>\n",
       "    <tr style=\"text-align: right;\">\n",
       "      <th></th>\n",
       "      <th>name</th>\n",
       "      <th>mfr</th>\n",
       "      <th>type</th>\n",
       "      <th>calories</th>\n",
       "      <th>protein</th>\n",
       "      <th>fat</th>\n",
       "      <th>sodium</th>\n",
       "      <th>fiber</th>\n",
       "      <th>carbo</th>\n",
       "      <th>sugars</th>\n",
       "      <th>potass</th>\n",
       "      <th>vitamins</th>\n",
       "      <th>shelf</th>\n",
       "      <th>weight</th>\n",
       "      <th>cups</th>\n",
       "      <th>rating</th>\n",
       "    </tr>\n",
       "  </thead>\n",
       "  <tbody>\n",
       "    <tr>\n",
       "      <th>0</th>\n",
       "      <td>100% bran</td>\n",
       "      <td>N</td>\n",
       "      <td>Cold</td>\n",
       "      <td>70</td>\n",
       "      <td>4</td>\n",
       "      <td>1</td>\n",
       "      <td>130</td>\n",
       "      <td>10</td>\n",
       "      <td>5</td>\n",
       "      <td>6</td>\n",
       "      <td>280</td>\n",
       "      <td>25</td>\n",
       "      <td>3</td>\n",
       "      <td>1</td>\n",
       "      <td>0.33</td>\n",
       "      <td>68.402973</td>\n",
       "    </tr>\n",
       "    <tr>\n",
       "      <th>1</th>\n",
       "      <td>100% natural bran</td>\n",
       "      <td>Q</td>\n",
       "      <td>Cold</td>\n",
       "      <td>120</td>\n",
       "      <td>3</td>\n",
       "      <td>5</td>\n",
       "      <td>15</td>\n",
       "      <td>2</td>\n",
       "      <td>8</td>\n",
       "      <td>8</td>\n",
       "      <td>135</td>\n",
       "      <td>0</td>\n",
       "      <td>3</td>\n",
       "      <td>1</td>\n",
       "      <td>1.00</td>\n",
       "      <td>33.983679</td>\n",
       "    </tr>\n",
       "    <tr>\n",
       "      <th>2</th>\n",
       "      <td>all-bran</td>\n",
       "      <td>K</td>\n",
       "      <td>Cold</td>\n",
       "      <td>70</td>\n",
       "      <td>4</td>\n",
       "      <td>1</td>\n",
       "      <td>260</td>\n",
       "      <td>9</td>\n",
       "      <td>7</td>\n",
       "      <td>5</td>\n",
       "      <td>320</td>\n",
       "      <td>25</td>\n",
       "      <td>3</td>\n",
       "      <td>1</td>\n",
       "      <td>0.33</td>\n",
       "      <td>59.425505</td>\n",
       "    </tr>\n",
       "    <tr>\n",
       "      <th>3</th>\n",
       "      <td>all-bran with extra fiber</td>\n",
       "      <td>K</td>\n",
       "      <td>Cold</td>\n",
       "      <td>50</td>\n",
       "      <td>4</td>\n",
       "      <td>0</td>\n",
       "      <td>140</td>\n",
       "      <td>14</td>\n",
       "      <td>8</td>\n",
       "      <td>0</td>\n",
       "      <td>330</td>\n",
       "      <td>25</td>\n",
       "      <td>3</td>\n",
       "      <td>1</td>\n",
       "      <td>0.50</td>\n",
       "      <td>93.704912</td>\n",
       "    </tr>\n",
       "  </tbody>\n",
       "</table>\n",
       "</div>"
      ],
      "text/plain": [
       "                        name mfr  type  calories  protein  fat  sodium  fiber  \\\n",
       "0                  100% bran   N  Cold        70        4    1     130     10   \n",
       "1          100% natural bran   Q  Cold       120        3    5      15      2   \n",
       "2                   all-bran   K  Cold        70        4    1     260      9   \n",
       "3  all-bran with extra fiber   K  Cold        50        4    0     140     14   \n",
       "\n",
       "   carbo  sugars  potass  vitamins  shelf  weight  cups     rating  \n",
       "0      5       6     280        25      3       1  0.33  68.402973  \n",
       "1      8       8     135         0      3       1  1.00  33.983679  \n",
       "2      7       5     320        25      3       1  0.33  59.425505  \n",
       "3      8       0     330        25      3       1  0.50  93.704912  "
      ]
     },
     "execution_count": 128,
     "metadata": {},
     "output_type": "execute_result"
    }
   ],
   "source": [
    "cereal_lower[cereal_lower['name'].str.contains('bran')]"
   ]
  },
  {
   "cell_type": "code",
   "execution_count": 130,
   "id": "2d796479-6efa-41d5-9484-fbb2bb41df4d",
   "metadata": {},
   "outputs": [
    {
     "data": {
      "text/html": [
       "<div>\n",
       "<style scoped>\n",
       "    .dataframe tbody tr th:only-of-type {\n",
       "        vertical-align: middle;\n",
       "    }\n",
       "\n",
       "    .dataframe tbody tr th {\n",
       "        vertical-align: top;\n",
       "    }\n",
       "\n",
       "    .dataframe thead th {\n",
       "        text-align: right;\n",
       "    }\n",
       "</style>\n",
       "<table border=\"1\" class=\"dataframe\">\n",
       "  <thead>\n",
       "    <tr style=\"text-align: right;\">\n",
       "      <th></th>\n",
       "      <th>name</th>\n",
       "      <th>mfr</th>\n",
       "      <th>type</th>\n",
       "      <th>calories</th>\n",
       "      <th>protein</th>\n",
       "      <th>fat</th>\n",
       "      <th>sodium</th>\n",
       "      <th>fiber</th>\n",
       "      <th>carbo</th>\n",
       "      <th>sugars</th>\n",
       "      <th>potass</th>\n",
       "      <th>vitamins</th>\n",
       "      <th>shelf</th>\n",
       "      <th>weight</th>\n",
       "      <th>cups</th>\n",
       "      <th>rating</th>\n",
       "    </tr>\n",
       "  </thead>\n",
       "  <tbody>\n",
       "    <tr>\n",
       "      <th>0</th>\n",
       "      <td>Bran</td>\n",
       "      <td>N</td>\n",
       "      <td>Cold</td>\n",
       "      <td>70</td>\n",
       "      <td>4</td>\n",
       "      <td>1</td>\n",
       "      <td>130</td>\n",
       "      <td>10</td>\n",
       "      <td>5</td>\n",
       "      <td>6</td>\n",
       "      <td>280</td>\n",
       "      <td>25</td>\n",
       "      <td>3</td>\n",
       "      <td>1</td>\n",
       "      <td>0.33</td>\n",
       "      <td>68.402973</td>\n",
       "    </tr>\n",
       "    <tr>\n",
       "      <th>1</th>\n",
       "      <td>Bran</td>\n",
       "      <td>Q</td>\n",
       "      <td>Cold</td>\n",
       "      <td>120</td>\n",
       "      <td>3</td>\n",
       "      <td>5</td>\n",
       "      <td>15</td>\n",
       "      <td>2</td>\n",
       "      <td>8</td>\n",
       "      <td>8</td>\n",
       "      <td>135</td>\n",
       "      <td>0</td>\n",
       "      <td>3</td>\n",
       "      <td>1</td>\n",
       "      <td>1.00</td>\n",
       "      <td>33.983679</td>\n",
       "    </tr>\n",
       "    <tr>\n",
       "      <th>2</th>\n",
       "      <td>Bran</td>\n",
       "      <td>K</td>\n",
       "      <td>Cold</td>\n",
       "      <td>70</td>\n",
       "      <td>4</td>\n",
       "      <td>1</td>\n",
       "      <td>260</td>\n",
       "      <td>9</td>\n",
       "      <td>7</td>\n",
       "      <td>5</td>\n",
       "      <td>320</td>\n",
       "      <td>25</td>\n",
       "      <td>3</td>\n",
       "      <td>1</td>\n",
       "      <td>0.33</td>\n",
       "      <td>59.425505</td>\n",
       "    </tr>\n",
       "    <tr>\n",
       "      <th>3</th>\n",
       "      <td>Bran</td>\n",
       "      <td>K</td>\n",
       "      <td>Cold</td>\n",
       "      <td>50</td>\n",
       "      <td>4</td>\n",
       "      <td>0</td>\n",
       "      <td>140</td>\n",
       "      <td>14</td>\n",
       "      <td>8</td>\n",
       "      <td>0</td>\n",
       "      <td>330</td>\n",
       "      <td>25</td>\n",
       "      <td>3</td>\n",
       "      <td>1</td>\n",
       "      <td>0.50</td>\n",
       "      <td>93.704912</td>\n",
       "    </tr>\n",
       "    <tr>\n",
       "      <th>4</th>\n",
       "      <td>almond delight</td>\n",
       "      <td>R</td>\n",
       "      <td>Cold</td>\n",
       "      <td>110</td>\n",
       "      <td>2</td>\n",
       "      <td>2</td>\n",
       "      <td>200</td>\n",
       "      <td>1</td>\n",
       "      <td>14</td>\n",
       "      <td>8</td>\n",
       "      <td>1</td>\n",
       "      <td>25</td>\n",
       "      <td>3</td>\n",
       "      <td>1</td>\n",
       "      <td>0.75</td>\n",
       "      <td>34.384843</td>\n",
       "    </tr>\n",
       "  </tbody>\n",
       "</table>\n",
       "</div>"
      ],
      "text/plain": [
       "             name mfr  type  calories  protein  fat  sodium  fiber  carbo  \\\n",
       "0            Bran   N  Cold        70        4    1     130     10      5   \n",
       "1            Bran   Q  Cold       120        3    5      15      2      8   \n",
       "2            Bran   K  Cold        70        4    1     260      9      7   \n",
       "3            Bran   K  Cold        50        4    0     140     14      8   \n",
       "4  almond delight   R  Cold       110        2    2     200      1     14   \n",
       "\n",
       "   sugars  potass  vitamins  shelf  weight  cups     rating  \n",
       "0       6     280        25      3       1  0.33  68.402973  \n",
       "1       8     135         0      3       1  1.00  33.983679  \n",
       "2       5     320        25      3       1  0.33  59.425505  \n",
       "3       0     330        25      3       1  0.50  93.704912  \n",
       "4       8       1        25      3       1  0.75  34.384843  "
      ]
     },
     "execution_count": 130,
     "metadata": {},
     "output_type": "execute_result"
    }
   ],
   "source": [
    "cereal_lower.loc[cereal_lower['name'].str.contains('bran'), 'name'] = 'Bran'\n",
    "cereal_lower"
   ]
  },
  {
   "cell_type": "code",
   "execution_count": null,
   "id": "557401ab-6aea-43da-b32c-a1a1d9c78e86",
   "metadata": {},
   "outputs": [],
   "source": []
  }
 ],
 "metadata": {
  "kernelspec": {
   "display_name": "Python 3 (ipykernel)",
   "language": "python",
   "name": "python3"
  },
  "language_info": {
   "codemirror_mode": {
    "name": "ipython",
    "version": 3
   },
   "file_extension": ".py",
   "mimetype": "text/x-python",
   "name": "python",
   "nbconvert_exporter": "python",
   "pygments_lexer": "ipython3",
   "version": "3.10.8"
  }
 },
 "nbformat": 4,
 "nbformat_minor": 5
}
