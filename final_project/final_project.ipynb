{
 "cells": [
  {
   "cell_type": "markdown",
   "metadata": {},
   "source": [
    "# Exploratory Data Analysis of Disney Movies Datasets"
   ]
  },
  {
   "cell_type": "markdown",
   "metadata": {},
   "source": [
    "## Introduction"
   ]
  },
  {
   "cell_type": "markdown",
   "metadata": {},
   "source": [
    "The purpose of this analysis project is to determine which genre of Disney movie is the most successful by exploring the total gross revenue for each genre. As Disney continues to produce movies every year, this information can help Disney decide which genre of movie to produce next in order to obtain a high gross revenue.  \n",
    "\n",
    "The dataset we will be working with was obtained from [data world](https://data.world/kgarrett/disney-character-success-00-16). It contains information about each Disney movie released between 1937 and 2016 and includes the following columns:\n",
    "\n",
    "* `movie_title`: title of the movie\n",
    "* `release_date`: movie release date\n",
    "* `genre`: movie genre (musical, adventure, drama, etc.)\n",
    "* `MPAA_rating`: movie rating (G, PG, PG-13, R, Not Rated)\n",
    "* `total_gross`: total gross revenue ($\\$ $)\n",
    "* `inflation_adjusted_gross`: total gross revenue adjusted with inflation over the years ($\\$ $)"
   ]
  },
  {
   "cell_type": "markdown",
   "metadata": {},
   "source": [
    "## Methods & Results"
   ]
  },
  {
   "cell_type": "markdown",
   "metadata": {},
   "source": [
    "First, we import all necessary libraries and functions, and format our files with Black."
   ]
  },
  {
   "cell_type": "code",
   "execution_count": 1,
   "metadata": {},
   "outputs": [
    {
     "name": "stdout",
     "output_type": "stream",
     "text": [
      "\u001b[1mreformatted final_project.ipynb\u001b[0m\n",
      "\u001b[1mAll done! ✨ 🍰 ✨\u001b[0m\n",
      "\u001b[1m1 file reformatted\u001b[0m.\u001b[0m\n",
      "\u001b[1mreformatted replace_str.py\u001b[0m\n",
      "\u001b[1mAll done! ✨ 🍰 ✨\u001b[0m\n",
      "\u001b[1m1 file reformatted\u001b[0m.\u001b[0m\n",
      "\u001b[1mAll done! ✨ 🍰 ✨\u001b[0m\n",
      "1 file left unchanged.\u001b[0m\n"
     ]
    }
   ],
   "source": [
    "import pandas as pd\n",
    "import altair as alt\n",
    "from replace_str import replace_str\n",
    "!black final_project.ipynb;\n",
    "!black replace_str.py;\n",
    "!black test_replace_str.py;"
   ]
  },
  {
   "cell_type": "markdown",
   "metadata": {},
   "source": [
    "Next, we read in and preview the raw data."
   ]
  },
  {
   "cell_type": "code",
   "execution_count": 2,
   "metadata": {
    "tags": []
   },
   "outputs": [
    {
     "data": {
      "text/html": [
       "<div>\n",
       "<style scoped>\n",
       "    .dataframe tbody tr th:only-of-type {\n",
       "        vertical-align: middle;\n",
       "    }\n",
       "\n",
       "    .dataframe tbody tr th {\n",
       "        vertical-align: top;\n",
       "    }\n",
       "\n",
       "    .dataframe thead th {\n",
       "        text-align: right;\n",
       "    }\n",
       "</style>\n",
       "<table border=\"1\" class=\"dataframe\">\n",
       "  <thead>\n",
       "    <tr style=\"text-align: right;\">\n",
       "      <th></th>\n",
       "      <th>movie_title</th>\n",
       "      <th>release_date</th>\n",
       "      <th>genre</th>\n",
       "      <th>MPAA_rating</th>\n",
       "      <th>total_gross</th>\n",
       "      <th>inflation_adjusted_gross</th>\n",
       "    </tr>\n",
       "  </thead>\n",
       "  <tbody>\n",
       "    <tr>\n",
       "      <th>0</th>\n",
       "      <td>Snow White and the Seven Dwarfs</td>\n",
       "      <td>Dec 21, 1937</td>\n",
       "      <td>Musical</td>\n",
       "      <td>G</td>\n",
       "      <td>$184,925,485</td>\n",
       "      <td>$5,228,953,251</td>\n",
       "    </tr>\n",
       "    <tr>\n",
       "      <th>1</th>\n",
       "      <td>Pinocchio</td>\n",
       "      <td>Feb 9, 1940</td>\n",
       "      <td>Adventure</td>\n",
       "      <td>G</td>\n",
       "      <td>$84,300,000</td>\n",
       "      <td>$2,188,229,052</td>\n",
       "    </tr>\n",
       "    <tr>\n",
       "      <th>2</th>\n",
       "      <td>Fantasia</td>\n",
       "      <td>Nov 13, 1940</td>\n",
       "      <td>Musical</td>\n",
       "      <td>G</td>\n",
       "      <td>$83,320,000</td>\n",
       "      <td>$2,187,090,808</td>\n",
       "    </tr>\n",
       "    <tr>\n",
       "      <th>3</th>\n",
       "      <td>Song of the South</td>\n",
       "      <td>Nov 12, 1946</td>\n",
       "      <td>Adventure</td>\n",
       "      <td>G</td>\n",
       "      <td>$65,000,000</td>\n",
       "      <td>$1,078,510,579</td>\n",
       "    </tr>\n",
       "    <tr>\n",
       "      <th>4</th>\n",
       "      <td>Cinderella</td>\n",
       "      <td>Feb 15, 1950</td>\n",
       "      <td>Drama</td>\n",
       "      <td>G</td>\n",
       "      <td>$85,000,000</td>\n",
       "      <td>$920,608,730</td>\n",
       "    </tr>\n",
       "  </tbody>\n",
       "</table>\n",
       "</div>"
      ],
      "text/plain": [
       "                       movie_title  release_date      genre MPAA_rating  \\\n",
       "0  Snow White and the Seven Dwarfs  Dec 21, 1937    Musical           G   \n",
       "1                        Pinocchio   Feb 9, 1940  Adventure           G   \n",
       "2                         Fantasia  Nov 13, 1940    Musical           G   \n",
       "3                Song of the South  Nov 12, 1946  Adventure           G   \n",
       "4                       Cinderella  Feb 15, 1950      Drama           G   \n",
       "\n",
       "    total_gross inflation_adjusted_gross  \n",
       "0  $184,925,485           $5,228,953,251  \n",
       "1   $84,300,000           $2,188,229,052  \n",
       "2   $83,320,000           $2,187,090,808  \n",
       "3   $65,000,000           $1,078,510,579  \n",
       "4   $85,000,000             $920,608,730  "
      ]
     },
     "execution_count": 2,
     "metadata": {},
     "output_type": "execute_result"
    }
   ],
   "source": [
    "disney_data = pd.read_csv(\"data/disney_movies_total_gross.csv\")\n",
    "disney_data.head()"
   ]
  },
  {
   "cell_type": "markdown",
   "metadata": {},
   "source": [
    "**Table 1: Raw Disney Data**"
   ]
  },
  {
   "cell_type": "markdown",
   "metadata": {
    "tags": []
   },
   "source": [
    "We can learn more about the dataset by using `.info()` function."
   ]
  },
  {
   "cell_type": "code",
   "execution_count": 3,
   "metadata": {},
   "outputs": [
    {
     "name": "stdout",
     "output_type": "stream",
     "text": [
      "<class 'pandas.core.frame.DataFrame'>\n",
      "RangeIndex: 579 entries, 0 to 578\n",
      "Data columns (total 6 columns):\n",
      " #   Column                    Non-Null Count  Dtype \n",
      "---  ------                    --------------  ----- \n",
      " 0   movie_title               579 non-null    object\n",
      " 1   release_date              579 non-null    object\n",
      " 2   genre                     562 non-null    object\n",
      " 3   MPAA_rating               523 non-null    object\n",
      " 4   total_gross               579 non-null    object\n",
      " 5   inflation_adjusted_gross  579 non-null    object\n",
      "dtypes: object(6)\n",
      "memory usage: 27.3+ KB\n"
     ]
    }
   ],
   "source": [
    "disney_data.info()"
   ]
  },
  {
   "cell_type": "markdown",
   "metadata": {},
   "source": [
    "We can see that each column has dtype `object` i.e. `str` type. We can also see that `genre` and `MPAA_rating` columns contain `NA` values. Since we want to find which movie genre produced the highest revenue, we can remove rows with `NA` values for genre. To clean our data, we will perform the following steps:\n",
    "\n",
    "1. Drop `NA` values from `genre` column\n",
    "2. Remove `$` and `,` from `total_gross` & `inflation_adjusted_gross` columns\n",
    "3. Change `total_gross` & `inflation_adjusted_gross` columns to `int` dtype\n",
    "4. Change `release_date` column to `datetime` type"
   ]
  },
  {
   "cell_type": "code",
   "execution_count": 4,
   "metadata": {},
   "outputs": [],
   "source": [
    "disney_data = disney_data.dropna(subset=['genre'])"
   ]
  },
  {
   "cell_type": "code",
   "execution_count": 5,
   "metadata": {},
   "outputs": [],
   "source": [
    "replace_str(disney_data, 'total_gross', '$', '');\n",
    "replace_str(disney_data, 'total_gross', ',', '');\n",
    "replace_str(disney_data, 'inflation_adjusted_gross', '$', '');\n",
    "replace_str(disney_data, 'inflation_adjusted_gross', ',', '');"
   ]
  },
  {
   "cell_type": "code",
   "execution_count": 6,
   "metadata": {},
   "outputs": [],
   "source": [
    "disney_data['total_gross'] = disney_data['total_gross'].astype('int')\n",
    "\n",
    "disney_data['inflation_adjusted_gross'] = disney_data['inflation_adjusted_gross'].astype('int')"
   ]
  },
  {
   "cell_type": "code",
   "execution_count": 7,
   "metadata": {},
   "outputs": [],
   "source": [
    "disney_data = disney_data.assign(release_date = pd.to_datetime(disney_data['release_date']))"
   ]
  },
  {
   "cell_type": "code",
   "execution_count": 8,
   "metadata": {},
   "outputs": [
    {
     "data": {
      "text/html": [
       "<div>\n",
       "<style scoped>\n",
       "    .dataframe tbody tr th:only-of-type {\n",
       "        vertical-align: middle;\n",
       "    }\n",
       "\n",
       "    .dataframe tbody tr th {\n",
       "        vertical-align: top;\n",
       "    }\n",
       "\n",
       "    .dataframe thead th {\n",
       "        text-align: right;\n",
       "    }\n",
       "</style>\n",
       "<table border=\"1\" class=\"dataframe\">\n",
       "  <thead>\n",
       "    <tr style=\"text-align: right;\">\n",
       "      <th></th>\n",
       "      <th>movie_title</th>\n",
       "      <th>release_date</th>\n",
       "      <th>genre</th>\n",
       "      <th>MPAA_rating</th>\n",
       "      <th>total_gross</th>\n",
       "      <th>inflation_adjusted_gross</th>\n",
       "    </tr>\n",
       "  </thead>\n",
       "  <tbody>\n",
       "    <tr>\n",
       "      <th>0</th>\n",
       "      <td>Snow White and the Seven Dwarfs</td>\n",
       "      <td>1937-12-21</td>\n",
       "      <td>Musical</td>\n",
       "      <td>G</td>\n",
       "      <td>184925485</td>\n",
       "      <td>5228953251</td>\n",
       "    </tr>\n",
       "    <tr>\n",
       "      <th>1</th>\n",
       "      <td>Pinocchio</td>\n",
       "      <td>1940-02-09</td>\n",
       "      <td>Adventure</td>\n",
       "      <td>G</td>\n",
       "      <td>84300000</td>\n",
       "      <td>2188229052</td>\n",
       "    </tr>\n",
       "    <tr>\n",
       "      <th>2</th>\n",
       "      <td>Fantasia</td>\n",
       "      <td>1940-11-13</td>\n",
       "      <td>Musical</td>\n",
       "      <td>G</td>\n",
       "      <td>83320000</td>\n",
       "      <td>2187090808</td>\n",
       "    </tr>\n",
       "    <tr>\n",
       "      <th>3</th>\n",
       "      <td>Song of the South</td>\n",
       "      <td>1946-11-12</td>\n",
       "      <td>Adventure</td>\n",
       "      <td>G</td>\n",
       "      <td>65000000</td>\n",
       "      <td>1078510579</td>\n",
       "    </tr>\n",
       "    <tr>\n",
       "      <th>4</th>\n",
       "      <td>Cinderella</td>\n",
       "      <td>1950-02-15</td>\n",
       "      <td>Drama</td>\n",
       "      <td>G</td>\n",
       "      <td>85000000</td>\n",
       "      <td>920608730</td>\n",
       "    </tr>\n",
       "  </tbody>\n",
       "</table>\n",
       "</div>"
      ],
      "text/plain": [
       "                       movie_title release_date      genre MPAA_rating  \\\n",
       "0  Snow White and the Seven Dwarfs   1937-12-21    Musical           G   \n",
       "1                        Pinocchio   1940-02-09  Adventure           G   \n",
       "2                         Fantasia   1940-11-13    Musical           G   \n",
       "3                Song of the South   1946-11-12  Adventure           G   \n",
       "4                       Cinderella   1950-02-15      Drama           G   \n",
       "\n",
       "   total_gross  inflation_adjusted_gross  \n",
       "0    184925485                5228953251  \n",
       "1     84300000                2188229052  \n",
       "2     83320000                2187090808  \n",
       "3     65000000                1078510579  \n",
       "4     85000000                 920608730  "
      ]
     },
     "execution_count": 8,
     "metadata": {},
     "output_type": "execute_result"
    }
   ],
   "source": [
    "disney_data.head()"
   ]
  },
  {
   "cell_type": "markdown",
   "metadata": {},
   "source": [
    "**Table 2: Clean Disney Data**"
   ]
  },
  {
   "cell_type": "markdown",
   "metadata": {},
   "source": [
    "Now that our data is clean, we can start to explore it a bit further. Let's take a look at how many movies there are for each genre with a bar plot."
   ]
  },
  {
   "cell_type": "code",
   "execution_count": 9,
   "metadata": {},
   "outputs": [
    {
     "data": {
      "text/html": [
       "\n",
       "<div id=\"altair-viz-6f7e8b1c603040a39348af5d0ef9bfb8\"></div>\n",
       "<script type=\"text/javascript\">\n",
       "  (function(spec, embedOpt){\n",
       "    let outputDiv = document.currentScript.previousElementSibling;\n",
       "    if (outputDiv.id !== \"altair-viz-6f7e8b1c603040a39348af5d0ef9bfb8\") {\n",
       "      outputDiv = document.getElementById(\"altair-viz-6f7e8b1c603040a39348af5d0ef9bfb8\");\n",
       "    }\n",
       "    const paths = {\n",
       "      \"vega\": \"https://cdn.jsdelivr.net/npm//vega@5?noext\",\n",
       "      \"vega-lib\": \"https://cdn.jsdelivr.net/npm//vega-lib?noext\",\n",
       "      \"vega-lite\": \"https://cdn.jsdelivr.net/npm//vega-lite@4.8.1?noext\",\n",
       "      \"vega-embed\": \"https://cdn.jsdelivr.net/npm//vega-embed@6?noext\",\n",
       "    };\n",
       "\n",
       "    function loadScript(lib) {\n",
       "      return new Promise(function(resolve, reject) {\n",
       "        var s = document.createElement('script');\n",
       "        s.src = paths[lib];\n",
       "        s.async = true;\n",
       "        s.onload = () => resolve(paths[lib]);\n",
       "        s.onerror = () => reject(`Error loading script: ${paths[lib]}`);\n",
       "        document.getElementsByTagName(\"head\")[0].appendChild(s);\n",
       "      });\n",
       "    }\n",
       "\n",
       "    function showError(err) {\n",
       "      outputDiv.innerHTML = `<div class=\"error\" style=\"color:red;\">${err}</div>`;\n",
       "      throw err;\n",
       "    }\n",
       "\n",
       "    function displayChart(vegaEmbed) {\n",
       "      vegaEmbed(outputDiv, spec, embedOpt)\n",
       "        .catch(err => showError(`Javascript Error: ${err.message}<br>This usually means there's a typo in your chart specification. See the javascript console for the full traceback.`));\n",
       "    }\n",
       "\n",
       "    if(typeof define === \"function\" && define.amd) {\n",
       "      requirejs.config({paths});\n",
       "      require([\"vega-embed\"], displayChart, err => showError(`Error loading script: ${err.message}`));\n",
       "    } else if (typeof vegaEmbed === \"function\") {\n",
       "      displayChart(vegaEmbed);\n",
       "    } else {\n",
       "      loadScript(\"vega\")\n",
       "        .then(() => loadScript(\"vega-lite\"))\n",
       "        .then(() => loadScript(\"vega-embed\"))\n",
       "        .catch(showError)\n",
       "        .then(() => displayChart(vegaEmbed));\n",
       "    }\n",
       "  })({\"config\": {\"view\": {\"continuousWidth\": 400, \"continuousHeight\": 300}}, \"data\": {\"name\": \"data-2f25889e25518023b648c67488cc2dd3\"}, \"mark\": \"bar\", \"encoding\": {\"x\": {\"type\": \"nominal\", \"field\": \"genre\", \"title\": \"Genre\"}, \"y\": {\"type\": \"quantitative\", \"aggregate\": \"count\", \"title\": \"Count\"}}, \"height\": 300, \"title\": \"Figure 1: Frequency of Movie Genres\", \"width\": 500, \"$schema\": \"https://vega.github.io/schema/vega-lite/v4.8.1.json\", \"datasets\": {\"data-2f25889e25518023b648c67488cc2dd3\": [{\"movie_title\": \"Snow White and the Seven Dwarfs\", \"release_date\": \"1937-12-21T00:00:00\", \"genre\": \"Musical\", \"MPAA_rating\": \"G\", \"total_gross\": 184925485, \"inflation_adjusted_gross\": 5228953251}, {\"movie_title\": \"Pinocchio\", \"release_date\": \"1940-02-09T00:00:00\", \"genre\": \"Adventure\", \"MPAA_rating\": \"G\", \"total_gross\": 84300000, \"inflation_adjusted_gross\": 2188229052}, {\"movie_title\": \"Fantasia\", \"release_date\": \"1940-11-13T00:00:00\", \"genre\": \"Musical\", \"MPAA_rating\": \"G\", \"total_gross\": 83320000, \"inflation_adjusted_gross\": 2187090808}, {\"movie_title\": \"Song of the South\", \"release_date\": \"1946-11-12T00:00:00\", \"genre\": \"Adventure\", \"MPAA_rating\": \"G\", \"total_gross\": 65000000, \"inflation_adjusted_gross\": 1078510579}, {\"movie_title\": \"Cinderella\", \"release_date\": \"1950-02-15T00:00:00\", \"genre\": \"Drama\", \"MPAA_rating\": \"G\", \"total_gross\": 85000000, \"inflation_adjusted_gross\": 920608730}, {\"movie_title\": \"20,000 Leagues Under the Sea\", \"release_date\": \"1954-12-23T00:00:00\", \"genre\": \"Adventure\", \"MPAA_rating\": null, \"total_gross\": 28200000, \"inflation_adjusted_gross\": 528279994}, {\"movie_title\": \"Lady and the Tramp\", \"release_date\": \"1955-06-22T00:00:00\", \"genre\": \"Drama\", \"MPAA_rating\": \"G\", \"total_gross\": 93600000, \"inflation_adjusted_gross\": 1236035515}, {\"movie_title\": \"Sleeping Beauty\", \"release_date\": \"1959-01-29T00:00:00\", \"genre\": \"Drama\", \"MPAA_rating\": null, \"total_gross\": 9464608, \"inflation_adjusted_gross\": 21505832}, {\"movie_title\": \"101 Dalmatians\", \"release_date\": \"1961-01-25T00:00:00\", \"genre\": \"Comedy\", \"MPAA_rating\": \"G\", \"total_gross\": 153000000, \"inflation_adjusted_gross\": 1362870985}, {\"movie_title\": \"The Absent Minded Professor\", \"release_date\": \"1961-03-16T00:00:00\", \"genre\": \"Comedy\", \"MPAA_rating\": null, \"total_gross\": 25381407, \"inflation_adjusted_gross\": 310094574}, {\"movie_title\": \"Babes in Toyland\", \"release_date\": \"1961-12-14T00:00:00\", \"genre\": \"Musical\", \"MPAA_rating\": \"G\", \"total_gross\": 10218316, \"inflation_adjusted_gross\": 124841160}, {\"movie_title\": \"Bon Voyage!\", \"release_date\": \"1962-05-17T00:00:00\", \"genre\": \"Comedy\", \"MPAA_rating\": \"Not Rated\", \"total_gross\": 9230769, \"inflation_adjusted_gross\": 109581646}, {\"movie_title\": \"The Sword in the Stone\", \"release_date\": \"1963-12-25T00:00:00\", \"genre\": \"Adventure\", \"MPAA_rating\": null, \"total_gross\": 22182353, \"inflation_adjusted_gross\": 153870834}, {\"movie_title\": \"The Jungle Book\", \"release_date\": \"1967-10-18T00:00:00\", \"genre\": \"Musical\", \"MPAA_rating\": \"Not Rated\", \"total_gross\": 141843000, \"inflation_adjusted_gross\": 789612346}, {\"movie_title\": \"Blackbeard's Ghost\", \"release_date\": \"1968-02-08T00:00:00\", \"genre\": \"Comedy\", \"MPAA_rating\": null, \"total_gross\": 21540050, \"inflation_adjusted_gross\": 138612686}, {\"movie_title\": \"The Aristocats\", \"release_date\": \"1970-04-24T00:00:00\", \"genre\": \"Musical\", \"MPAA_rating\": \"G\", \"total_gross\": 55675257, \"inflation_adjusted_gross\": 255161499}, {\"movie_title\": \"The Boatniks\", \"release_date\": \"1970-07-01T00:00:00\", \"genre\": \"Comedy\", \"MPAA_rating\": null, \"total_gross\": 18607492, \"inflation_adjusted_gross\": 101200742}, {\"movie_title\": \"Bedknobs and Broomsticks\", \"release_date\": \"1971-10-07T00:00:00\", \"genre\": \"Musical\", \"MPAA_rating\": null, \"total_gross\": 17871174, \"inflation_adjusted_gross\": 91305448}, {\"movie_title\": \"The Apple Dumpling Gang\", \"release_date\": \"1975-07-01T00:00:00\", \"genre\": \"Comedy\", \"MPAA_rating\": null, \"total_gross\": 31916500, \"inflation_adjusted_gross\": 131246872}, {\"movie_title\": \"Freaky Friday\", \"release_date\": \"1977-01-21T00:00:00\", \"genre\": \"Comedy\", \"MPAA_rating\": null, \"total_gross\": 25942000, \"inflation_adjusted_gross\": 98067733}, {\"movie_title\": \"The Rescuers\", \"release_date\": \"1977-06-22T00:00:00\", \"genre\": \"Adventure\", \"MPAA_rating\": null, \"total_gross\": 48775599, \"inflation_adjusted_gross\": 159743914}, {\"movie_title\": \"Amy\", \"release_date\": \"1981-03-20T00:00:00\", \"genre\": \"Drama\", \"MPAA_rating\": null, \"total_gross\": 0, \"inflation_adjusted_gross\": 0}, {\"movie_title\": \"The Fox and the Hound\", \"release_date\": \"1981-07-10T00:00:00\", \"genre\": \"Comedy\", \"MPAA_rating\": null, \"total_gross\": 43899231, \"inflation_adjusted_gross\": 133118889}, {\"movie_title\": \"Condorman\", \"release_date\": \"1981-08-07T00:00:00\", \"genre\": \"Action\", \"MPAA_rating\": null, \"total_gross\": 0, \"inflation_adjusted_gross\": 0}, {\"movie_title\": \"Night Crossing\", \"release_date\": \"1982-02-05T00:00:00\", \"genre\": \"Drama\", \"MPAA_rating\": null, \"total_gross\": 4500000, \"inflation_adjusted_gross\": 12903059}, {\"movie_title\": \"Tron\", \"release_date\": \"1982-07-09T00:00:00\", \"genre\": \"Action\", \"MPAA_rating\": null, \"total_gross\": 26918576, \"inflation_adjusted_gross\": 77184895}, {\"movie_title\": \"Tex\", \"release_date\": \"1982-11-19T00:00:00\", \"genre\": \"Drama\", \"MPAA_rating\": null, \"total_gross\": 7199408, \"inflation_adjusted_gross\": 20643199}, {\"movie_title\": \"Trenchcoat\", \"release_date\": \"1983-03-11T00:00:00\", \"genre\": \"Comedy\", \"MPAA_rating\": null, \"total_gross\": 4304286, \"inflation_adjusted_gross\": 11519089}, {\"movie_title\": \"Something Wicked This Way Comes\", \"release_date\": \"1983-04-29T00:00:00\", \"genre\": \"Horror\", \"MPAA_rating\": null, \"total_gross\": 5656087, \"inflation_adjusted_gross\": 15136765}, {\"movie_title\": \"Never Cry Wolf\", \"release_date\": \"1983-10-07T00:00:00\", \"genre\": \"Drama\", \"MPAA_rating\": null, \"total_gross\": 27668764, \"inflation_adjusted_gross\": 70669955}, {\"movie_title\": \"Running Brave\", \"release_date\": \"1983-11-04T00:00:00\", \"genre\": \"Drama\", \"MPAA_rating\": null, \"total_gross\": 1204595, \"inflation_adjusted_gross\": 3223725}, {\"movie_title\": \"Splash\", \"release_date\": \"1984-03-09T00:00:00\", \"genre\": \"Comedy\", \"MPAA_rating\": \"PG\", \"total_gross\": 62599495, \"inflation_adjusted_gross\": 157057661}, {\"movie_title\": \"Country\", \"release_date\": \"1984-09-29T00:00:00\", \"genre\": \"Drama\", \"MPAA_rating\": null, \"total_gross\": 8400000, \"inflation_adjusted_gross\": 21075000}, {\"movie_title\": \"Baby: Secret of the Lost Legend\", \"release_date\": \"1985-03-22T00:00:00\", \"genre\": \"Adventure\", \"MPAA_rating\": null, \"total_gross\": 14276095, \"inflation_adjusted_gross\": 33900697}, {\"movie_title\": \"Return to Oz\", \"release_date\": \"1985-06-21T00:00:00\", \"genre\": \"Adventure\", \"MPAA_rating\": null, \"total_gross\": 10618813, \"inflation_adjusted_gross\": 25215934}, {\"movie_title\": \"The Black Cauldron\", \"release_date\": \"1985-07-24T00:00:00\", \"genre\": \"Adventure\", \"MPAA_rating\": null, \"total_gross\": 21288692, \"inflation_adjusted_gross\": 50553142}, {\"movie_title\": \"My Science Project\", \"release_date\": \"1985-08-09T00:00:00\", \"genre\": \"Comedy\", \"MPAA_rating\": null, \"total_gross\": 4100000, \"inflation_adjusted_gross\": 9736051}, {\"movie_title\": \"The Journey of Natty Gann\", \"release_date\": \"1985-09-27T00:00:00\", \"genre\": \"Drama\", \"MPAA_rating\": null, \"total_gross\": 9468512, \"inflation_adjusted_gross\": 22302956}, {\"movie_title\": \"One Magic Christmas\", \"release_date\": \"1985-11-22T00:00:00\", \"genre\": \"Drama\", \"MPAA_rating\": null, \"total_gross\": 13229514, \"inflation_adjusted_gross\": 31415432}, {\"movie_title\": \"Down and Out in Beverly Hills\", \"release_date\": \"1986-01-31T00:00:00\", \"genre\": \"Comedy\", \"MPAA_rating\": \"R\", \"total_gross\": 62134225, \"inflation_adjusted_gross\": 141183693}, {\"movie_title\": \"Off Beat\", \"release_date\": \"1986-04-11T00:00:00\", \"genre\": \"Comedy\", \"MPAA_rating\": null, \"total_gross\": 4842778, \"inflation_adjusted_gross\": 11003932}, {\"movie_title\": \"Ruthless People\", \"release_date\": \"1986-06-27T00:00:00\", \"genre\": \"Comedy\", \"MPAA_rating\": \"R\", \"total_gross\": 71624879, \"inflation_adjusted_gross\": 162748712}, {\"movie_title\": \"The Great Mouse Detective\", \"release_date\": \"1986-07-02T00:00:00\", \"genre\": \"Adventure\", \"MPAA_rating\": null, \"total_gross\": 23605534, \"inflation_adjusted_gross\": 53637367}, {\"movie_title\": \"Flight of the Navigator\", \"release_date\": \"1986-07-30T00:00:00\", \"genre\": \"Adventure\", \"MPAA_rating\": null, \"total_gross\": 18564613, \"inflation_adjusted_gross\": 42183197}, {\"movie_title\": \"Tough Guys\", \"release_date\": \"1986-10-03T00:00:00\", \"genre\": \"Comedy\", \"MPAA_rating\": null, \"total_gross\": 21458229, \"inflation_adjusted_gross\": 48758184}, {\"movie_title\": \"The Color of Money\", \"release_date\": \"1986-10-17T00:00:00\", \"genre\": \"Drama\", \"MPAA_rating\": \"R\", \"total_gross\": 52293000, \"inflation_adjusted_gross\": 117957323}, {\"movie_title\": \"Outrageous Fortune\", \"release_date\": \"1987-01-30T00:00:00\", \"genre\": \"Comedy\", \"MPAA_rating\": \"R\", \"total_gross\": 52864741, \"inflation_adjusted_gross\": 113976921}, {\"movie_title\": \"Tin Men\", \"release_date\": \"1987-03-06T00:00:00\", \"genre\": \"Comedy\", \"MPAA_rating\": null, \"total_gross\": 25411386, \"inflation_adjusted_gross\": 54787202}, {\"movie_title\": \"Ernest Goes to Camp\", \"release_date\": \"1987-05-22T00:00:00\", \"genre\": \"Comedy\", \"MPAA_rating\": null, \"total_gross\": 23509382, \"inflation_adjusted_gross\": 50686462}, {\"movie_title\": \"Benji the Hunted\", \"release_date\": \"1987-06-05T00:00:00\", \"genre\": \"Adventure\", \"MPAA_rating\": null, \"total_gross\": 15212539, \"inflation_adjusted_gross\": 32798382}, {\"movie_title\": \"Adventures in Babysitting\", \"release_date\": \"1987-07-03T00:00:00\", \"genre\": \"Comedy\", \"MPAA_rating\": null, \"total_gross\": 33790923, \"inflation_adjusted_gross\": 72853569}, {\"movie_title\": \"Stakeout\", \"release_date\": \"1987-08-05T00:00:00\", \"genre\": \"Comedy\", \"MPAA_rating\": \"R\", \"total_gross\": 65673233, \"inflation_adjusted_gross\": 141592160}, {\"movie_title\": \"Can't Buy Me Love\", \"release_date\": \"1987-08-14T00:00:00\", \"genre\": \"Romantic Comedy\", \"MPAA_rating\": null, \"total_gross\": 31623833, \"inflation_adjusted_gross\": 68181300}, {\"movie_title\": \"Hello Again\", \"release_date\": \"1987-11-06T00:00:00\", \"genre\": \"Comedy\", \"MPAA_rating\": null, \"total_gross\": 20419446, \"inflation_adjusted_gross\": 44024529}, {\"movie_title\": \"3 Men and a Baby\", \"release_date\": \"1987-11-25T00:00:00\", \"genre\": \"Comedy\", \"MPAA_rating\": \"PG\", \"total_gross\": 167780960, \"inflation_adjusted_gross\": 353334607}, {\"movie_title\": \"Good Morning Vietnam\", \"release_date\": \"1987-12-23T00:00:00\", \"genre\": \"Comedy\", \"MPAA_rating\": \"R\", \"total_gross\": 123922370, \"inflation_adjusted_gross\": 254414837}, {\"movie_title\": \"Shoot to Kill\", \"release_date\": \"1988-02-12T00:00:00\", \"genre\": \"Action\", \"MPAA_rating\": null, \"total_gross\": 29300000, \"inflation_adjusted_gross\": 60097074}, {\"movie_title\": \"D.O.A.\", \"release_date\": \"1988-03-18T00:00:00\", \"genre\": \"Thriller/Suspense\", \"MPAA_rating\": null, \"total_gross\": 12706478, \"inflation_adjusted_gross\": 26062188}, {\"movie_title\": \"Return to Snowy River\", \"release_date\": \"1988-04-15T00:00:00\", \"genre\": \"Adventure\", \"MPAA_rating\": \"PG\", \"total_gross\": 13687027, \"inflation_adjusted_gross\": 28073384}, {\"movie_title\": \"Big Business\", \"release_date\": \"1988-06-10T00:00:00\", \"genre\": \"Comedy\", \"MPAA_rating\": \"PG\", \"total_gross\": 40150487, \"inflation_adjusted_gross\": 82352451}, {\"movie_title\": \"Who Framed Roger Rabbit?\", \"release_date\": \"1988-06-22T00:00:00\", \"genre\": \"Comedy\", \"MPAA_rating\": \"PG\", \"total_gross\": 154112492, \"inflation_adjusted_gross\": 316250084}, {\"movie_title\": \"Cocktail\", \"release_date\": \"1988-07-29T00:00:00\", \"genre\": \"Drama\", \"MPAA_rating\": \"R\", \"total_gross\": 78222753, \"inflation_adjusted_gross\": 160442289}, {\"movie_title\": \"The Rescue\", \"release_date\": \"1988-08-05T00:00:00\", \"genre\": \"Action\", \"MPAA_rating\": null, \"total_gross\": 5855392, \"inflation_adjusted_gross\": 12009960}, {\"movie_title\": \"Heartbreak Hotel\", \"release_date\": \"1988-09-30T00:00:00\", \"genre\": \"Comedy\", \"MPAA_rating\": null, \"total_gross\": 5509417, \"inflation_adjusted_gross\": 11300331}, {\"movie_title\": \"The Good Mother\", \"release_date\": \"1988-11-04T00:00:00\", \"genre\": \"Drama\", \"MPAA_rating\": null, \"total_gross\": 4764606, \"inflation_adjusted_gross\": 9772655}, {\"movie_title\": \"Ernest Saves Christmas\", \"release_date\": \"1988-11-11T00:00:00\", \"genre\": \"Comedy\", \"MPAA_rating\": \"PG\", \"total_gross\": 28202109, \"inflation_adjusted_gross\": 57845202}, {\"movie_title\": \"Oliver & Company\", \"release_date\": \"1988-11-18T00:00:00\", \"genre\": \"Adventure\", \"MPAA_rating\": \"G\", \"total_gross\": 49576671, \"inflation_adjusted_gross\": 102254492}, {\"movie_title\": \"Beaches\", \"release_date\": \"1988-12-21T00:00:00\", \"genre\": \"Drama\", \"MPAA_rating\": \"PG-13\", \"total_gross\": 57041866, \"inflation_adjusted_gross\": 120381757}, {\"movie_title\": \"Three Fugitives\", \"release_date\": \"1989-01-27T00:00:00\", \"genre\": \"Comedy\", \"MPAA_rating\": \"PG-13\", \"total_gross\": 40590000, \"inflation_adjusted_gross\": 85757817}, {\"movie_title\": \"New York Stories\", \"release_date\": \"1989-03-01T00:00:00\", \"genre\": \"Drama\", \"MPAA_rating\": \"PG\", \"total_gross\": 10763469, \"inflation_adjusted_gross\": 22740861}, {\"movie_title\": \"Disorganized Crime\", \"release_date\": \"1989-04-14T00:00:00\", \"genre\": \"Comedy\", \"MPAA_rating\": null, \"total_gross\": 7210149, \"inflation_adjusted_gross\": 15233465}, {\"movie_title\": \"Dead Poets Society\", \"release_date\": \"1989-06-02T00:00:00\", \"genre\": \"Drama\", \"MPAA_rating\": \"PG\", \"total_gross\": 95860116, \"inflation_adjusted_gross\": 202531517}, {\"movie_title\": \"Honey, I Shrunk the Kids\", \"release_date\": \"1989-06-23T00:00:00\", \"genre\": \"Adventure\", \"MPAA_rating\": \"PG\", \"total_gross\": 130724172, \"inflation_adjusted_gross\": 276191669}, {\"movie_title\": \"Turner & Hooch\", \"release_date\": \"1989-07-28T00:00:00\", \"genre\": \"Comedy\", \"MPAA_rating\": \"PG\", \"total_gross\": 71079915, \"inflation_adjusted_gross\": 150176361}, {\"movie_title\": \"Cheetah\", \"release_date\": \"1989-08-18T00:00:00\", \"genre\": \"Adventure\", \"MPAA_rating\": null, \"total_gross\": 7882250, \"inflation_adjusted_gross\": 16653473}, {\"movie_title\": \"An Innocent Man\", \"release_date\": \"1989-10-06T00:00:00\", \"genre\": \"Drama\", \"MPAA_rating\": \"R\", \"total_gross\": 19397847, \"inflation_adjusted_gross\": 40983414}, {\"movie_title\": \"Gross Anatomy\", \"release_date\": \"1989-10-20T00:00:00\", \"genre\": \"Drama\", \"MPAA_rating\": \"PG-13\", \"total_gross\": 11346186, \"inflation_adjusted_gross\": 23972012}, {\"movie_title\": \"The Little Mermaid\", \"release_date\": \"1989-11-15T00:00:00\", \"genre\": \"Adventure\", \"MPAA_rating\": \"G\", \"total_gross\": 111543479, \"inflation_adjusted_gross\": 223726012}, {\"movie_title\": \"Blaze\", \"release_date\": \"1989-12-13T00:00:00\", \"genre\": \"Drama\", \"MPAA_rating\": \"R\", \"total_gross\": 19049727, \"inflation_adjusted_gross\": 39884640}, {\"movie_title\": \"Stella\", \"release_date\": \"1990-02-02T00:00:00\", \"genre\": \"Drama\", \"MPAA_rating\": \"PG-13\", \"total_gross\": 20062347, \"inflation_adjusted_gross\": 40077147}, {\"movie_title\": \"Where the Heart Is\", \"release_date\": \"1990-02-23T00:00:00\", \"genre\": \"Comedy\", \"MPAA_rating\": null, \"total_gross\": 1106475, \"inflation_adjusted_gross\": 2210321}, {\"movie_title\": \"Pretty Woman\", \"release_date\": \"1990-03-23T00:00:00\", \"genre\": \"Romantic Comedy\", \"MPAA_rating\": \"R\", \"total_gross\": 178406268, \"inflation_adjusted_gross\": 356389765}, {\"movie_title\": \"Ernest Goes to Jail\", \"release_date\": \"1990-04-06T00:00:00\", \"genre\": \"Comedy\", \"MPAA_rating\": \"PG\", \"total_gross\": 25029569, \"inflation_adjusted_gross\": 49999822}, {\"movie_title\": \"Spaced Invaders\", \"release_date\": \"1990-04-27T00:00:00\", \"genre\": \"Comedy\", \"MPAA_rating\": \"PG\", \"total_gross\": 15000000, \"inflation_adjusted_gross\": 29964452}, {\"movie_title\": \"Fire Birds\", \"release_date\": \"1990-05-24T00:00:00\", \"genre\": \"Action\", \"MPAA_rating\": \"PG-13\", \"total_gross\": 14760451, \"inflation_adjusted_gross\": 29485923}, {\"movie_title\": \"Dick Tracy\", \"release_date\": \"1990-06-15T00:00:00\", \"genre\": \"Action\", \"MPAA_rating\": \"PG\", \"total_gross\": 103738726, \"inflation_adjusted_gross\": 207231621}, {\"movie_title\": \"Betsy's Wedding\", \"release_date\": \"1990-06-22T00:00:00\", \"genre\": \"Comedy\", \"MPAA_rating\": \"R\", \"total_gross\": 19740070, \"inflation_adjusted_gross\": 39433357}, {\"movie_title\": \"Arachnophobia\", \"release_date\": \"1990-07-18T00:00:00\", \"genre\": \"Thriller/Suspense\", \"MPAA_rating\": \"PG-13\", \"total_gross\": 53208180, \"inflation_adjusted_gross\": 106290270}, {\"movie_title\": \"DuckTales: The Movie - Treasure of th\\u2026\", \"release_date\": \"1990-08-03T00:00:00\", \"genre\": \"Adventure\", \"MPAA_rating\": \"G\", \"total_gross\": 18075331, \"inflation_adjusted_gross\": 36107823}, {\"movie_title\": \"Taking Care of Business\", \"release_date\": \"1990-08-17T00:00:00\", \"genre\": \"Comedy\", \"MPAA_rating\": \"R\", \"total_gross\": 20005435, \"inflation_adjusted_gross\": 39963460}, {\"movie_title\": \"Mr. Destiny\", \"release_date\": \"1990-10-12T00:00:00\", \"genre\": \"Comedy\", \"MPAA_rating\": \"PG-13\", \"total_gross\": 15379253, \"inflation_adjusted_gross\": 30722056}, {\"movie_title\": \"The Rescuers Down Under\", \"release_date\": \"1990-11-16T00:00:00\", \"genre\": \"Adventure\", \"MPAA_rating\": \"G\", \"total_gross\": 27931461, \"inflation_adjusted_gross\": 55796728}, {\"movie_title\": \"3 Men and a Little Lady\", \"release_date\": \"1990-11-21T00:00:00\", \"genre\": \"Comedy\", \"MPAA_rating\": \"PG\", \"total_gross\": 71609321, \"inflation_adjusted_gross\": 143108869}, {\"movie_title\": \"Green Card\", \"release_date\": \"1990-12-25T00:00:00\", \"genre\": \"Romantic Comedy\", \"MPAA_rating\": \"PG-13\", \"total_gross\": 29804169, \"inflation_adjusted_gross\": 59679131}, {\"movie_title\": \"White Fang\", \"release_date\": \"1991-01-18T00:00:00\", \"genre\": \"Adventure\", \"MPAA_rating\": \"PG\", \"total_gross\": 34729091, \"inflation_adjusted_gross\": 69540672}, {\"movie_title\": \"Scenes from a Mall\", \"release_date\": \"1991-02-22T00:00:00\", \"genre\": \"Comedy\", \"MPAA_rating\": null, \"total_gross\": 9563393, \"inflation_adjusted_gross\": 19149495}, {\"movie_title\": \"Haakon Haakonsen\", \"release_date\": \"1991-03-01T00:00:00\", \"genre\": \"Adventure\", \"MPAA_rating\": \"PG\", \"total_gross\": 15024232, \"inflation_adjusted_gross\": 30084149}, {\"movie_title\": \"The Marrying Man\", \"release_date\": \"1991-04-05T00:00:00\", \"genre\": \"Romantic Comedy\", \"MPAA_rating\": \"R\", \"total_gross\": 12454768, \"inflation_adjusted_gross\": 24939118}, {\"movie_title\": \"Oscar\", \"release_date\": \"1991-04-26T00:00:00\", \"genre\": \"Comedy\", \"MPAA_rating\": \"PG\", \"total_gross\": 23562716, \"inflation_adjusted_gross\": 47181395}, {\"movie_title\": \"One Good Cop\", \"release_date\": \"1991-05-03T00:00:00\", \"genre\": \"Action\", \"MPAA_rating\": \"R\", \"total_gross\": 11276846, \"inflation_adjusted_gross\": 22580472}, {\"movie_title\": \"What About Bob?\", \"release_date\": \"1991-05-17T00:00:00\", \"genre\": \"Comedy\", \"MPAA_rating\": \"PG\", \"total_gross\": 63710000, \"inflation_adjusted_gross\": 127571325}, {\"movie_title\": \"Wild Hearts Can't Be Broken\", \"release_date\": \"1991-05-24T00:00:00\", \"genre\": \"Drama\", \"MPAA_rating\": null, \"total_gross\": 7300000, \"inflation_adjusted_gross\": 14617333}, {\"movie_title\": \"The Rocketeer\", \"release_date\": \"1991-06-21T00:00:00\", \"genre\": \"Action\", \"MPAA_rating\": \"PG\", \"total_gross\": 46573027, \"inflation_adjusted_gross\": 93256673}, {\"movie_title\": \"The Doctor\", \"release_date\": \"1991-07-24T00:00:00\", \"genre\": \"Drama\", \"MPAA_rating\": \"PG-13\", \"total_gross\": 37497480, \"inflation_adjusted_gross\": 75084021}, {\"movie_title\": \"Paradise\", \"release_date\": \"1991-09-18T00:00:00\", \"genre\": \"Drama\", \"MPAA_rating\": \"PG-13\", \"total_gross\": 18634643, \"inflation_adjusted_gross\": 37313540}, {\"movie_title\": \"Deceived\", \"release_date\": \"1991-09-27T00:00:00\", \"genre\": \"Thriller/Suspense\", \"MPAA_rating\": \"PG-13\", \"total_gross\": 28738096, \"inflation_adjusted_gross\": 57544453}, {\"movie_title\": \"Ernest Scared Stupid\", \"release_date\": \"1991-10-11T00:00:00\", \"genre\": \"Comedy\", \"MPAA_rating\": \"PG\", \"total_gross\": 14143280, \"inflation_adjusted_gross\": 28320147}, {\"movie_title\": \"Billy Bathgate\", \"release_date\": \"1991-11-01T00:00:00\", \"genre\": \"Drama\", \"MPAA_rating\": \"R\", \"total_gross\": 15565363, \"inflation_adjusted_gross\": 31167691}, {\"movie_title\": \"Beauty and the Beast\", \"release_date\": \"1991-11-13T00:00:00\", \"genre\": \"Musical\", \"MPAA_rating\": \"G\", \"total_gross\": 218951625, \"inflation_adjusted_gross\": 363017667}, {\"movie_title\": \"Father of the Bride\", \"release_date\": \"1991-12-20T00:00:00\", \"genre\": \"Comedy\", \"MPAA_rating\": \"PG\", \"total_gross\": 89325780, \"inflation_adjusted_gross\": 179821881}, {\"movie_title\": \"The Hand That Rocks the Cradle\", \"release_date\": \"1992-01-10T00:00:00\", \"genre\": \"Thriller/Suspense\", \"MPAA_rating\": \"R\", \"total_gross\": 88036683, \"inflation_adjusted_gross\": 178831137}, {\"movie_title\": \"Medicine Man\", \"release_date\": \"1992-02-07T00:00:00\", \"genre\": \"Drama\", \"MPAA_rating\": \"PG-13\", \"total_gross\": 44948240, \"inflation_adjusted_gross\": 91304495}, {\"movie_title\": \"Blame it on the Bellboy\", \"release_date\": \"1992-03-06T00:00:00\", \"genre\": \"Comedy\", \"MPAA_rating\": \"PG-13\", \"total_gross\": 2891055, \"inflation_adjusted_gross\": 5872667}, {\"movie_title\": \"Noises Off...\", \"release_date\": \"1992-03-20T00:00:00\", \"genre\": \"Comedy\", \"MPAA_rating\": \"PG-13\", \"total_gross\": 2280148, \"inflation_adjusted_gross\": 4631720}, {\"movie_title\": \"Straight Talk\", \"release_date\": \"1992-04-03T00:00:00\", \"genre\": \"Comedy\", \"MPAA_rating\": \"PG\", \"total_gross\": 21202099, \"inflation_adjusted_gross\": 43068356}, {\"movie_title\": \"Encino Man\", \"release_date\": \"1992-05-22T00:00:00\", \"genre\": \"Comedy\", \"MPAA_rating\": \"PG\", \"total_gross\": 40057130, \"inflation_adjusted_gross\": 81369058}, {\"movie_title\": \"Sister Act\", \"release_date\": \"1992-05-29T00:00:00\", \"genre\": \"Comedy\", \"MPAA_rating\": \"PG\", \"total_gross\": 139605150, \"inflation_adjusted_gross\": 283583472}, {\"movie_title\": \"Honey I Blew Up the Kid\", \"release_date\": \"1992-07-17T00:00:00\", \"genre\": \"Comedy\", \"MPAA_rating\": \"PG\", \"total_gross\": 58662452, \"inflation_adjusted_gross\": 119162518}, {\"movie_title\": \"A Stranger Among Us\", \"release_date\": \"1992-07-17T00:00:00\", \"genre\": \"Drama\", \"MPAA_rating\": \"PG-13\", \"total_gross\": 12282994, \"inflation_adjusted_gross\": 24950752}, {\"movie_title\": \"3 Ninjas\", \"release_date\": \"1992-08-07T00:00:00\", \"genre\": \"Action\", \"MPAA_rating\": \"PG\", \"total_gross\": 29028000, \"inflation_adjusted_gross\": 58965304}, {\"movie_title\": \"Captain Ron\", \"release_date\": \"1992-09-18T00:00:00\", \"genre\": \"Comedy\", \"MPAA_rating\": \"PG-13\", \"total_gross\": 22518097, \"inflation_adjusted_gross\": 45741576}, {\"movie_title\": \"Sarafina!\", \"release_date\": \"1992-09-18T00:00:00\", \"genre\": \"Drama\", \"MPAA_rating\": \"PG-13\", \"total_gross\": 7306242, \"inflation_adjusted_gross\": 14841352}, {\"movie_title\": \"Innocent Blood\", \"release_date\": \"1992-09-25T00:00:00\", \"genre\": \"Horror\", \"MPAA_rating\": \"R\", \"total_gross\": 4877567, \"inflation_adjusted_gross\": 9907922}, {\"movie_title\": \"The Mighty Ducks\", \"release_date\": \"1992-10-02T00:00:00\", \"genre\": \"Comedy\", \"MPAA_rating\": \"PG\", \"total_gross\": 50752337, \"inflation_adjusted_gross\": 103120810}, {\"movie_title\": \"1492: Conquest of Paradise\", \"release_date\": \"1992-10-09T00:00:00\", \"genre\": \"Adventure\", \"MPAA_rating\": \"PG-13\", \"total_gross\": 7099531, \"inflation_adjusted_gross\": 14421454}, {\"movie_title\": \"Consenting Adults\", \"release_date\": \"1992-10-16T00:00:00\", \"genre\": \"Drama\", \"MPAA_rating\": \"R\", \"total_gross\": 21591728, \"inflation_adjusted_gross\": 43859823}, {\"movie_title\": \"Aladdin\", \"release_date\": \"1992-11-11T00:00:00\", \"genre\": \"Comedy\", \"MPAA_rating\": \"G\", \"total_gross\": 217350219, \"inflation_adjusted_gross\": 441969178}, {\"movie_title\": \"The Distinguished Gentleman\", \"release_date\": \"1992-12-04T00:00:00\", \"genre\": \"Comedy\", \"MPAA_rating\": \"R\", \"total_gross\": 46434570, \"inflation_adjusted_gross\": 94349900}, {\"movie_title\": \"The Muppet Christmas Carol\", \"release_date\": \"1992-12-11T00:00:00\", \"genre\": \"Comedy\", \"MPAA_rating\": \"G\", \"total_gross\": 27281507, \"inflation_adjusted_gross\": 55417615}, {\"movie_title\": \"Alive\", \"release_date\": \"1993-01-15T00:00:00\", \"genre\": \"Adventure\", \"MPAA_rating\": \"R\", \"total_gross\": 36299670, \"inflation_adjusted_gross\": 73914543}, {\"movie_title\": \"Aspen Extreme\", \"release_date\": \"1993-01-22T00:00:00\", \"genre\": \"Romantic Comedy\", \"MPAA_rating\": \"PG-13\", \"total_gross\": 7843388, \"inflation_adjusted_gross\": 15970955}, {\"movie_title\": \"Homeward Bound: The Incredible Journey\", \"release_date\": \"1993-02-03T00:00:00\", \"genre\": \"Adventure\", \"MPAA_rating\": \"G\", \"total_gross\": 41833324, \"inflation_adjusted_gross\": 85182343}, {\"movie_title\": \"The Cemetery Club\", \"release_date\": \"1993-02-03T00:00:00\", \"genre\": \"Comedy\", \"MPAA_rating\": \"PG-13\", \"total_gross\": 5583621, \"inflation_adjusted_gross\": 11369541}, {\"movie_title\": \"Swing Kids\", \"release_date\": \"1993-03-05T00:00:00\", \"genre\": \"Musical\", \"MPAA_rating\": \"PG-13\", \"total_gross\": 5632086, \"inflation_adjusted_gross\": 11468231}, {\"movie_title\": \"A Far Off Place\", \"release_date\": \"1993-03-12T00:00:00\", \"genre\": \"Adventure\", \"MPAA_rating\": \"PG\", \"total_gross\": 12890752, \"inflation_adjusted_gross\": 26248558}, {\"movie_title\": \"Born Yesterday\", \"release_date\": \"1993-03-26T00:00:00\", \"genre\": \"Romantic Comedy\", \"MPAA_rating\": \"PG\", \"total_gross\": 17760754, \"inflation_adjusted_gross\": 36165012}, {\"movie_title\": \"The Adventures of Huck Finn\", \"release_date\": \"1993-04-02T00:00:00\", \"genre\": \"Adventure\", \"MPAA_rating\": \"PG\", \"total_gross\": 24103594, \"inflation_adjusted_gross\": 49080505}, {\"movie_title\": \"Indian Summer\", \"release_date\": \"1993-04-23T00:00:00\", \"genre\": \"Comedy\", \"MPAA_rating\": \"R\", \"total_gross\": 14717851, \"inflation_adjusted_gross\": 29968953}, {\"movie_title\": \"Super Mario Bros.\", \"release_date\": \"1993-05-28T00:00:00\", \"genre\": \"Action\", \"MPAA_rating\": \"PG\", \"total_gross\": 20844907, \"inflation_adjusted_gross\": 42445058}, {\"movie_title\": \"Guilty as Sin\", \"release_date\": \"1993-06-04T00:00:00\", \"genre\": \"Thriller/Suspense\", \"MPAA_rating\": \"R\", \"total_gross\": 22622537, \"inflation_adjusted_gross\": 46064723}, {\"movie_title\": \"Life With Mikey\", \"release_date\": \"1993-06-04T00:00:00\", \"genre\": \"Comedy\", \"MPAA_rating\": \"PG\", \"total_gross\": 12349549, \"inflation_adjusted_gross\": 25146538}, {\"movie_title\": \"What's Love Got to Do With It\", \"release_date\": \"1993-06-09T00:00:00\", \"genre\": \"Drama\", \"MPAA_rating\": \"R\", \"total_gross\": 39100956, \"inflation_adjusted_gross\": 79618610}, {\"movie_title\": \"Son in Law\", \"release_date\": \"1993-07-02T00:00:00\", \"genre\": \"Comedy\", \"MPAA_rating\": \"PG-13\", \"total_gross\": 25989889, \"inflation_adjusted_gross\": 52921433}, {\"movie_title\": \"Hocus Pocus\", \"release_date\": \"1993-07-16T00:00:00\", \"genre\": \"Comedy\", \"MPAA_rating\": \"PG\", \"total_gross\": 39360491, \"inflation_adjusted_gross\": 80147079}, {\"movie_title\": \"Another Stakeout\", \"release_date\": \"1993-07-23T00:00:00\", \"genre\": \"Comedy\", \"MPAA_rating\": \"PG-13\", \"total_gross\": 20107504, \"inflation_adjusted_gross\": 40943541}, {\"movie_title\": \"The Joy Luck Club\", \"release_date\": \"1993-09-08T00:00:00\", \"genre\": \"Drama\", \"MPAA_rating\": \"R\", \"total_gross\": 32790064, \"inflation_adjusted_gross\": 66768171}, {\"movie_title\": \"Money for Nothing\", \"release_date\": \"1993-09-10T00:00:00\", \"genre\": \"Comedy\", \"MPAA_rating\": \"R\", \"total_gross\": 1044824, \"inflation_adjusted_gross\": 2127496}, {\"movie_title\": \"The Program\", \"release_date\": \"1993-09-24T00:00:00\", \"genre\": \"Action\", \"MPAA_rating\": \"R\", \"total_gross\": 23042200, \"inflation_adjusted_gross\": 46919256}, {\"movie_title\": \"Cool Runnings\", \"release_date\": \"1993-10-01T00:00:00\", \"genre\": \"Comedy\", \"MPAA_rating\": \"PG\", \"total_gross\": 68856263, \"inflation_adjusted_gross\": 140392731}, {\"movie_title\": \"The Nightmare Before Christmas\", \"release_date\": \"1993-10-13T00:00:00\", \"genre\": \"Musical\", \"MPAA_rating\": \"PG\", \"total_gross\": 50408318, \"inflation_adjusted_gross\": 100026637}, {\"movie_title\": \"The Three Musketeers\", \"release_date\": \"1993-11-12T00:00:00\", \"genre\": \"Adventure\", \"MPAA_rating\": \"PG\", \"total_gross\": 53661805, \"inflation_adjusted_gross\": 109310377}, {\"movie_title\": \"Sister Act 2 Back in the Habit\", \"release_date\": \"1993-12-10T00:00:00\", \"genre\": \"Comedy\", \"MPAA_rating\": \"PG\", \"total_gross\": 57319029, \"inflation_adjusted_gross\": 116965668}, {\"movie_title\": \"Tombstone\", \"release_date\": \"1993-12-25T00:00:00\", \"genre\": \"Western\", \"MPAA_rating\": \"R\", \"total_gross\": 56505065, \"inflation_adjusted_gross\": 115781734}, {\"movie_title\": \"The Air Up There\", \"release_date\": \"1994-01-07T00:00:00\", \"genre\": \"Comedy\", \"MPAA_rating\": \"PG\", \"total_gross\": 20782439, \"inflation_adjusted_gross\": 42940186}, {\"movie_title\": \"Cabin Boy\", \"release_date\": \"1994-01-07T00:00:00\", \"genre\": \"Comedy\", \"MPAA_rating\": \"PG-13\", \"total_gross\": 3469493, \"inflation_adjusted_gross\": 7168577}, {\"movie_title\": \"Iron Will\", \"release_date\": \"1994-01-14T00:00:00\", \"genre\": \"Drama\", \"MPAA_rating\": \"PG\", \"total_gross\": 20623071, \"inflation_adjusted_gross\": 42610902}, {\"movie_title\": \"Blank Check\", \"release_date\": \"1994-02-11T00:00:00\", \"genre\": \"Comedy\", \"MPAA_rating\": \"PG\", \"total_gross\": 30573770, \"inflation_adjusted_gross\": 63170804}, {\"movie_title\": \"Angie\", \"release_date\": \"1994-03-04T00:00:00\", \"genre\": \"Comedy\", \"MPAA_rating\": \"R\", \"total_gross\": 9252349, \"inflation_adjusted_gross\": 19116981}, {\"movie_title\": \"The Ref\", \"release_date\": \"1994-03-09T00:00:00\", \"genre\": \"Comedy\", \"MPAA_rating\": \"R\", \"total_gross\": 11325885, \"inflation_adjusted_gross\": 23401275}, {\"movie_title\": \"D2: The Mighty Ducks\", \"release_date\": \"1994-03-25T00:00:00\", \"genre\": \"Comedy\", \"MPAA_rating\": \"PG\", \"total_gross\": 45604206, \"inflation_adjusted_gross\": 94226333}, {\"movie_title\": \"Holy Matrimony\", \"release_date\": \"1994-04-08T00:00:00\", \"genre\": \"Comedy\", \"MPAA_rating\": null, \"total_gross\": 713234, \"inflation_adjusted_gross\": 1473665}, {\"movie_title\": \"White Fang 2: Myth of the White Wolf\", \"release_date\": \"1994-04-15T00:00:00\", \"genre\": \"Adventure\", \"MPAA_rating\": \"PG\", \"total_gross\": 8752399, \"inflation_adjusted_gross\": 18083994}, {\"movie_title\": \"The Inkwell\", \"release_date\": \"1994-04-22T00:00:00\", \"genre\": \"Comedy\", \"MPAA_rating\": \"R\", \"total_gross\": 8864699, \"inflation_adjusted_gross\": 18316030}, {\"movie_title\": \"When a Man Loves a Woman\", \"release_date\": \"1994-04-29T00:00:00\", \"genre\": \"Drama\", \"MPAA_rating\": \"R\", \"total_gross\": 50021959, \"inflation_adjusted_gross\": 103354194}, {\"movie_title\": \"3 Ninjas Kick Back\", \"release_date\": \"1994-05-06T00:00:00\", \"genre\": \"Action\", \"MPAA_rating\": \"PG\", \"total_gross\": 11744960, \"inflation_adjusted_gross\": 24267154}, {\"movie_title\": \"Renaissance Man\", \"release_date\": \"1994-06-03T00:00:00\", \"genre\": \"Comedy\", \"MPAA_rating\": \"PG-13\", \"total_gross\": 24172899, \"inflation_adjusted_gross\": 49945474}, {\"movie_title\": \"The Lion King\", \"release_date\": \"1994-06-15T00:00:00\", \"genre\": \"Adventure\", \"MPAA_rating\": \"G\", \"total_gross\": 422780140, \"inflation_adjusted_gross\": 761640898}, {\"movie_title\": \"I Love Trouble\", \"release_date\": \"1994-06-29T00:00:00\", \"genre\": \"Romantic Comedy\", \"MPAA_rating\": \"PG\", \"total_gross\": 30806194, \"inflation_adjusted_gross\": 63651027}, {\"movie_title\": \"Angels in the Outfield\", \"release_date\": \"1994-07-15T00:00:00\", \"genre\": \"Comedy\", \"MPAA_rating\": \"PG\", \"total_gross\": 50236831, \"inflation_adjusted_gross\": 103798152}, {\"movie_title\": \"In the Army Now\", \"release_date\": \"1994-08-12T00:00:00\", \"genre\": \"Comedy\", \"MPAA_rating\": \"PG\", \"total_gross\": 28881266, \"inflation_adjusted_gross\": 59673787}, {\"movie_title\": \"Color of Night\", \"release_date\": \"1994-08-19T00:00:00\", \"genre\": \"Thriller/Suspense\", \"MPAA_rating\": \"R\", \"total_gross\": 19750470, \"inflation_adjusted_gross\": 40804816}, {\"movie_title\": \"Camp Nowhere\", \"release_date\": \"1994-08-26T00:00:00\", \"genre\": \"Comedy\", \"MPAA_rating\": \"PG\", \"total_gross\": 10442641, \"inflation_adjusted_gross\": 21576332}, {\"movie_title\": \"It's Pat\", \"release_date\": \"1994-08-26T00:00:00\", \"genre\": \"Comedy\", \"MPAA_rating\": null, \"total_gross\": 60822, \"inflation_adjusted_gross\": 125666}, {\"movie_title\": \"A Simple Twist of Fate\", \"release_date\": \"1994-09-02T00:00:00\", \"genre\": \"Drama\", \"MPAA_rating\": \"PG-13\", \"total_gross\": 3404935, \"inflation_adjusted_gross\": 7035189}, {\"movie_title\": \"Quiz Show\", \"release_date\": \"1994-09-14T00:00:00\", \"genre\": \"Drama\", \"MPAA_rating\": \"PG-13\", \"total_gross\": 24787282, \"inflation_adjusted_gross\": 50840394}, {\"movie_title\": \"Terminal Velocity\", \"release_date\": \"1994-09-23T00:00:00\", \"genre\": \"Action\", \"MPAA_rating\": \"PG-13\", \"total_gross\": 16478900, \"inflation_adjusted_gross\": 34048315}, {\"movie_title\": \"Ed Wood\", \"release_date\": \"1994-09-30T00:00:00\", \"genre\": \"Comedy\", \"MPAA_rating\": \"R\", \"total_gross\": 5828466, \"inflation_adjusted_gross\": 12042634}, {\"movie_title\": \"The Puppet Masters\", \"release_date\": \"1994-10-21T00:00:00\", \"genre\": \"Horror\", \"MPAA_rating\": \"R\", \"total_gross\": 8579626, \"inflation_adjusted_gross\": 17727017}, {\"movie_title\": \"Squanto: A Warrior's Tale\", \"release_date\": \"1994-10-28T00:00:00\", \"genre\": \"Drama\", \"MPAA_rating\": \"PG\", \"total_gross\": 3319344, \"inflation_adjusted_gross\": 6858345}, {\"movie_title\": \"The Santa Clause\", \"release_date\": \"1994-11-11T00:00:00\", \"genre\": \"Comedy\", \"MPAA_rating\": \"PG\", \"total_gross\": 144833357, \"inflation_adjusted_gross\": 298369717}, {\"movie_title\": \"A Low Down Dirty Shame\", \"release_date\": \"1994-11-23T00:00:00\", \"genre\": \"Action\", \"MPAA_rating\": \"R\", \"total_gross\": 29317886, \"inflation_adjusted_gross\": 60321919}, {\"movie_title\": \"The Jungle Book\", \"release_date\": \"1994-12-25T00:00:00\", \"genre\": \"Adventure\", \"MPAA_rating\": \"PG\", \"total_gross\": 44342956, \"inflation_adjusted_gross\": 88930321}, {\"movie_title\": \"Houseguest\", \"release_date\": \"1995-01-06T00:00:00\", \"genre\": \"Comedy\", \"MPAA_rating\": \"PG\", \"total_gross\": 26325256, \"inflation_adjusted_gross\": 51016522}, {\"movie_title\": \"Bad Company\", \"release_date\": \"1995-01-20T00:00:00\", \"genre\": \"Thriller/Suspense\", \"MPAA_rating\": \"R\", \"total_gross\": 3523909, \"inflation_adjusted_gross\": 6829092}, {\"movie_title\": \"Miami Rhapsody\", \"release_date\": \"1995-01-27T00:00:00\", \"genre\": \"Romantic Comedy\", \"MPAA_rating\": \"PG-13\", \"total_gross\": 5086578, \"inflation_adjusted_gross\": 9857435}, {\"movie_title\": \"The Jerky Boys\", \"release_date\": \"1995-02-03T00:00:00\", \"genre\": \"Comedy\", \"MPAA_rating\": \"R\", \"total_gross\": 7555256, \"inflation_adjusted_gross\": 14641561}, {\"movie_title\": \"Heavy Weights\", \"release_date\": \"1995-02-17T00:00:00\", \"genre\": \"Comedy\", \"MPAA_rating\": \"PG\", \"total_gross\": 17671310, \"inflation_adjusted_gross\": 34245779}, {\"movie_title\": \"Man of the House\", \"release_date\": \"1995-03-03T00:00:00\", \"genre\": \"Comedy\", \"MPAA_rating\": \"PG\", \"total_gross\": 40029009, \"inflation_adjusted_gross\": 77573459}, {\"movie_title\": \"Roommates\", \"release_date\": \"1995-03-03T00:00:00\", \"genre\": \"Comedy\", \"MPAA_rating\": \"PG\", \"total_gross\": 12076989, \"inflation_adjusted_gross\": 23404369}, {\"movie_title\": \"Tall Tale\", \"release_date\": \"1995-03-24T00:00:00\", \"genre\": \"Western\", \"MPAA_rating\": \"PG\", \"total_gross\": 8247627, \"inflation_adjusted_gross\": 15983331}, {\"movie_title\": \"A Pyromaniac's Love Story\", \"release_date\": \"1995-03-28T00:00:00\", \"genre\": \"Romantic Comedy\", \"MPAA_rating\": \"PG\", \"total_gross\": 468240, \"inflation_adjusted_gross\": 907414}, {\"movie_title\": \"Jefferson in Paris\", \"release_date\": \"1995-03-31T00:00:00\", \"genre\": \"Drama\", \"MPAA_rating\": \"PG-13\", \"total_gross\": 2461628, \"inflation_adjusted_gross\": 4770461}, {\"movie_title\": \"Funny Bones\", \"release_date\": \"1995-03-31T00:00:00\", \"genre\": \"Comedy\", \"MPAA_rating\": \"R\", \"total_gross\": 529135, \"inflation_adjusted_gross\": 1025425}, {\"movie_title\": \"A Goofy Movie\", \"release_date\": \"1995-04-07T00:00:00\", \"genre\": \"Comedy\", \"MPAA_rating\": \"G\", \"total_gross\": 35336439, \"inflation_adjusted_gross\": 68479579}, {\"movie_title\": \"While You Were Sleeping\", \"release_date\": \"1995-04-21T00:00:00\", \"genre\": \"Romantic Comedy\", \"MPAA_rating\": \"PG\", \"total_gross\": 81057016, \"inflation_adjusted_gross\": 157082900}, {\"movie_title\": \"Crimson Tide\", \"release_date\": \"1995-05-12T00:00:00\", \"genre\": \"Action\", \"MPAA_rating\": \"R\", \"total_gross\": 91387195, \"inflation_adjusted_gross\": 177102077}, {\"movie_title\": \"Mad Love\", \"release_date\": \"1995-05-26T00:00:00\", \"genre\": \"Drama\", \"MPAA_rating\": \"PG-13\", \"total_gross\": 15446532, \"inflation_adjusted_gross\": 29934306}, {\"movie_title\": \"Pocahontas\", \"release_date\": \"1995-06-10T00:00:00\", \"genre\": \"Adventure\", \"MPAA_rating\": \"G\", \"total_gross\": 141579773, \"inflation_adjusted_gross\": 274370957}, {\"movie_title\": \"Judge Dredd\", \"release_date\": \"1995-06-30T00:00:00\", \"genre\": \"Action\", \"MPAA_rating\": \"R\", \"total_gross\": 34687912, \"inflation_adjusted_gross\": 67222776}, {\"movie_title\": \"Operation Dumbo Drop\", \"release_date\": \"1995-07-28T00:00:00\", \"genre\": \"Adventure\", \"MPAA_rating\": \"PG\", \"total_gross\": 24670346, \"inflation_adjusted_gross\": 47809421}, {\"movie_title\": \"Dangerous Minds\", \"release_date\": \"1995-08-11T00:00:00\", \"genre\": \"Drama\", \"MPAA_rating\": \"R\", \"total_gross\": 84919401, \"inflation_adjusted_gross\": 164552293}, {\"movie_title\": \"A Kid in King Arthur's Court\", \"release_date\": \"1995-08-11T00:00:00\", \"genre\": \"Adventure\", \"MPAA_rating\": \"PG\", \"total_gross\": 13406717, \"inflation_adjusted_gross\": 25981285}, {\"movie_title\": \"The Tie That Binds\", \"release_date\": \"1995-09-08T00:00:00\", \"genre\": \"Thriller/Suspense\", \"MPAA_rating\": \"R\", \"total_gross\": 5762795, \"inflation_adjusted_gross\": 11167895}, {\"movie_title\": \"Unstrung Heroes\", \"release_date\": \"1995-09-15T00:00:00\", \"genre\": \"Drama\", \"MPAA_rating\": \"PG\", \"total_gross\": 7929000, \"inflation_adjusted_gross\": 15365850}, {\"movie_title\": \"The Big Green\", \"release_date\": \"1995-09-29T00:00:00\", \"genre\": \"Comedy\", \"MPAA_rating\": \"PG\", \"total_gross\": 17736619, \"inflation_adjusted_gross\": 34372339}, {\"movie_title\": \"Dead Presidents\", \"release_date\": \"1995-10-04T00:00:00\", \"genre\": \"Drama\", \"MPAA_rating\": \"R\", \"total_gross\": 24120194, \"inflation_adjusted_gross\": 46741467}, {\"movie_title\": \"The Scarlet Letter\", \"release_date\": \"1995-10-13T00:00:00\", \"genre\": \"Drama\", \"MPAA_rating\": \"R\", \"total_gross\": 10359006, \"inflation_adjusted_gross\": 20075033}, {\"movie_title\": \"Feast of July\", \"release_date\": \"1995-10-13T00:00:00\", \"genre\": \"Drama\", \"MPAA_rating\": \"R\", \"total_gross\": 293274, \"inflation_adjusted_gross\": 568342}, {\"movie_title\": \"Powder\", \"release_date\": \"1995-10-27T00:00:00\", \"genre\": \"Drama\", \"MPAA_rating\": \"PG-13\", \"total_gross\": 30833914, \"inflation_adjusted_gross\": 59727216}, {\"movie_title\": \"Toy Story\", \"release_date\": \"1995-11-22T00:00:00\", \"genre\": \"Adventure\", \"MPAA_rating\": \"G\", \"total_gross\": 191796233, \"inflation_adjusted_gross\": 370409631}, {\"movie_title\": \"Father of the Bride Part II\", \"release_date\": \"1995-12-08T00:00:00\", \"genre\": \"Comedy\", \"MPAA_rating\": \"PG\", \"total_gross\": 76578911, \"inflation_adjusted_gross\": 147658438}, {\"movie_title\": \"Nixon\", \"release_date\": \"1995-12-20T00:00:00\", \"genre\": \"Drama\", \"MPAA_rating\": \"R\", \"total_gross\": 13668249, \"inflation_adjusted_gross\": 26302005}, {\"movie_title\": \"Tom and Huck\", \"release_date\": \"1995-12-22T00:00:00\", \"genre\": \"Adventure\", \"MPAA_rating\": \"PG\", \"total_gross\": 23837227, \"inflation_adjusted_gross\": 45911517}, {\"movie_title\": \"Mr. Holland's Opus\", \"release_date\": \"1995-12-29T00:00:00\", \"genre\": \"Drama\", \"MPAA_rating\": \"PG\", \"total_gross\": 82582604, \"inflation_adjusted_gross\": 157508868}, {\"movie_title\": \"White Squall\", \"release_date\": \"1996-02-02T00:00:00\", \"genre\": \"Adventure\", \"MPAA_rating\": \"PG-13\", \"total_gross\": 10229300, \"inflation_adjusted_gross\": 19509726}, {\"movie_title\": \"Muppet Treasure Island\", \"release_date\": \"1996-02-16T00:00:00\", \"genre\": \"Adventure\", \"MPAA_rating\": \"G\", \"total_gross\": 34327391, \"inflation_adjusted_gross\": 65470567}, {\"movie_title\": \"Mr. Wrong\", \"release_date\": \"1996-02-16T00:00:00\", \"genre\": \"Romantic Comedy\", \"MPAA_rating\": \"PG-13\", \"total_gross\": 12805071, \"inflation_adjusted_gross\": 24422334}, {\"movie_title\": \"Before and After\", \"release_date\": \"1996-02-23T00:00:00\", \"genre\": \"Drama\", \"MPAA_rating\": \"PG-13\", \"total_gross\": 8642118, \"inflation_adjusted_gross\": 16482589}, {\"movie_title\": \"Up Close & Personal\", \"release_date\": \"1996-03-01T00:00:00\", \"genre\": \"Drama\", \"MPAA_rating\": \"PG-13\", \"total_gross\": 51045801, \"inflation_adjusted_gross\": 97356578}, {\"movie_title\": \"Homeward Bound II: Lost in San Franc\\u2026\", \"release_date\": \"1996-03-08T00:00:00\", \"genre\": \"Adventure\", \"MPAA_rating\": \"G\", \"total_gross\": 32709423, \"inflation_adjusted_gross\": 62384706}, {\"movie_title\": \"Two Much\", \"release_date\": \"1996-03-15T00:00:00\", \"genre\": \"Romantic Comedy\", \"MPAA_rating\": \"PG-13\", \"total_gross\": 1078555, \"inflation_adjusted_gross\": 2057055}, {\"movie_title\": \"Un indien dans la ville\", \"release_date\": \"1996-03-22T00:00:00\", \"genre\": \"Comedy\", \"MPAA_rating\": \"PG\", \"total_gross\": 1029731, \"inflation_adjusted_gross\": 1963937}, {\"movie_title\": \"James and the Giant Peach\", \"release_date\": \"1996-04-12T00:00:00\", \"genre\": \"Adventure\", \"MPAA_rating\": \"PG\", \"total_gross\": 28921264, \"inflation_adjusted_gross\": 55159783}, {\"movie_title\": \"Celtic Pride\", \"release_date\": \"1996-04-19T00:00:00\", \"genre\": \"Comedy\", \"MPAA_rating\": \"PG-13\", \"total_gross\": 9240378, \"inflation_adjusted_gross\": 17623615}, {\"movie_title\": \"Last Dance\", \"release_date\": \"1996-05-03T00:00:00\", \"genre\": \"Drama\", \"MPAA_rating\": \"R\", \"total_gross\": 5857534, \"inflation_adjusted_gross\": 11171714}, {\"movie_title\": \"Boys\", \"release_date\": \"1996-05-10T00:00:00\", \"genre\": \"Drama\", \"MPAA_rating\": \"PG-13\", \"total_gross\": 21930418, \"inflation_adjusted_gross\": 41826566}, {\"movie_title\": \"Spy Hard\", \"release_date\": \"1996-05-24T00:00:00\", \"genre\": \"Comedy\", \"MPAA_rating\": \"PG-13\", \"total_gross\": 26936265, \"inflation_adjusted_gross\": 51373912}, {\"movie_title\": \"Eddie\", \"release_date\": \"1996-05-31T00:00:00\", \"genre\": \"Comedy\", \"MPAA_rating\": \"PG-13\", \"total_gross\": 31369401, \"inflation_adjusted_gross\": 59828966}, {\"movie_title\": \"The Rock\", \"release_date\": \"1996-06-07T00:00:00\", \"genre\": \"Action\", \"MPAA_rating\": \"R\", \"total_gross\": 134069511, \"inflation_adjusted_gross\": 255702705}, {\"movie_title\": \"The Hunchback of Notre Dame\", \"release_date\": \"1996-06-21T00:00:00\", \"genre\": \"Adventure\", \"MPAA_rating\": \"G\", \"total_gross\": 100138851, \"inflation_adjusted_gross\": 190988799}, {\"movie_title\": \"Phenomenon\", \"release_date\": \"1996-07-05T00:00:00\", \"genre\": \"Drama\", \"MPAA_rating\": \"PG\", \"total_gross\": 104636382, \"inflation_adjusted_gross\": 199559799}, {\"movie_title\": \"Kazaam\", \"release_date\": \"1996-07-17T00:00:00\", \"genre\": \"Comedy\", \"MPAA_rating\": \"PG\", \"total_gross\": 18880508, \"inflation_adjusted_gross\": 36009655}, {\"movie_title\": \"Jack\", \"release_date\": \"1996-08-09T00:00:00\", \"genre\": \"Drama\", \"MPAA_rating\": \"PG-13\", \"total_gross\": 58617334, \"inflation_adjusted_gross\": 111792852}, {\"movie_title\": \"First Kid\", \"release_date\": \"1996-08-30T00:00:00\", \"genre\": \"Comedy\", \"MPAA_rating\": \"PG\", \"total_gross\": 26465920, \"inflation_adjusted_gross\": 50465108}, {\"movie_title\": \"The Rich Man's Wife\", \"release_date\": \"1996-09-13T00:00:00\", \"genre\": \"Thriller/Suspense\", \"MPAA_rating\": \"R\", \"total_gross\": 8538318, \"inflation_adjusted_gross\": 16284619}, {\"movie_title\": \"D3: The Mighty Ducks\", \"release_date\": \"1996-10-04T00:00:00\", \"genre\": \"Comedy\", \"MPAA_rating\": \"PG\", \"total_gross\": 22936273, \"inflation_adjusted_gross\": 43713554}, {\"movie_title\": \"The Associate\", \"release_date\": \"1996-10-25T00:00:00\", \"genre\": \"Comedy\", \"MPAA_rating\": \"PG-13\", \"total_gross\": 12772657, \"inflation_adjusted_gross\": 24333094}, {\"movie_title\": \"Ransom\", \"release_date\": \"1996-11-08T00:00:00\", \"genre\": \"Action\", \"MPAA_rating\": \"R\", \"total_gross\": 136492681, \"inflation_adjusted_gross\": 259807820}, {\"movie_title\": \"101 Dalmatians\", \"release_date\": \"1996-11-27T00:00:00\", \"genre\": \"Comedy\", \"MPAA_rating\": \"G\", \"total_gross\": 136189294, \"inflation_adjusted_gross\": 258728898}, {\"movie_title\": \"The Preacher's Wife\", \"release_date\": \"1996-12-13T00:00:00\", \"genre\": \"Drama\", \"MPAA_rating\": \"PG\", \"total_gross\": 48102795, \"inflation_adjusted_gross\": 91076877}, {\"movie_title\": \"Evita\", \"release_date\": \"1996-12-25T00:00:00\", \"genre\": \"Musical\", \"MPAA_rating\": \"PG\", \"total_gross\": 50047179, \"inflation_adjusted_gross\": 92077628}, {\"movie_title\": \"Metro\", \"release_date\": \"1997-01-17T00:00:00\", \"genre\": \"Action\", \"MPAA_rating\": \"R\", \"total_gross\": 32017895, \"inflation_adjusted_gross\": 58804106}, {\"movie_title\": \"Prefontaine\", \"release_date\": \"1997-01-24T00:00:00\", \"genre\": \"Drama\", \"MPAA_rating\": \"PG-13\", \"total_gross\": 590817, \"inflation_adjusted_gross\": 1085093}, {\"movie_title\": \"Shadow Conspiracy\", \"release_date\": \"1997-01-31T00:00:00\", \"genre\": \"Thriller/Suspense\", \"MPAA_rating\": \"R\", \"total_gross\": 2154540, \"inflation_adjusted_gross\": 3957025}, {\"movie_title\": \"That Darn Cat\", \"release_date\": \"1997-02-14T00:00:00\", \"genre\": \"Comedy\", \"MPAA_rating\": \"PG\", \"total_gross\": 18301828, \"inflation_adjusted_gross\": 33613158}, {\"movie_title\": \"Jungle 2 Jungle\", \"release_date\": \"1997-03-07T00:00:00\", \"genre\": \"Comedy\", \"MPAA_rating\": \"PG\", \"total_gross\": 59925026, \"inflation_adjusted_gross\": 110058379}, {\"movie_title\": \"The Sixth Man\", \"release_date\": \"1997-03-28T00:00:00\", \"genre\": \"Comedy\", \"MPAA_rating\": \"PG-13\", \"total_gross\": 14765099, \"inflation_adjusted_gross\": 27117599}, {\"movie_title\": \"Grosse Pointe Blank\", \"release_date\": \"1997-04-11T00:00:00\", \"genre\": \"Black Comedy\", \"MPAA_rating\": \"R\", \"total_gross\": 28084357, \"inflation_adjusted_gross\": 51579764}, {\"movie_title\": \"Romy and Michele's High School Reunion\", \"release_date\": \"1997-04-25T00:00:00\", \"genre\": \"Comedy\", \"MPAA_rating\": \"R\", \"total_gross\": 29235353, \"inflation_adjusted_gross\": 53693680}, {\"movie_title\": \"Gone Fishin'\", \"release_date\": \"1997-05-30T00:00:00\", \"genre\": \"Comedy\", \"MPAA_rating\": \"PG\", \"total_gross\": 19745922, \"inflation_adjusted_gross\": 36265379}, {\"movie_title\": \"Con Air\", \"release_date\": \"1997-06-06T00:00:00\", \"genre\": \"Action\", \"MPAA_rating\": \"R\", \"total_gross\": 101117573, \"inflation_adjusted_gross\": 185712664}, {\"movie_title\": \"Hercules\", \"release_date\": \"1997-06-13T00:00:00\", \"genre\": \"Adventure\", \"MPAA_rating\": \"G\", \"total_gross\": 99112101, \"inflation_adjusted_gross\": 182029412}, {\"movie_title\": \"George Of The Jungle\", \"release_date\": \"1997-07-16T00:00:00\", \"genre\": \"Comedy\", \"MPAA_rating\": \"PG\", \"total_gross\": 105263257, \"inflation_adjusted_gross\": 193326632}, {\"movie_title\": \"Nothing To Lose\", \"release_date\": \"1997-07-18T00:00:00\", \"genre\": \"Comedy\", \"MPAA_rating\": \"R\", \"total_gross\": 44480039, \"inflation_adjusted_gross\": 81692095}, {\"movie_title\": \"Air Bud\", \"release_date\": \"1997-08-01T00:00:00\", \"genre\": \"Comedy\", \"MPAA_rating\": \"PG\", \"total_gross\": 24646936, \"inflation_adjusted_gross\": 45266588}, {\"movie_title\": \"G.I. Jane\", \"release_date\": \"1997-08-22T00:00:00\", \"genre\": \"Drama\", \"MPAA_rating\": \"R\", \"total_gross\": 48169156, \"inflation_adjusted_gross\": 88467531}, {\"movie_title\": \"A Thousand Acres\", \"release_date\": \"1997-09-19T00:00:00\", \"genre\": \"Drama\", \"MPAA_rating\": \"R\", \"total_gross\": 7928412, \"inflation_adjusted_gross\": 14561324}, {\"movie_title\": \"Washington Square\", \"release_date\": \"1997-10-05T00:00:00\", \"genre\": \"Drama\", \"MPAA_rating\": \"PG\", \"total_gross\": 1775644, \"inflation_adjusted_gross\": 3257546}, {\"movie_title\": \"Rocket Man\", \"release_date\": \"1997-10-10T00:00:00\", \"genre\": \"Comedy\", \"MPAA_rating\": \"PG\", \"total_gross\": 15448043, \"inflation_adjusted_gross\": 28371890}, {\"movie_title\": \"Playing God\", \"release_date\": \"1997-10-17T00:00:00\", \"genre\": \"Thriller/Suspense\", \"MPAA_rating\": \"R\", \"total_gross\": 4166918, \"inflation_adjusted_gross\": 7652965}, {\"movie_title\": \"Flubber\", \"release_date\": \"1997-11-26T00:00:00\", \"genre\": \"Comedy\", \"MPAA_rating\": \"PG\", \"total_gross\": 92993801, \"inflation_adjusted_gross\": 170406423}, {\"movie_title\": \"An American Werewolf in Paris\", \"release_date\": \"1997-12-25T00:00:00\", \"genre\": \"Horror\", \"MPAA_rating\": \"R\", \"total_gross\": 26570463, \"inflation_adjusted_gross\": 48546161}, {\"movie_title\": \"Mr. Magoo\", \"release_date\": \"1997-12-25T00:00:00\", \"genre\": \"Comedy\", \"MPAA_rating\": \"PG\", \"total_gross\": 21437192, \"inflation_adjusted_gross\": 39145784}, {\"movie_title\": \"Kundun\", \"release_date\": \"1997-12-25T00:00:00\", \"genre\": \"Drama\", \"MPAA_rating\": \"PG-13\", \"total_gross\": 5686694, \"inflation_adjusted_gross\": 10236836}, {\"movie_title\": \"Deep Rising\", \"release_date\": \"1998-01-30T00:00:00\", \"genre\": \"Action\", \"MPAA_rating\": \"R\", \"total_gross\": 11203026, \"inflation_adjusted_gross\": 20136775}, {\"movie_title\": \"Krippendorf's Tribe\", \"release_date\": \"1998-02-27T00:00:00\", \"genre\": \"Comedy\", \"MPAA_rating\": \"PG-13\", \"total_gross\": 7571115, \"inflation_adjusted_gross\": 13608633}, {\"movie_title\": \"An Alan Smithee Film: Burn Hollywood \\u2026\", \"release_date\": \"1998-02-27T00:00:00\", \"genre\": \"Comedy\", \"MPAA_rating\": \"R\", \"total_gross\": 45779, \"inflation_adjusted_gross\": 82277}, {\"movie_title\": \"Meet the Deedles\", \"release_date\": \"1998-03-27T00:00:00\", \"genre\": \"Comedy\", \"MPAA_rating\": \"PG\", \"total_gross\": 4356126, \"inflation_adjusted_gross\": 7829877}, {\"movie_title\": \"He Got Game\", \"release_date\": \"1998-05-01T00:00:00\", \"genre\": \"Drama\", \"MPAA_rating\": \"R\", \"total_gross\": 21567853, \"inflation_adjusted_gross\": 38766948}, {\"movie_title\": \"The Horse Whisperer\", \"release_date\": \"1998-05-15T00:00:00\", \"genre\": \"Drama\", \"MPAA_rating\": \"PG-13\", \"total_gross\": 75383563, \"inflation_adjusted_gross\": 135497531}, {\"movie_title\": \"Six Days, Seven Nights\", \"release_date\": \"1998-06-12T00:00:00\", \"genre\": \"Romantic Comedy\", \"MPAA_rating\": \"PG-13\", \"total_gross\": 74339294, \"inflation_adjusted_gross\": 133620516}, {\"movie_title\": \"Mulan\", \"release_date\": \"1998-06-19T00:00:00\", \"genre\": \"Adventure\", \"MPAA_rating\": \"G\", \"total_gross\": 120620254, \"inflation_adjusted_gross\": 216807832}, {\"movie_title\": \"Armageddon\", \"release_date\": \"1998-07-01T00:00:00\", \"genre\": \"Adventure\", \"MPAA_rating\": \"PG-13\", \"total_gross\": 201578182, \"inflation_adjusted_gross\": 362324957}, {\"movie_title\": \"Jane Austen's Mafia\", \"release_date\": \"1998-07-24T00:00:00\", \"genre\": \"Comedy\", \"MPAA_rating\": \"PG-13\", \"total_gross\": 19843795, \"inflation_adjusted_gross\": 35668055}, {\"movie_title\": \"The Parent Trap\", \"release_date\": \"1998-07-29T00:00:00\", \"genre\": \"Comedy\", \"MPAA_rating\": \"PG\", \"total_gross\": 66308518, \"inflation_adjusted_gross\": 119185667}, {\"movie_title\": \"Firelight\", \"release_date\": \"1998-09-04T00:00:00\", \"genre\": \"Drama\", \"MPAA_rating\": \"R\", \"total_gross\": 784419, \"inflation_adjusted_gross\": 1409943}, {\"movie_title\": \"Simon Birch\", \"release_date\": \"1998-09-11T00:00:00\", \"genre\": \"Drama\", \"MPAA_rating\": \"PG\", \"total_gross\": 18253415, \"inflation_adjusted_gross\": 32809442}, {\"movie_title\": \"Holy Man\", \"release_date\": \"1998-10-09T00:00:00\", \"genre\": \"Comedy\", \"MPAA_rating\": \"PG\", \"total_gross\": 12069719, \"inflation_adjusted_gross\": 21694605}, {\"movie_title\": \"Beloved\", \"release_date\": \"1998-10-16T00:00:00\", \"genre\": \"Drama\", \"MPAA_rating\": \"R\", \"total_gross\": 22852487, \"inflation_adjusted_gross\": 41062682}, {\"movie_title\": \"The Waterboy\", \"release_date\": \"1998-11-06T00:00:00\", \"genre\": \"Comedy\", \"MPAA_rating\": \"PG-13\", \"total_gross\": 161491646, \"inflation_adjusted_gross\": 288691833}, {\"movie_title\": \"I'll Be Home For Christmas\", \"release_date\": \"1998-11-13T00:00:00\", \"genre\": \"Comedy\", \"MPAA_rating\": \"PG\", \"total_gross\": 12214338, \"inflation_adjusted_gross\": 21941840}, {\"movie_title\": \"A Bug's Life\", \"release_date\": \"1998-11-20T00:00:00\", \"genre\": \"Adventure\", \"MPAA_rating\": \"G\", \"total_gross\": 162798565, \"inflation_adjusted_gross\": 288981698}, {\"movie_title\": \"Enemy of the State\", \"release_date\": \"1998-11-20T00:00:00\", \"genre\": \"Action\", \"MPAA_rating\": \"R\", \"total_gross\": 111549836, \"inflation_adjusted_gross\": 198472008}, {\"movie_title\": \"Rushmore\", \"release_date\": \"1998-12-11T00:00:00\", \"genre\": \"Black Comedy\", \"MPAA_rating\": \"R\", \"total_gross\": 17105219, \"inflation_adjusted_gross\": 28392518}, {\"movie_title\": \"A Civil Action\", \"release_date\": \"1998-12-25T00:00:00\", \"genre\": \"Drama\", \"MPAA_rating\": \"PG-13\", \"total_gross\": 56709981, \"inflation_adjusted_gross\": 94139530}, {\"movie_title\": \"Mighty Joe Young\", \"release_date\": \"1998-12-25T00:00:00\", \"genre\": \"Adventure\", \"MPAA_rating\": \"PG\", \"total_gross\": 50632037, \"inflation_adjusted_gross\": 87906042}, {\"movie_title\": \"My Favorite Martian\", \"release_date\": \"1999-02-12T00:00:00\", \"genre\": \"Comedy\", \"MPAA_rating\": \"PG\", \"total_gross\": 36850101, \"inflation_adjusted_gross\": 61150849}, {\"movie_title\": \"The Other Sister\", \"release_date\": \"1999-02-26T00:00:00\", \"genre\": \"Romantic Comedy\", \"MPAA_rating\": \"PG-13\", \"total_gross\": 27807627, \"inflation_adjusted_gross\": 46145331}, {\"movie_title\": \"Doug's 1st Movie\", \"release_date\": \"1999-03-26T00:00:00\", \"genre\": \"Adventure\", \"MPAA_rating\": \"G\", \"total_gross\": 19421271, \"inflation_adjusted_gross\": 32228598}, {\"movie_title\": \"Ten Things I Hate About You\", \"release_date\": \"1999-03-31T00:00:00\", \"genre\": \"Romantic Comedy\", \"MPAA_rating\": \"PG-13\", \"total_gross\": 38177966, \"inflation_adjusted_gross\": 63354375}, {\"movie_title\": \"Instinct\", \"release_date\": \"1999-06-04T00:00:00\", \"genre\": \"Drama\", \"MPAA_rating\": \"R\", \"total_gross\": 34105207, \"inflation_adjusted_gross\": 56595842}, {\"movie_title\": \"Tarzan\", \"release_date\": \"1999-06-16T00:00:00\", \"genre\": \"Adventure\", \"MPAA_rating\": \"G\", \"total_gross\": 171091819, \"inflation_adjusted_gross\": 283900254}, {\"movie_title\": \"Summer of Sam\", \"release_date\": \"1999-07-02T00:00:00\", \"genre\": \"Drama\", \"MPAA_rating\": \"R\", \"total_gross\": 19288130, \"inflation_adjusted_gross\": 32007656}, {\"movie_title\": \"Inspector Gadget\", \"release_date\": \"1999-07-23T00:00:00\", \"genre\": \"Comedy\", \"MPAA_rating\": \"PG\", \"total_gross\": 97387965, \"inflation_adjusted_gross\": 161610341}, {\"movie_title\": \"The Sixth Sense\", \"release_date\": \"1999-08-06T00:00:00\", \"genre\": \"Thriller/Suspense\", \"MPAA_rating\": \"PG-13\", \"total_gross\": 293506292, \"inflation_adjusted_gross\": 485424724}, {\"movie_title\": \"The 13th Warrior\", \"release_date\": \"1999-08-27T00:00:00\", \"genre\": \"Action\", \"MPAA_rating\": \"R\", \"total_gross\": 32698899, \"inflation_adjusted_gross\": 54262148}, {\"movie_title\": \"Breakfast of Champions\", \"release_date\": \"1999-09-17T00:00:00\", \"genre\": \"Comedy\", \"MPAA_rating\": \"R\", \"total_gross\": 178287, \"inflation_adjusted_gross\": 295851}, {\"movie_title\": \"Mumford\", \"release_date\": \"1999-09-24T00:00:00\", \"genre\": \"Comedy\", \"MPAA_rating\": \"R\", \"total_gross\": 4559569, \"inflation_adjusted_gross\": 7566363}, {\"movie_title\": \"Mystery, Alaska\", \"release_date\": \"1999-10-01T00:00:00\", \"genre\": \"Comedy\", \"MPAA_rating\": \"R\", \"total_gross\": 8891623, \"inflation_adjusted_gross\": 14755189}, {\"movie_title\": \"The Straight Story\", \"release_date\": \"1999-10-15T00:00:00\", \"genre\": \"Drama\", \"MPAA_rating\": \"G\", \"total_gross\": 6197866, \"inflation_adjusted_gross\": 10111144}, {\"movie_title\": \"The Insider\", \"release_date\": \"1999-11-05T00:00:00\", \"genre\": \"Drama\", \"MPAA_rating\": \"R\", \"total_gross\": 28965197, \"inflation_adjusted_gross\": 47794214}, {\"movie_title\": \"Toy Story 2\", \"release_date\": \"1999-11-19T00:00:00\", \"genre\": \"Adventure\", \"MPAA_rating\": \"G\", \"total_gross\": 245852179, \"inflation_adjusted_gross\": 404450426}, {\"movie_title\": \"Cradle Will Rock\", \"release_date\": \"1999-12-08T00:00:00\", \"genre\": \"Drama\", \"MPAA_rating\": \"R\", \"total_gross\": 2899970, \"inflation_adjusted_gross\": 4609153}, {\"movie_title\": \"Deuce Bigalow: Male Gigolo\", \"release_date\": \"1999-12-10T00:00:00\", \"genre\": \"Comedy\", \"MPAA_rating\": \"R\", \"total_gross\": 65535067, \"inflation_adjusted_gross\": 106921374}, {\"movie_title\": \"Bicentennial Man\", \"release_date\": \"1999-12-17T00:00:00\", \"genre\": \"Drama\", \"MPAA_rating\": \"PG\", \"total_gross\": 58220776, \"inflation_adjusted_gross\": 94838225}, {\"movie_title\": \"Play it to the Bone\", \"release_date\": \"1999-12-24T00:00:00\", \"genre\": \"Comedy\", \"MPAA_rating\": \"R\", \"total_gross\": 8427204, \"inflation_adjusted_gross\": 13180524}, {\"movie_title\": \"Fantasia 2000 (IMAX)\", \"release_date\": \"2000-01-01T00:00:00\", \"genre\": \"Musical\", \"MPAA_rating\": \"G\", \"total_gross\": 60507228, \"inflation_adjusted_gross\": 94852354}, {\"movie_title\": \"Gun Shy\", \"release_date\": \"2000-02-04T00:00:00\", \"genre\": \"Comedy\", \"MPAA_rating\": \"R\", \"total_gross\": 1638202, \"inflation_adjusted_gross\": 2562155}, {\"movie_title\": \"The Tigger Movie\", \"release_date\": \"2000-02-11T00:00:00\", \"genre\": \"Adventure\", \"MPAA_rating\": \"G\", \"total_gross\": 45542421, \"inflation_adjusted_gross\": 71228678}, {\"movie_title\": \"Mission to Mars\", \"release_date\": \"2000-03-10T00:00:00\", \"genre\": \"Adventure\", \"MPAA_rating\": \"PG\", \"total_gross\": 60874615, \"inflation_adjusted_gross\": 95208344}, {\"movie_title\": \"High Fidelity\", \"release_date\": \"2000-03-31T00:00:00\", \"genre\": \"Comedy\", \"MPAA_rating\": \"R\", \"total_gross\": 27277055, \"inflation_adjusted_gross\": 42661516}, {\"movie_title\": \"Keeping the Faith\", \"release_date\": \"2000-04-14T00:00:00\", \"genre\": \"Romantic Comedy\", \"MPAA_rating\": \"PG-13\", \"total_gross\": 37036404, \"inflation_adjusted_gross\": 57925202}, {\"movie_title\": \"Dinosaur\", \"release_date\": \"2000-05-19T00:00:00\", \"genre\": \"Adventure\", \"MPAA_rating\": \"PG\", \"total_gross\": 137748063, \"inflation_adjusted_gross\": 215438985}, {\"movie_title\": \"Shanghai Noon\", \"release_date\": \"2000-05-26T00:00:00\", \"genre\": \"Western\", \"MPAA_rating\": \"PG-13\", \"total_gross\": 56932305, \"inflation_adjusted_gross\": 89042541}, {\"movie_title\": \"Gone in 60 Seconds\", \"release_date\": \"2000-06-09T00:00:00\", \"genre\": \"Action\", \"MPAA_rating\": \"PG-13\", \"total_gross\": 101643008, \"inflation_adjusted_gross\": 158970411}, {\"movie_title\": \"Fantasia 2000 (Theatrical Release)\", \"release_date\": \"2000-06-16T00:00:00\", \"genre\": \"Musical\", \"MPAA_rating\": \"G\", \"total_gross\": 9103630, \"inflation_adjusted_gross\": 14238144}, {\"movie_title\": \"The Kid\", \"release_date\": \"2000-07-07T00:00:00\", \"genre\": \"Comedy\", \"MPAA_rating\": \"PG\", \"total_gross\": 69688384, \"inflation_adjusted_gross\": 108993148}, {\"movie_title\": \"Coyote Ugly\", \"release_date\": \"2000-08-04T00:00:00\", \"genre\": \"Drama\", \"MPAA_rating\": \"PG-13\", \"total_gross\": 60786269, \"inflation_adjusted_gross\": 95070168}, {\"movie_title\": \"The Crew\", \"release_date\": \"2000-08-25T00:00:00\", \"genre\": \"Comedy\", \"MPAA_rating\": \"PG-13\", \"total_gross\": 13019253, \"inflation_adjusted_gross\": 20362201}, {\"movie_title\": \"Duets\", \"release_date\": \"2000-09-15T00:00:00\", \"genre\": \"Drama\", \"MPAA_rating\": \"R\", \"total_gross\": 4734235, \"inflation_adjusted_gross\": 7404372}, {\"movie_title\": \"Remember the Titans\", \"release_date\": \"2000-09-29T00:00:00\", \"genre\": \"Drama\", \"MPAA_rating\": \"PG\", \"total_gross\": 115654751, \"inflation_adjusted_gross\": 180742479}, {\"movie_title\": \"Unbreakable\", \"release_date\": \"2000-11-22T00:00:00\", \"genre\": \"Thriller/Suspense\", \"MPAA_rating\": \"PG-13\", \"total_gross\": 94999143, \"inflation_adjusted_gross\": 148208901}, {\"movie_title\": \"102 Dalmatians\", \"release_date\": \"2000-11-22T00:00:00\", \"genre\": \"Comedy\", \"MPAA_rating\": \"G\", \"total_gross\": 66941559, \"inflation_adjusted_gross\": 104055039}, {\"movie_title\": \"The Emperor's New Groove\", \"release_date\": \"2000-12-15T00:00:00\", \"genre\": \"Adventure\", \"MPAA_rating\": \"G\", \"total_gross\": 89296573, \"inflation_adjusted_gross\": 136789252}, {\"movie_title\": \"O Brother, Where Art Thou?\", \"release_date\": \"2000-12-22T00:00:00\", \"genre\": \"Comedy\", \"MPAA_rating\": \"PG-13\", \"total_gross\": 45506619, \"inflation_adjusted_gross\": 67922002}, {\"movie_title\": \"Double Take\", \"release_date\": \"2001-01-12T00:00:00\", \"genre\": \"Action\", \"MPAA_rating\": \"PG-13\", \"total_gross\": 29823162, \"inflation_adjusted_gross\": 44418589}, {\"movie_title\": \"Recess: School's Out\", \"release_date\": \"2001-02-16T00:00:00\", \"genre\": \"Comedy\", \"MPAA_rating\": \"G\", \"total_gross\": 36696761, \"inflation_adjusted_gross\": 54656124}, {\"movie_title\": \"Just Visiting\", \"release_date\": \"2001-04-06T00:00:00\", \"genre\": \"Comedy\", \"MPAA_rating\": \"PG-13\", \"total_gross\": 4777007, \"inflation_adjusted_gross\": 7114869}, {\"movie_title\": \"Pearl Harbor\", \"release_date\": \"2001-05-25T00:00:00\", \"genre\": \"Action\", \"MPAA_rating\": \"PG-13\", \"total_gross\": 198539855, \"inflation_adjusted_gross\": 295705112}, {\"movie_title\": \"Atlantis: The Lost Empire\", \"release_date\": \"2001-06-08T00:00:00\", \"genre\": \"Adventure\", \"MPAA_rating\": \"PG\", \"total_gross\": 84052762, \"inflation_adjusted_gross\": 125188122}, {\"movie_title\": \"crazy/beautiful\", \"release_date\": \"2001-06-29T00:00:00\", \"genre\": \"Drama\", \"MPAA_rating\": \"PG-13\", \"total_gross\": 16929123, \"inflation_adjusted_gross\": 25214223}, {\"movie_title\": \"The Princess Diaries\", \"release_date\": \"2001-08-03T00:00:00\", \"genre\": \"Comedy\", \"MPAA_rating\": \"G\", \"total_gross\": 108244774, \"inflation_adjusted_gross\": 161218928}, {\"movie_title\": \"Bubble Boy\", \"release_date\": \"2001-08-24T00:00:00\", \"genre\": \"Comedy\", \"MPAA_rating\": \"PG-13\", \"total_gross\": 5002310, \"inflation_adjusted_gross\": 7450434}, {\"movie_title\": \"Max Keeble's Big Move\", \"release_date\": \"2001-10-05T00:00:00\", \"genre\": \"Comedy\", \"MPAA_rating\": \"PG\", \"total_gross\": 17292381, \"inflation_adjusted_gross\": 25749730}, {\"movie_title\": \"Corky Romano\", \"release_date\": \"2001-10-12T00:00:00\", \"genre\": \"Comedy\", \"MPAA_rating\": \"PG-13\", \"total_gross\": 23978402, \"inflation_adjusted_gross\": 35705805}, {\"movie_title\": \"Monsters, Inc.\", \"release_date\": \"2001-11-02T00:00:00\", \"genre\": \"Adventure\", \"MPAA_rating\": \"G\", \"total_gross\": 289423425, \"inflation_adjusted_gross\": 416073179}, {\"movie_title\": \"Out Cold\", \"release_date\": \"2001-11-21T00:00:00\", \"genre\": \"Comedy\", \"MPAA_rating\": \"PG-13\", \"total_gross\": 13906394, \"inflation_adjusted_gross\": 20700691}, {\"movie_title\": \"The Royal Tenenbaums\", \"release_date\": \"2001-12-14T00:00:00\", \"genre\": \"Black Comedy\", \"MPAA_rating\": \"R\", \"total_gross\": 52353636, \"inflation_adjusted_gross\": 76758193}, {\"movie_title\": \"Beauty and the Beast (IMAX)\", \"release_date\": \"2002-01-01T00:00:00\", \"genre\": \"Musical\", \"MPAA_rating\": \"G\", \"total_gross\": 25487028, \"inflation_adjusted_gross\": 36980311}, {\"movie_title\": \"Snow Dogs\", \"release_date\": \"2002-01-18T00:00:00\", \"genre\": \"Comedy\", \"MPAA_rating\": \"PG\", \"total_gross\": 81150692, \"inflation_adjusted_gross\": 117745317}, {\"movie_title\": \"The Count of Monte Cristo\", \"release_date\": \"2002-01-25T00:00:00\", \"genre\": \"Drama\", \"MPAA_rating\": \"PG-13\", \"total_gross\": 54228104, \"inflation_adjusted_gross\": 78682079}, {\"movie_title\": \"Peter Pan: Return to Neverland\", \"release_date\": \"2002-02-15T00:00:00\", \"genre\": \"Adventure\", \"MPAA_rating\": \"G\", \"total_gross\": 48430258, \"inflation_adjusted_gross\": 70269715}, {\"movie_title\": \"Reign of Fire\", \"release_date\": \"2002-02-19T00:00:00\", \"genre\": \"Action\", \"MPAA_rating\": \"PG-13\", \"total_gross\": 43061982, \"inflation_adjusted_gross\": 62480631}, {\"movie_title\": \"Sorority Boys\", \"release_date\": \"2002-03-22T00:00:00\", \"genre\": \"Comedy\", \"MPAA_rating\": \"R\", \"total_gross\": 10198766, \"inflation_adjusted_gross\": 14797862}, {\"movie_title\": \"The Rookie\", \"release_date\": \"2002-03-29T00:00:00\", \"genre\": \"Drama\", \"MPAA_rating\": \"G\", \"total_gross\": 75600072, \"inflation_adjusted_gross\": 109691666}, {\"movie_title\": \"Big Trouble\", \"release_date\": \"2002-04-05T00:00:00\", \"genre\": \"Comedy\", \"MPAA_rating\": \"PG-13\", \"total_gross\": 7262288, \"inflation_adjusted_gross\": 10537188}, {\"movie_title\": \"ESPN's Ultimate X - The Movie\", \"release_date\": \"2002-05-10T00:00:00\", \"genre\": \"Documentary\", \"MPAA_rating\": \"PG\", \"total_gross\": 4197175, \"inflation_adjusted_gross\": 6089874}, {\"movie_title\": \"Bad Company\", \"release_date\": \"2002-06-07T00:00:00\", \"genre\": \"Action\", \"MPAA_rating\": \"PG-13\", \"total_gross\": 30157016, \"inflation_adjusted_gross\": 43756218}, {\"movie_title\": \"Lilo & Stitch\", \"release_date\": \"2002-06-21T00:00:00\", \"genre\": \"Adventure\", \"MPAA_rating\": \"PG\", \"total_gross\": 145771527, \"inflation_adjusted_gross\": 211506702}, {\"movie_title\": \"The Country Bears\", \"release_date\": \"2002-07-26T00:00:00\", \"genre\": \"Adventure\", \"MPAA_rating\": \"G\", \"total_gross\": 16988996, \"inflation_adjusted_gross\": 24650121}, {\"movie_title\": \"Signs\", \"release_date\": \"2002-08-02T00:00:00\", \"genre\": \"Thriller/Suspense\", \"MPAA_rating\": \"PG-13\", \"total_gross\": 227965690, \"inflation_adjusted_gross\": 330754439}, {\"movie_title\": \"Sen to Chihiro no Kamikakushi\", \"release_date\": \"2002-09-20T00:00:00\", \"genre\": \"Adventure\", \"MPAA_rating\": \"PG\", \"total_gross\": 10049886, \"inflation_adjusted_gross\": 14338992}, {\"movie_title\": \"Sweet Home Alabama\", \"release_date\": \"2002-09-27T00:00:00\", \"genre\": \"Comedy\", \"MPAA_rating\": \"PG-13\", \"total_gross\": 127214072, \"inflation_adjusted_gross\": 184521151}, {\"movie_title\": \"Moonlight Mile\", \"release_date\": \"2002-09-27T00:00:00\", \"genre\": \"Drama\", \"MPAA_rating\": \"PG-13\", \"total_gross\": 6830957, \"inflation_adjusted_gross\": 9909094}, {\"movie_title\": \"Tuck Everlasting\", \"release_date\": \"2002-10-11T00:00:00\", \"genre\": \"Drama\", \"MPAA_rating\": \"PG\", \"total_gross\": 19161999, \"inflation_adjusted_gross\": 27789959}, {\"movie_title\": \"The Santa Clause 2\", \"release_date\": \"2002-11-01T00:00:00\", \"genre\": \"Comedy\", \"MPAA_rating\": \"G\", \"total_gross\": 139225854, \"inflation_adjusted_gross\": 201959095}, {\"movie_title\": \"Treasure Planet\", \"release_date\": \"2002-11-27T00:00:00\", \"genre\": \"Adventure\", \"MPAA_rating\": \"PG\", \"total_gross\": 38120554, \"inflation_adjusted_gross\": 55189145}, {\"movie_title\": \"The Hot Chick\", \"release_date\": \"2002-12-13T00:00:00\", \"genre\": \"Comedy\", \"MPAA_rating\": \"PG-13\", \"total_gross\": 35081550, \"inflation_adjusted_gross\": 50624654}, {\"movie_title\": \"25th Hour\", \"release_date\": \"2002-12-19T00:00:00\", \"genre\": \"Drama\", \"MPAA_rating\": \"R\", \"total_gross\": 13084595, \"inflation_adjusted_gross\": 18325463}, {\"movie_title\": \"The Recruit\", \"release_date\": \"2003-01-31T00:00:00\", \"genre\": \"Thriller/Suspense\", \"MPAA_rating\": \"PG-13\", \"total_gross\": 52784696, \"inflation_adjusted_gross\": 73793522}, {\"movie_title\": \"Shanghai Knights\", \"release_date\": \"2003-02-07T00:00:00\", \"genre\": \"Adventure\", \"MPAA_rating\": \"PG-13\", \"total_gross\": 60470220, \"inflation_adjusted_gross\": 84537962}, {\"movie_title\": \"The Jungle Book 2\", \"release_date\": \"2003-02-14T00:00:00\", \"genre\": \"Adventure\", \"MPAA_rating\": \"G\", \"total_gross\": 47901582, \"inflation_adjusted_gross\": 66966883}, {\"movie_title\": \"Bringing Down the House\", \"release_date\": \"2003-03-07T00:00:00\", \"genre\": \"Comedy\", \"MPAA_rating\": \"PG-13\", \"total_gross\": 132675402, \"inflation_adjusted_gross\": 185481530}, {\"movie_title\": \"Piglet's Big Movie\", \"release_date\": \"2003-03-21T00:00:00\", \"genre\": \"Comedy\", \"MPAA_rating\": \"G\", \"total_gross\": 23103423, \"inflation_adjusted_gross\": 32298812}, {\"movie_title\": \"Ghosts of the Abyss\", \"release_date\": \"2003-04-11T00:00:00\", \"genre\": \"Documentary\", \"MPAA_rating\": \"G\", \"total_gross\": 17093668, \"inflation_adjusted_gross\": 23803108}, {\"movie_title\": \"Holes\", \"release_date\": \"2003-04-18T00:00:00\", \"genre\": \"Drama\", \"MPAA_rating\": \"PG\", \"total_gross\": 67383924, \"inflation_adjusted_gross\": 94203395}, {\"movie_title\": \"The Lizzie McGuire Movie\", \"release_date\": \"2003-05-02T00:00:00\", \"genre\": \"Comedy\", \"MPAA_rating\": \"PG\", \"total_gross\": 42734455, \"inflation_adjusted_gross\": 59743191}, {\"movie_title\": \"Finding Nemo\", \"release_date\": \"2003-05-30T00:00:00\", \"genre\": \"Adventure\", \"MPAA_rating\": \"G\", \"total_gross\": 380529370, \"inflation_adjusted_gross\": 518148559}, {\"movie_title\": \"Pirates of the Caribbean: The Curse o\\u2026\", \"release_date\": \"2003-07-09T00:00:00\", \"genre\": \"Adventure\", \"MPAA_rating\": \"PG-13\", \"total_gross\": 305411224, \"inflation_adjusted_gross\": 426967926}, {\"movie_title\": \"Freaky Friday\", \"release_date\": \"2003-08-06T00:00:00\", \"genre\": \"Comedy\", \"MPAA_rating\": \"PG\", \"total_gross\": 110222438, \"inflation_adjusted_gross\": 154090360}, {\"movie_title\": \"Open Range\", \"release_date\": \"2003-08-15T00:00:00\", \"genre\": \"Western\", \"MPAA_rating\": \"R\", \"total_gross\": 58331254, \"inflation_adjusted_gross\": 81547672}, {\"movie_title\": \"Cold Creek Manor\", \"release_date\": \"2003-09-19T00:00:00\", \"genre\": \"Thriller/Suspense\", \"MPAA_rating\": \"R\", \"total_gross\": 21384035, \"inflation_adjusted_gross\": 29895090}, {\"movie_title\": \"Under the Tuscan Sun\", \"release_date\": \"2003-09-26T00:00:00\", \"genre\": \"Comedy\", \"MPAA_rating\": \"PG-13\", \"total_gross\": 43601508, \"inflation_adjusted_gross\": 60944053}, {\"movie_title\": \"Veronica Guerin\", \"release_date\": \"2003-10-17T00:00:00\", \"genre\": \"Drama\", \"MPAA_rating\": \"R\", \"total_gross\": 1569918, \"inflation_adjusted_gross\": 2194759}, {\"movie_title\": \"Brother Bear\", \"release_date\": \"2003-10-24T00:00:00\", \"genre\": \"Adventure\", \"MPAA_rating\": \"G\", \"total_gross\": 85336277, \"inflation_adjusted_gross\": 119218333}, {\"movie_title\": \"The Haunted Mansion\", \"release_date\": \"2003-11-26T00:00:00\", \"genre\": \"Comedy\", \"MPAA_rating\": \"PG\", \"total_gross\": 75817994, \"inflation_adjusted_gross\": 105775678}, {\"movie_title\": \"Calendar Girls\", \"release_date\": \"2003-12-19T00:00:00\", \"genre\": \"Comedy\", \"MPAA_rating\": \"PG-13\", \"total_gross\": 31011616, \"inflation_adjusted_gross\": 42379650}, {\"movie_title\": \"Young Black Stallion\", \"release_date\": \"2003-12-25T00:00:00\", \"genre\": \"Adventure\", \"MPAA_rating\": \"G\", \"total_gross\": 6751389, \"inflation_adjusted_gross\": 9254344}, {\"movie_title\": \"Teacher's Pet: The Movie\", \"release_date\": \"2004-01-16T00:00:00\", \"genre\": \"Comedy\", \"MPAA_rating\": \"PG\", \"total_gross\": 6491969, \"inflation_adjusted_gross\": 8812764}, {\"movie_title\": \"Miracle\", \"release_date\": \"2004-02-06T00:00:00\", \"genre\": \"Drama\", \"MPAA_rating\": \"PG\", \"total_gross\": 64378093, \"inflation_adjusted_gross\": 87392478}, {\"movie_title\": \"Confessions of a Teenage Drama Queen\", \"release_date\": \"2004-02-20T00:00:00\", \"genre\": \"Comedy\", \"MPAA_rating\": \"PG\", \"total_gross\": 29331068, \"inflation_adjusted_gross\": 39816568}, {\"movie_title\": \"Hidalgo\", \"release_date\": \"2004-03-05T00:00:00\", \"genre\": \"Western\", \"MPAA_rating\": \"PG-13\", \"total_gross\": 67286731, \"inflation_adjusted_gross\": 91340921}, {\"movie_title\": \"The Ladykillers\", \"release_date\": \"2004-03-26T00:00:00\", \"genre\": \"Comedy\", \"MPAA_rating\": \"R\", \"total_gross\": 39692139, \"inflation_adjusted_gross\": 53881593}, {\"movie_title\": \"Home on the Range\", \"release_date\": \"2004-04-02T00:00:00\", \"genre\": \"Comedy\", \"MPAA_rating\": \"PG\", \"total_gross\": 50026353, \"inflation_adjusted_gross\": 67910166}, {\"movie_title\": \"The Alamo\", \"release_date\": \"2004-04-09T00:00:00\", \"genre\": \"Western\", \"MPAA_rating\": \"PG-13\", \"total_gross\": 22406362, \"inflation_adjusted_gross\": 30416359}, {\"movie_title\": \"Raising Helen\", \"release_date\": \"2004-05-28T00:00:00\", \"genre\": \"Comedy\", \"MPAA_rating\": \"PG-13\", \"total_gross\": 37485528, \"inflation_adjusted_gross\": 50886144}, {\"movie_title\": \"Around the World in 80 Days\", \"release_date\": \"2004-06-16T00:00:00\", \"genre\": \"Adventure\", \"MPAA_rating\": \"PG\", \"total_gross\": 24004159, \"inflation_adjusted_gross\": 32585356}, {\"movie_title\": \"America's Heart and Soul\", \"release_date\": \"2004-07-02T00:00:00\", \"genre\": \"Documentary\", \"MPAA_rating\": \"Not Rated\", \"total_gross\": 314000, \"inflation_adjusted_gross\": 426246}, {\"movie_title\": \"King Arthur\", \"release_date\": \"2004-07-07T00:00:00\", \"genre\": \"Adventure\", \"MPAA_rating\": \"PG-13\", \"total_gross\": 51877963, \"inflation_adjusted_gross\": 70423706}, {\"movie_title\": \"The Village\", \"release_date\": \"2004-07-30T00:00:00\", \"genre\": \"Thriller/Suspense\", \"MPAA_rating\": \"PG-13\", \"total_gross\": 114197520, \"inflation_adjusted_gross\": 155021748}, {\"movie_title\": \"The Princess Diaries 2: Royal Engagement\", \"release_date\": \"2004-08-11T00:00:00\", \"genre\": \"Romantic Comedy\", \"MPAA_rating\": \"G\", \"total_gross\": 95149435, \"inflation_adjusted_gross\": 129164207}, {\"movie_title\": \"Mr. 3000\", \"release_date\": \"2004-09-17T00:00:00\", \"genre\": \"Comedy\", \"MPAA_rating\": \"PG-13\", \"total_gross\": 21800302, \"inflation_adjusted_gross\": 29593641}, {\"movie_title\": \"The Last Shot\", \"release_date\": \"2004-09-24T00:00:00\", \"genre\": \"Comedy\", \"MPAA_rating\": \"R\", \"total_gross\": 463730, \"inflation_adjusted_gross\": 629502}, {\"movie_title\": \"Ladder 49\", \"release_date\": \"2004-10-01T00:00:00\", \"genre\": \"Action\", \"MPAA_rating\": \"PG-13\", \"total_gross\": 74541707, \"inflation_adjusted_gross\": 101161045}, {\"movie_title\": \"The Incredibles\", \"release_date\": \"2004-11-05T00:00:00\", \"genre\": \"Adventure\", \"MPAA_rating\": \"PG\", \"total_gross\": 261441092, \"inflation_adjusted_gross\": 354488708}, {\"movie_title\": \"National Treasure\", \"release_date\": \"2004-11-19T00:00:00\", \"genre\": \"Adventure\", \"MPAA_rating\": \"PG\", \"total_gross\": 173005002, \"inflation_adjusted_gross\": 234069353}, {\"movie_title\": \"The Life Aquatic with Steve Zissou\", \"release_date\": \"2004-12-10T00:00:00\", \"genre\": \"Comedy\", \"MPAA_rating\": \"R\", \"total_gross\": 24006726, \"inflation_adjusted_gross\": 32198655}, {\"movie_title\": \"Aliens of the Deep\", \"release_date\": \"2005-01-28T00:00:00\", \"genre\": \"Documentary\", \"MPAA_rating\": \"G\", \"total_gross\": 8968684, \"inflation_adjusted_gross\": 11740942}, {\"movie_title\": \"Pooh's Heffalump Movie\", \"release_date\": \"2005-02-11T00:00:00\", \"genre\": \"Adventure\", \"MPAA_rating\": \"G\", \"total_gross\": 18098433, \"inflation_adjusted_gross\": 23801835}, {\"movie_title\": \"The Pacifier\", \"release_date\": \"2005-03-04T00:00:00\", \"genre\": \"Comedy\", \"MPAA_rating\": \"PG\", \"total_gross\": 113006880, \"inflation_adjusted_gross\": 148619029}, {\"movie_title\": \"Ice Princess\", \"release_date\": \"2005-03-18T00:00:00\", \"genre\": \"Comedy\", \"MPAA_rating\": \"G\", \"total_gross\": 24381334, \"inflation_adjusted_gross\": 32064685}, {\"movie_title\": \"A Lot Like Love\", \"release_date\": \"2005-04-22T00:00:00\", \"genre\": \"Comedy\", \"MPAA_rating\": \"PG-13\", \"total_gross\": 21835784, \"inflation_adjusted_gross\": 28716947}, {\"movie_title\": \"The Hitchhiker's Guide to the Galaxy\", \"release_date\": \"2005-04-29T00:00:00\", \"genre\": \"Comedy\", \"MPAA_rating\": \"PG\", \"total_gross\": 51019112, \"inflation_adjusted_gross\": 67096891}, {\"movie_title\": \"Hauru no ugoku shiro\", \"release_date\": \"2005-06-10T00:00:00\", \"genre\": \"Adventure\", \"MPAA_rating\": \"PG\", \"total_gross\": 4710455, \"inflation_adjusted_gross\": 6194870}, {\"movie_title\": \"Herbie: Fully Loaded\", \"release_date\": \"2005-06-22T00:00:00\", \"genre\": \"Comedy\", \"MPAA_rating\": \"G\", \"total_gross\": 66010682, \"inflation_adjusted_gross\": 86812798}, {\"movie_title\": \"Dark Water\", \"release_date\": \"2005-07-08T00:00:00\", \"genre\": \"Thriller/Suspense\", \"MPAA_rating\": \"PG-13\", \"total_gross\": 25473093, \"inflation_adjusted_gross\": 33500491}, {\"movie_title\": \"Sky High\", \"release_date\": \"2005-07-29T00:00:00\", \"genre\": \"Adventure\", \"MPAA_rating\": \"PG\", \"total_gross\": 63939454, \"inflation_adjusted_gross\": 84088854}, {\"movie_title\": \"Valiant\", \"release_date\": \"2005-08-19T00:00:00\", \"genre\": \"Adventure\", \"MPAA_rating\": \"G\", \"total_gross\": 19478106, \"inflation_adjusted_gross\": 25616292}, {\"movie_title\": \"Flightplan\", \"release_date\": \"2005-09-23T00:00:00\", \"genre\": \"Thriller/Suspense\", \"MPAA_rating\": \"PG-13\", \"total_gross\": 89706988, \"inflation_adjusted_gross\": 117960425}, {\"movie_title\": \"The Greatest Game Ever Played\", \"release_date\": \"2005-09-30T00:00:00\", \"genre\": \"Drama\", \"MPAA_rating\": \"PG\", \"total_gross\": 15331289, \"inflation_adjusted_gross\": 20162672}, {\"movie_title\": \"Shopgirl\", \"release_date\": \"2005-10-21T00:00:00\", \"genre\": \"Drama\", \"MPAA_rating\": \"R\", \"total_gross\": 10284523, \"inflation_adjusted_gross\": 13519621}, {\"movie_title\": \"Chicken Little\", \"release_date\": \"2005-11-04T00:00:00\", \"genre\": \"Adventure\", \"MPAA_rating\": \"G\", \"total_gross\": 135386665, \"inflation_adjusted_gross\": 177954661}, {\"movie_title\": \"The Chronicles of Narnia: The Lion, t\\u2026\", \"release_date\": \"2005-12-09T00:00:00\", \"genre\": \"Adventure\", \"MPAA_rating\": \"PG\", \"total_gross\": 291710957, \"inflation_adjusted_gross\": 381557539}, {\"movie_title\": \"Casanova\", \"release_date\": \"2005-12-25T00:00:00\", \"genre\": \"Drama\", \"MPAA_rating\": \"R\", \"total_gross\": 11304403, \"inflation_adjusted_gross\": 14574087}, {\"movie_title\": \"Glory Road\", \"release_date\": \"2006-01-13T00:00:00\", \"genre\": \"Drama\", \"MPAA_rating\": \"PG\", \"total_gross\": 42647449, \"inflation_adjusted_gross\": 54888236}, {\"movie_title\": \"Annapolis\", \"release_date\": \"2006-01-27T00:00:00\", \"genre\": \"Drama\", \"MPAA_rating\": \"PG-13\", \"total_gross\": 17127992, \"inflation_adjusted_gross\": 22044113}, {\"movie_title\": \"Roving Mars\", \"release_date\": \"2006-01-27T00:00:00\", \"genre\": \"Documentary\", \"MPAA_rating\": \"G\", \"total_gross\": 10407978, \"inflation_adjusted_gross\": 12948025}, {\"movie_title\": \"Eight Below\", \"release_date\": \"2006-02-17T00:00:00\", \"genre\": \"Adventure\", \"MPAA_rating\": \"PG\", \"total_gross\": 81612565, \"inflation_adjusted_gross\": 105037235}, {\"movie_title\": \"The Shaggy Dog\", \"release_date\": \"2006-03-10T00:00:00\", \"genre\": \"Comedy\", \"MPAA_rating\": \"PG\", \"total_gross\": 61123569, \"inflation_adjusted_gross\": 78667428}, {\"movie_title\": \"Stay Alive\", \"release_date\": \"2006-03-24T00:00:00\", \"genre\": \"Horror\", \"MPAA_rating\": \"PG-13\", \"total_gross\": 23086480, \"inflation_adjusted_gross\": 29712825}, {\"movie_title\": \"The Wild\", \"release_date\": \"2006-04-14T00:00:00\", \"genre\": \"Adventure\", \"MPAA_rating\": \"G\", \"total_gross\": 37384046, \"inflation_adjusted_gross\": 48114115}, {\"movie_title\": \"Stick It\", \"release_date\": \"2006-04-28T00:00:00\", \"genre\": \"Comedy\", \"MPAA_rating\": \"PG-13\", \"total_gross\": 26910736, \"inflation_adjusted_gross\": 34634731}, {\"movie_title\": \"Goal! The Dream Begins\", \"release_date\": \"2006-05-12T00:00:00\", \"genre\": \"Drama\", \"MPAA_rating\": \"PG\", \"total_gross\": 4283255, \"inflation_adjusted_gross\": 5512647}, {\"movie_title\": \"Cars\", \"release_date\": \"2006-06-09T00:00:00\", \"genre\": \"Comedy\", \"MPAA_rating\": \"G\", \"total_gross\": 244082982, \"inflation_adjusted_gross\": 314140384}, {\"movie_title\": \"Pirates of the Caribbean: Dead Man\\u2019\\u2026\", \"release_date\": \"2006-07-07T00:00:00\", \"genre\": \"Adventure\", \"MPAA_rating\": \"PG-13\", \"total_gross\": 423315812, \"inflation_adjusted_gross\": 544817142}, {\"movie_title\": \"Step Up\", \"release_date\": \"2006-08-11T00:00:00\", \"genre\": \"Drama\", \"MPAA_rating\": \"PG-13\", \"total_gross\": 65328121, \"inflation_adjusted_gross\": 84078780}, {\"movie_title\": \"Invincible\", \"release_date\": \"2006-08-25T00:00:00\", \"genre\": \"Drama\", \"MPAA_rating\": \"PG\", \"total_gross\": 57806952, \"inflation_adjusted_gross\": 74398864}, {\"movie_title\": \"The Guardian\", \"release_date\": \"2006-09-29T00:00:00\", \"genre\": \"Action\", \"MPAA_rating\": \"PG-13\", \"total_gross\": 55011732, \"inflation_adjusted_gross\": 70801353}, {\"movie_title\": \"The Prestige\", \"release_date\": \"2006-10-20T00:00:00\", \"genre\": \"Thriller/Suspense\", \"MPAA_rating\": \"PG-13\", \"total_gross\": 53089891, \"inflation_adjusted_gross\": 68289913}, {\"movie_title\": \"Tim Burton's The Nightmare Before Chr\\u2026\", \"release_date\": \"2006-10-20T00:00:00\", \"genre\": \"Musical\", \"MPAA_rating\": \"PG\", \"total_gross\": 24732041, \"inflation_adjusted_gross\": 30737517}, {\"movie_title\": \"The Santa Clause 3: The Escape Clause\", \"release_date\": \"2006-11-03T00:00:00\", \"genre\": \"Comedy\", \"MPAA_rating\": \"G\", \"total_gross\": 84500122, \"inflation_adjusted_gross\": 108694869}, {\"movie_title\": \"D\\u00e9j\\u00e0 Vu\", \"release_date\": \"2006-11-22T00:00:00\", \"genre\": \"Thriller/Suspense\", \"MPAA_rating\": \"PG-13\", \"total_gross\": 64038616, \"inflation_adjusted_gross\": 82267038}, {\"movie_title\": \"Apocalypto\", \"release_date\": \"2006-12-08T00:00:00\", \"genre\": \"Adventure\", \"MPAA_rating\": \"R\", \"total_gross\": 50866635, \"inflation_adjusted_gross\": 64959548}, {\"movie_title\": \"Primeval\", \"release_date\": \"2007-01-12T00:00:00\", \"genre\": \"Adventure\", \"MPAA_rating\": \"R\", \"total_gross\": 10597734, \"inflation_adjusted_gross\": 12985302}, {\"movie_title\": \"Bridge to Terabithia\", \"release_date\": \"2007-02-16T00:00:00\", \"genre\": \"Drama\", \"MPAA_rating\": \"PG\", \"total_gross\": 82234139, \"inflation_adjusted_gross\": 100760721}, {\"movie_title\": \"Wild Hogs\", \"release_date\": \"2007-03-02T00:00:00\", \"genre\": \"Comedy\", \"MPAA_rating\": \"PG-13\", \"total_gross\": 168213584, \"inflation_adjusted_gross\": 206110533}, {\"movie_title\": \"Meet the Robinsons\", \"release_date\": \"2007-03-30T00:00:00\", \"genre\": \"Adventure\", \"MPAA_rating\": \"G\", \"total_gross\": 97822171, \"inflation_adjusted_gross\": 119860589}, {\"movie_title\": \"The Lookout\", \"release_date\": \"2007-03-30T00:00:00\", \"genre\": \"Drama\", \"MPAA_rating\": \"R\", \"total_gross\": 4600585, \"inflation_adjusted_gross\": 5637048}, {\"movie_title\": \"The Hoax\", \"release_date\": \"2007-04-06T00:00:00\", \"genre\": \"Drama\", \"MPAA_rating\": \"R\", \"total_gross\": 7164995, \"inflation_adjusted_gross\": 8779196}, {\"movie_title\": \"The Invisible\", \"release_date\": \"2007-04-27T00:00:00\", \"genre\": \"Thriller/Suspense\", \"MPAA_rating\": \"PG-13\", \"total_gross\": 20568319, \"inflation_adjusted_gross\": 25202168}, {\"movie_title\": \"Pirates of the Caribbean: At World\\u2019\\u2026\", \"release_date\": \"2007-05-24T00:00:00\", \"genre\": \"Adventure\", \"MPAA_rating\": \"PG-13\", \"total_gross\": 309420425, \"inflation_adjusted_gross\": 379129960}, {\"movie_title\": \"Ratatouille\", \"release_date\": \"2007-06-29T00:00:00\", \"genre\": \"Comedy\", \"MPAA_rating\": \"G\", \"total_gross\": 206445654, \"inflation_adjusted_gross\": 252955933}, {\"movie_title\": \"Underdog\", \"release_date\": \"2007-08-03T00:00:00\", \"genre\": \"Adventure\", \"MPAA_rating\": \"PG\", \"total_gross\": 43760605, \"inflation_adjusted_gross\": 53619462}, {\"movie_title\": \"The Game Plan\", \"release_date\": \"2007-09-22T00:00:00\", \"genre\": \"Comedy\", \"MPAA_rating\": \"PG\", \"total_gross\": 90648202, \"inflation_adjusted_gross\": 111010758}, {\"movie_title\": \"Dan in Real Life\", \"release_date\": \"2007-10-20T00:00:00\", \"genre\": \"Romantic Comedy\", \"MPAA_rating\": \"PG-13\", \"total_gross\": 47642963, \"inflation_adjusted_gross\": 58350234}, {\"movie_title\": \"Enchanted\", \"release_date\": \"2007-11-21T00:00:00\", \"genre\": \"Romantic Comedy\", \"MPAA_rating\": \"PG\", \"total_gross\": 127706877, \"inflation_adjusted_gross\": 156074310}, {\"movie_title\": \"National Treasure 2: Book of Secrets\", \"release_date\": \"2007-12-21T00:00:00\", \"genre\": \"Adventure\", \"MPAA_rating\": \"PG\", \"total_gross\": 219961501, \"inflation_adjusted_gross\": 267003525}, {\"movie_title\": \"Hannah Montana/Miley Cyrus: Best of B\\u2026\", \"release_date\": \"2008-02-01T00:00:00\", \"genre\": \"Concert/Performance\", \"MPAA_rating\": \"G\", \"total_gross\": 65281781, \"inflation_adjusted_gross\": 76646993}, {\"movie_title\": \"Step Up 2 the Streets\", \"release_date\": \"2008-02-14T00:00:00\", \"genre\": \"Drama\", \"MPAA_rating\": \"PG-13\", \"total_gross\": 58017783, \"inflation_adjusted_gross\": 68118371}, {\"movie_title\": \"College Road Trip\", \"release_date\": \"2008-03-07T00:00:00\", \"genre\": \"Comedy\", \"MPAA_rating\": \"G\", \"total_gross\": 45610425, \"inflation_adjusted_gross\": 53550960}, {\"movie_title\": \"The Chronicles of Narnia: Prince Caspian\", \"release_date\": \"2008-05-16T00:00:00\", \"genre\": \"Adventure\", \"MPAA_rating\": \"PG\", \"total_gross\": 141621490, \"inflation_adjusted_gross\": 166277038}, {\"movie_title\": \"WALL-E\", \"release_date\": \"2008-06-27T00:00:00\", \"genre\": \"Adventure\", \"MPAA_rating\": \"G\", \"total_gross\": 223808164, \"inflation_adjusted_gross\": 262771918}, {\"movie_title\": \"Swing Vote\", \"release_date\": \"2008-08-01T00:00:00\", \"genre\": \"Comedy\", \"MPAA_rating\": \"PG-13\", \"total_gross\": 16289867, \"inflation_adjusted_gross\": 19125841}, {\"movie_title\": \"Goal! 2: Living the Dream...\", \"release_date\": \"2008-08-29T00:00:00\", \"genre\": \"Drama\", \"MPAA_rating\": \"PG-13\", \"total_gross\": 225067, \"inflation_adjusted_gross\": 264247}, {\"movie_title\": \"Miracle at St. Anna\", \"release_date\": \"2008-09-26T00:00:00\", \"genre\": \"Drama\", \"MPAA_rating\": \"R\", \"total_gross\": 7916887, \"inflation_adjusted_gross\": 9295171}, {\"movie_title\": \"Beverly Hills Chihuahua\", \"release_date\": \"2008-10-03T00:00:00\", \"genre\": \"Comedy\", \"MPAA_rating\": \"PG\", \"total_gross\": 94514402, \"inflation_adjusted_gross\": 110932022}, {\"movie_title\": \"Morning Light\", \"release_date\": \"2008-10-17T00:00:00\", \"genre\": \"Documentary\", \"MPAA_rating\": \"PG\", \"total_gross\": 275093, \"inflation_adjusted_gross\": 322979}, {\"movie_title\": \"High School Musical 3: Senior Year\", \"release_date\": \"2008-10-24T00:00:00\", \"genre\": \"Musical\", \"MPAA_rating\": \"G\", \"total_gross\": 90559416, \"inflation_adjusted_gross\": 106308538}, {\"movie_title\": \"Bolt\", \"release_date\": \"2008-11-21T00:00:00\", \"genre\": \"Comedy\", \"MPAA_rating\": \"PG\", \"total_gross\": 114053759, \"inflation_adjusted_gross\": 133702498}, {\"movie_title\": \"Bedtime Stories\", \"release_date\": \"2008-12-25T00:00:00\", \"genre\": \"Comedy\", \"MPAA_rating\": \"PG\", \"total_gross\": 110101975, \"inflation_adjusted_gross\": 128039679}, {\"movie_title\": \"Confessions of a Shopaholic\", \"release_date\": \"2009-02-13T00:00:00\", \"genre\": \"Romantic Comedy\", \"MPAA_rating\": \"PG\", \"total_gross\": 44277350, \"inflation_adjusted_gross\": 49767744}, {\"movie_title\": \"Jonas Brothers: The 3D Concert Experi\\u2026\", \"release_date\": \"2009-02-27T00:00:00\", \"genre\": \"Concert/Performance\", \"MPAA_rating\": \"G\", \"total_gross\": 38174685, \"inflation_adjusted_gross\": 38174685}, {\"movie_title\": \"Race to Witch Mountain\", \"release_date\": \"2009-03-13T00:00:00\", \"genre\": \"Adventure\", \"MPAA_rating\": \"PG\", \"total_gross\": 67172594, \"inflation_adjusted_gross\": 75501997}, {\"movie_title\": \"Hannah Montana the Movie\", \"release_date\": \"2009-04-10T00:00:00\", \"genre\": \"Drama\", \"MPAA_rating\": \"G\", \"total_gross\": 79576189, \"inflation_adjusted_gross\": 89443640}, {\"movie_title\": \"Earth\", \"release_date\": \"2009-04-22T00:00:00\", \"genre\": \"Documentary\", \"MPAA_rating\": \"G\", \"total_gross\": 32011576, \"inflation_adjusted_gross\": 35981010}, {\"movie_title\": \"Up\", \"release_date\": \"2009-05-29T00:00:00\", \"genre\": \"Adventure\", \"MPAA_rating\": \"PG\", \"total_gross\": 293004164, \"inflation_adjusted_gross\": 329336681}, {\"movie_title\": \"The Proposal\", \"release_date\": \"2009-06-19T00:00:00\", \"genre\": \"Romantic Comedy\", \"MPAA_rating\": \"PG-13\", \"total_gross\": 163958031, \"inflation_adjusted_gross\": 184288829}, {\"movie_title\": \"G-Force\", \"release_date\": \"2009-07-24T00:00:00\", \"genre\": \"Adventure\", \"MPAA_rating\": \"PG\", \"total_gross\": 119436770, \"inflation_adjusted_gross\": 134246932}, {\"movie_title\": \"Gake no ue no Ponyo\", \"release_date\": \"2009-08-14T00:00:00\", \"genre\": \"Adventure\", \"MPAA_rating\": \"G\", \"total_gross\": 15090399, \"inflation_adjusted_gross\": 16961607}, {\"movie_title\": \"X Games 3D: The Movie\", \"release_date\": \"2009-08-21T00:00:00\", \"genre\": \"Documentary\", \"MPAA_rating\": \"PG\", \"total_gross\": 1391434, \"inflation_adjusted_gross\": 1563976}, {\"movie_title\": \"Walt and El Grupo\", \"release_date\": \"2009-09-10T00:00:00\", \"genre\": \"Documentary\", \"MPAA_rating\": \"PG\", \"total_gross\": 20521, \"inflation_adjusted_gross\": 23064}, {\"movie_title\": \"Surrogates\", \"release_date\": \"2009-09-25T00:00:00\", \"genre\": \"Action\", \"MPAA_rating\": \"PG-13\", \"total_gross\": 38577772, \"inflation_adjusted_gross\": 43361416}, {\"movie_title\": \"Toy Story 3D Double Feature\", \"release_date\": \"2009-10-02T00:00:00\", \"genre\": \"Adventure\", \"MPAA_rating\": \"G\", \"total_gross\": 30702446, \"inflation_adjusted_gross\": 34509545}, {\"movie_title\": \"Disney's A Christmas Carol\", \"release_date\": \"2009-11-06T00:00:00\", \"genre\": \"Drama\", \"MPAA_rating\": \"PG\", \"total_gross\": 137855863, \"inflation_adjusted_gross\": 154927105}, {\"movie_title\": \"The Princess and the Frog\", \"release_date\": \"2009-11-25T00:00:00\", \"genre\": \"Adventure\", \"MPAA_rating\": \"G\", \"total_gross\": 104400899, \"inflation_adjusted_gross\": 116316457}, {\"movie_title\": \"Old Dogs\", \"release_date\": \"2009-11-25T00:00:00\", \"genre\": \"Comedy\", \"MPAA_rating\": \"PG\", \"total_gross\": 49492060, \"inflation_adjusted_gross\": 55503929}, {\"movie_title\": \"When in Rome\", \"release_date\": \"2010-01-29T00:00:00\", \"genre\": \"Romantic Comedy\", \"MPAA_rating\": \"PG-13\", \"total_gross\": 32680633, \"inflation_adjusted_gross\": 34917330}, {\"movie_title\": \"Alice in Wonderland\", \"release_date\": \"2010-03-05T00:00:00\", \"genre\": \"Adventure\", \"MPAA_rating\": \"PG\", \"total_gross\": 334191110, \"inflation_adjusted_gross\": 357063499}, {\"movie_title\": \"Waking Sleeping Beauty\", \"release_date\": \"2010-03-26T00:00:00\", \"genre\": \"Documentary\", \"MPAA_rating\": \"PG\", \"total_gross\": 80741, \"inflation_adjusted_gross\": 86264}, {\"movie_title\": \"The Last Song\", \"release_date\": \"2010-03-31T00:00:00\", \"genre\": \"Drama\", \"MPAA_rating\": \"PG\", \"total_gross\": 62950384, \"inflation_adjusted_gross\": 67258772}, {\"movie_title\": \"Oceans\", \"release_date\": \"2010-04-22T00:00:00\", \"genre\": \"Documentary\", \"MPAA_rating\": \"G\", \"total_gross\": 19422319, \"inflation_adjusted_gross\": 20751600}, {\"movie_title\": \"Prince of Persia: Sands of Time\", \"release_date\": \"2010-05-28T00:00:00\", \"genre\": \"Action\", \"MPAA_rating\": \"PG-13\", \"total_gross\": 90759676, \"inflation_adjusted_gross\": 96971361}, {\"movie_title\": \"Toy Story 3\", \"release_date\": \"2010-06-18T00:00:00\", \"genre\": \"Adventure\", \"MPAA_rating\": \"G\", \"total_gross\": 415004880, \"inflation_adjusted_gross\": 443408255}, {\"movie_title\": \"The Sorcerer's Apprentice\", \"release_date\": \"2010-07-14T00:00:00\", \"genre\": \"Adventure\", \"MPAA_rating\": \"PG\", \"total_gross\": 63150991, \"inflation_adjusted_gross\": 67473105}, {\"movie_title\": \"Step Up 3D\", \"release_date\": \"2010-08-06T00:00:00\", \"genre\": \"Drama\", \"MPAA_rating\": \"PG-13\", \"total_gross\": 42400223, \"inflation_adjusted_gross\": 45302137}, {\"movie_title\": \"Gedo Senki (Tales from Earthsea)\", \"release_date\": \"2010-08-13T00:00:00\", \"genre\": \"Adventure\", \"MPAA_rating\": \"PG-13\", \"total_gross\": 48658, \"inflation_adjusted_gross\": 51988}, {\"movie_title\": \"You Again\", \"release_date\": \"2010-09-24T00:00:00\", \"genre\": \"Comedy\", \"MPAA_rating\": \"PG\", \"total_gross\": 25702053, \"inflation_adjusted_gross\": 27461121}, {\"movie_title\": \"Secretariat\", \"release_date\": \"2010-10-08T00:00:00\", \"genre\": \"Drama\", \"MPAA_rating\": \"PG\", \"total_gross\": 59699513, \"inflation_adjusted_gross\": 63781920}, {\"movie_title\": \"Tangled\", \"release_date\": \"2010-11-24T00:00:00\", \"genre\": \"Adventure\", \"MPAA_rating\": \"PG\", \"total_gross\": 200821936, \"inflation_adjusted_gross\": 214388548}, {\"movie_title\": \"Tron: Legacy\", \"release_date\": \"2010-12-17T00:00:00\", \"genre\": \"Adventure\", \"MPAA_rating\": \"PG\", \"total_gross\": 172062763, \"inflation_adjusted_gross\": 183619259}, {\"movie_title\": \"Gnomeo and Juliet\", \"release_date\": \"2011-02-11T00:00:00\", \"genre\": \"Comedy\", \"MPAA_rating\": \"G\", \"total_gross\": 99967670, \"inflation_adjusted_gross\": 106270797}, {\"movie_title\": \"I am Number Four\", \"release_date\": \"2011-02-18T00:00:00\", \"genre\": \"Adventure\", \"MPAA_rating\": \"PG-13\", \"total_gross\": 55100437, \"inflation_adjusted_gross\": 58574607}, {\"movie_title\": \"Mars Needs Moms\", \"release_date\": \"2011-03-11T00:00:00\", \"genre\": \"Adventure\", \"MPAA_rating\": \"PG\", \"total_gross\": 21392758, \"inflation_adjusted_gross\": 22741603}, {\"movie_title\": \"African Cats\", \"release_date\": \"2011-04-22T00:00:00\", \"genre\": \"Documentary\", \"MPAA_rating\": \"G\", \"total_gross\": 15428747, \"inflation_adjusted_gross\": 16401551}, {\"movie_title\": \"Zokkomon\", \"release_date\": \"2011-04-22T00:00:00\", \"genre\": \"Adventure\", \"MPAA_rating\": \"PG\", \"total_gross\": 2815, \"inflation_adjusted_gross\": 2984}, {\"movie_title\": \"Prom\", \"release_date\": \"2011-04-29T00:00:00\", \"genre\": \"Comedy\", \"MPAA_rating\": \"PG\", \"total_gross\": 10130219, \"inflation_adjusted_gross\": 10768946}, {\"movie_title\": \"Pirates of the Caribbean: On Stranger\\u2026\", \"release_date\": \"2011-05-20T00:00:00\", \"genre\": \"Adventure\", \"MPAA_rating\": \"PG-13\", \"total_gross\": 241063875, \"inflation_adjusted_gross\": 256263359}, {\"movie_title\": \"Cars 2\", \"release_date\": \"2011-06-24T00:00:00\", \"genre\": \"Adventure\", \"MPAA_rating\": \"G\", \"total_gross\": 191450875, \"inflation_adjusted_gross\": 203522177}, {\"movie_title\": \"Winnie the Pooh\", \"release_date\": \"2011-07-15T00:00:00\", \"genre\": \"Adventure\", \"MPAA_rating\": \"G\", \"total_gross\": 26692846, \"inflation_adjusted_gross\": 28375869}, {\"movie_title\": \"The Help\", \"release_date\": \"2011-08-10T00:00:00\", \"genre\": \"Drama\", \"MPAA_rating\": \"PG-13\", \"total_gross\": 169705587, \"inflation_adjusted_gross\": 180404976}, {\"movie_title\": \"Fright Night\", \"release_date\": \"2011-08-19T00:00:00\", \"genre\": \"Horror\", \"MPAA_rating\": \"R\", \"total_gross\": 18298649, \"inflation_adjusted_gross\": 19452402}, {\"movie_title\": \"Real Steel\", \"release_date\": \"2011-10-07T00:00:00\", \"genre\": \"Action\", \"MPAA_rating\": \"PG-13\", \"total_gross\": 85463309, \"inflation_adjusted_gross\": 90848019}, {\"movie_title\": \"The Muppets\", \"release_date\": \"2011-11-23T00:00:00\", \"genre\": \"Comedy\", \"MPAA_rating\": \"PG\", \"total_gross\": 88625922, \"inflation_adjusted_gross\": 94189503}, {\"movie_title\": \"War Horse\", \"release_date\": \"2011-12-25T00:00:00\", \"genre\": \"Drama\", \"MPAA_rating\": \"PG-13\", \"total_gross\": 79883359, \"inflation_adjusted_gross\": 84762149}, {\"movie_title\": \"The Secret World of Arietty\", \"release_date\": \"2012-02-17T00:00:00\", \"genre\": \"Adventure\", \"MPAA_rating\": \"G\", \"total_gross\": 19192510, \"inflation_adjusted_gross\": 20325733}, {\"movie_title\": \"John Carter\", \"release_date\": \"2012-03-09T00:00:00\", \"genre\": \"Adventure\", \"MPAA_rating\": \"PG-13\", \"total_gross\": 73058679, \"inflation_adjusted_gross\": 77372445}, {\"movie_title\": \"Chimpanzee\", \"release_date\": \"2012-04-20T00:00:00\", \"genre\": \"Documentary\", \"MPAA_rating\": \"G\", \"total_gross\": 28965459, \"inflation_adjusted_gross\": 30675725}, {\"movie_title\": \"The Avengers\", \"release_date\": \"2012-05-04T00:00:00\", \"genre\": \"Action\", \"MPAA_rating\": \"PG-13\", \"total_gross\": 623279547, \"inflation_adjusted_gross\": 660081224}, {\"movie_title\": \"Brave\", \"release_date\": \"2012-06-22T00:00:00\", \"genre\": \"Adventure\", \"MPAA_rating\": \"PG\", \"total_gross\": 237282182, \"inflation_adjusted_gross\": 251292441}, {\"movie_title\": \"People Like Us\", \"release_date\": \"2012-06-29T00:00:00\", \"genre\": \"Drama\", \"MPAA_rating\": \"PG-13\", \"total_gross\": 12431792, \"inflation_adjusted_gross\": 13165822}, {\"movie_title\": \"The Odd Life of Timothy Green\", \"release_date\": \"2012-08-15T00:00:00\", \"genre\": \"Drama\", \"MPAA_rating\": \"PG\", \"total_gross\": 51853450, \"inflation_adjusted_gross\": 54914942}, {\"movie_title\": \"Frankenweenie\", \"release_date\": \"2012-10-05T00:00:00\", \"genre\": \"Comedy\", \"MPAA_rating\": \"PG\", \"total_gross\": 35287788, \"inflation_adjusted_gross\": 37363513}, {\"movie_title\": \"Wreck-It Ralph\", \"release_date\": \"2012-11-02T00:00:00\", \"genre\": \"Adventure\", \"MPAA_rating\": \"PG\", \"total_gross\": 189412677, \"inflation_adjusted_gross\": 200354959}, {\"movie_title\": \"Lincoln\", \"release_date\": \"2012-11-09T00:00:00\", \"genre\": \"Drama\", \"MPAA_rating\": \"PG-13\", \"total_gross\": 182207973, \"inflation_adjusted_gross\": 192122330}, {\"movie_title\": \"Oz the Great and Powerful\", \"release_date\": \"2013-03-08T00:00:00\", \"genre\": \"Adventure\", \"MPAA_rating\": \"PG\", \"total_gross\": 234770996, \"inflation_adjusted_gross\": 243434130}, {\"movie_title\": \"Iron Man 3\", \"release_date\": \"2013-05-03T00:00:00\", \"genre\": \"Action\", \"MPAA_rating\": \"PG-13\", \"total_gross\": 408992272, \"inflation_adjusted_gross\": 424084233}, {\"movie_title\": \"Monsters University\", \"release_date\": \"2013-06-21T00:00:00\", \"genre\": \"Adventure\", \"MPAA_rating\": \"G\", \"total_gross\": 268488329, \"inflation_adjusted_gross\": 278395641}, {\"movie_title\": \"The Lone Ranger\", \"release_date\": \"2013-07-02T00:00:00\", \"genre\": \"Western\", \"MPAA_rating\": \"PG-13\", \"total_gross\": 89302115, \"inflation_adjusted_gross\": 92597388}, {\"movie_title\": \"Disney Planes\", \"release_date\": \"2013-08-09T00:00:00\", \"genre\": \"Comedy\", \"MPAA_rating\": \"PG\", \"total_gross\": 90282580, \"inflation_adjusted_gross\": 93614037}, {\"movie_title\": \"The Fifth Estate\", \"release_date\": \"2013-10-18T00:00:00\", \"genre\": \"Drama\", \"MPAA_rating\": \"R\", \"total_gross\": 3254172, \"inflation_adjusted_gross\": 3374251}, {\"movie_title\": \"Thor: The Dark World\", \"release_date\": \"2013-11-08T00:00:00\", \"genre\": \"Adventure\", \"MPAA_rating\": \"PG-13\", \"total_gross\": 206362140, \"inflation_adjusted_gross\": 213962184}, {\"movie_title\": \"Kaze Tachinu\", \"release_date\": \"2013-11-08T00:00:00\", \"genre\": \"Drama\", \"MPAA_rating\": \"PG-13\", \"total_gross\": 5201879, \"inflation_adjusted_gross\": 5367415}, {\"movie_title\": \"Frozen\", \"release_date\": \"2013-11-22T00:00:00\", \"genre\": \"Adventure\", \"MPAA_rating\": \"PG\", \"total_gross\": 400738009, \"inflation_adjusted_gross\": 414997174}, {\"movie_title\": \"Delivery Man\", \"release_date\": \"2013-11-22T00:00:00\", \"genre\": \"Comedy\", \"MPAA_rating\": \"PG-13\", \"total_gross\": 30659817, \"inflation_adjusted_gross\": 31787136}, {\"movie_title\": \"Saving Mr. Banks\", \"release_date\": \"2013-12-13T00:00:00\", \"genre\": \"Drama\", \"MPAA_rating\": \"PG-13\", \"total_gross\": 83299761, \"inflation_adjusted_gross\": 86249969}, {\"movie_title\": \"Need for Speed\", \"release_date\": \"2014-03-14T00:00:00\", \"genre\": \"Action\", \"MPAA_rating\": \"PG-13\", \"total_gross\": 43568507, \"inflation_adjusted_gross\": 44955015}, {\"movie_title\": \"Muppets Most Wanted\", \"release_date\": \"2014-03-21T00:00:00\", \"genre\": \"Comedy\", \"MPAA_rating\": \"PG\", \"total_gross\": 51178893, \"inflation_adjusted_gross\": 52807594}, {\"movie_title\": \"Captain America: The Winter Soldier\", \"release_date\": \"2014-04-04T00:00:00\", \"genre\": \"Action\", \"MPAA_rating\": \"PG-13\", \"total_gross\": 259746958, \"inflation_adjusted_gross\": 268013076}, {\"movie_title\": \"Bears\", \"release_date\": \"2014-04-18T00:00:00\", \"genre\": \"Documentary\", \"MPAA_rating\": \"G\", \"total_gross\": 17780194, \"inflation_adjusted_gross\": 18346024}, {\"movie_title\": \"Million Dollar Arm\", \"release_date\": \"2014-05-10T00:00:00\", \"genre\": \"Drama\", \"MPAA_rating\": \"PG\", \"total_gross\": 36447959, \"inflation_adjusted_gross\": 37607865}, {\"movie_title\": \"Maleficent\", \"release_date\": \"2014-05-30T00:00:00\", \"genre\": \"Adventure\", \"MPAA_rating\": \"PG\", \"total_gross\": 241407328, \"inflation_adjusted_gross\": 249089809}, {\"movie_title\": \"Planes: Fire and Rescue\", \"release_date\": \"2014-07-18T00:00:00\", \"genre\": \"Adventure\", \"MPAA_rating\": \"PG\", \"total_gross\": 59157732, \"inflation_adjusted_gross\": 61040349}, {\"movie_title\": \"Guardians of the Galaxy\", \"release_date\": \"2014-08-01T00:00:00\", \"genre\": \"Adventure\", \"MPAA_rating\": \"PG-13\", \"total_gross\": 333172112, \"inflation_adjusted_gross\": 343771168}, {\"movie_title\": \"The Hundred-Foot Journey\", \"release_date\": \"2014-08-08T00:00:00\", \"genre\": \"Romantic Comedy\", \"MPAA_rating\": \"PG\", \"total_gross\": 54235441, \"inflation_adjusted_gross\": 55961409}, {\"movie_title\": \"Alexander and the Terrible, Horrible,\\u2026\", \"release_date\": \"2014-10-10T00:00:00\", \"genre\": \"Comedy\", \"MPAA_rating\": \"PG\", \"total_gross\": 66954149, \"inflation_adjusted_gross\": 69055550}, {\"movie_title\": \"Big Hero 6\", \"release_date\": \"2014-11-07T00:00:00\", \"genre\": \"Adventure\", \"MPAA_rating\": \"PG\", \"total_gross\": 222527828, \"inflation_adjusted_gross\": 229249222}, {\"movie_title\": \"Into the Woods\", \"release_date\": \"2014-12-25T00:00:00\", \"genre\": \"Musical\", \"MPAA_rating\": \"PG\", \"total_gross\": 128002372, \"inflation_adjusted_gross\": 130894237}, {\"movie_title\": \"Strange Magic\", \"release_date\": \"2015-01-23T00:00:00\", \"genre\": \"Adventure\", \"MPAA_rating\": \"PG\", \"total_gross\": 12429583, \"inflation_adjusted_gross\": 12429583}, {\"movie_title\": \"McFarland, USA\", \"release_date\": \"2015-02-20T00:00:00\", \"genre\": \"Drama\", \"MPAA_rating\": \"PG\", \"total_gross\": 44480275, \"inflation_adjusted_gross\": 44480275}, {\"movie_title\": \"Cinderella\", \"release_date\": \"2015-03-13T00:00:00\", \"genre\": \"Drama\", \"MPAA_rating\": \"PG\", \"total_gross\": 201151353, \"inflation_adjusted_gross\": 201151353}, {\"movie_title\": \"Monkey Kingdom\", \"release_date\": \"2015-04-17T00:00:00\", \"genre\": \"Documentary\", \"MPAA_rating\": \"G\", \"total_gross\": 16432322, \"inflation_adjusted_gross\": 16432322}, {\"movie_title\": \"Avengers: Age of Ultron\", \"release_date\": \"2015-05-01T00:00:00\", \"genre\": \"Action\", \"MPAA_rating\": \"PG-13\", \"total_gross\": 459005868, \"inflation_adjusted_gross\": 459005868}, {\"movie_title\": \"Tomorrowland\", \"release_date\": \"2015-05-22T00:00:00\", \"genre\": \"Adventure\", \"MPAA_rating\": \"PG\", \"total_gross\": 93436322, \"inflation_adjusted_gross\": 93436322}, {\"movie_title\": \"Inside Out\", \"release_date\": \"2015-06-19T00:00:00\", \"genre\": \"Adventure\", \"MPAA_rating\": \"PG\", \"total_gross\": 356461711, \"inflation_adjusted_gross\": 356461711}, {\"movie_title\": \"Ant-Man\", \"release_date\": \"2015-07-17T00:00:00\", \"genre\": \"Action\", \"MPAA_rating\": \"PG-13\", \"total_gross\": 180202163, \"inflation_adjusted_gross\": 180202163}, {\"movie_title\": \"Bridge of Spies\", \"release_date\": \"2015-10-16T00:00:00\", \"genre\": \"Thriller/Suspense\", \"MPAA_rating\": \"PG-13\", \"total_gross\": 72313754, \"inflation_adjusted_gross\": 72313754}, {\"movie_title\": \"The Good Dinosaur\", \"release_date\": \"2015-11-25T00:00:00\", \"genre\": \"Adventure\", \"MPAA_rating\": \"PG\", \"total_gross\": 123087120, \"inflation_adjusted_gross\": 123087120}, {\"movie_title\": \"Star Wars Ep. VII: The Force Awakens\", \"release_date\": \"2015-12-18T00:00:00\", \"genre\": \"Adventure\", \"MPAA_rating\": \"PG-13\", \"total_gross\": 936662225, \"inflation_adjusted_gross\": 936662225}, {\"movie_title\": \"The Finest Hours\", \"release_date\": \"2016-01-29T00:00:00\", \"genre\": \"Thriller/Suspense\", \"MPAA_rating\": \"PG\", \"total_gross\": 27569558, \"inflation_adjusted_gross\": 27569558}, {\"movie_title\": \"Zootopia\", \"release_date\": \"2016-03-04T00:00:00\", \"genre\": \"Adventure\", \"MPAA_rating\": \"PG\", \"total_gross\": 341268248, \"inflation_adjusted_gross\": 341268248}, {\"movie_title\": \"The Jungle Book\", \"release_date\": \"2016-04-15T00:00:00\", \"genre\": \"Adventure\", \"MPAA_rating\": \"PG\", \"total_gross\": 364001123, \"inflation_adjusted_gross\": 364001123}, {\"movie_title\": \"A Beautiful Planet\", \"release_date\": \"2016-04-29T00:00:00\", \"genre\": \"Documentary\", \"MPAA_rating\": \"G\", \"total_gross\": 7895708, \"inflation_adjusted_gross\": 7895708}, {\"movie_title\": \"Captain America: Civil War\", \"release_date\": \"2016-05-06T00:00:00\", \"genre\": \"Action\", \"MPAA_rating\": \"PG-13\", \"total_gross\": 408084349, \"inflation_adjusted_gross\": 408084349}, {\"movie_title\": \"Alice Through the Looking Glass\", \"release_date\": \"2016-05-27T00:00:00\", \"genre\": \"Adventure\", \"MPAA_rating\": \"PG\", \"total_gross\": 77042381, \"inflation_adjusted_gross\": 77042381}, {\"movie_title\": \"Finding Dory\", \"release_date\": \"2016-06-17T00:00:00\", \"genre\": \"Adventure\", \"MPAA_rating\": \"PG\", \"total_gross\": 486295561, \"inflation_adjusted_gross\": 486295561}, {\"movie_title\": \"The BFG\", \"release_date\": \"2016-07-01T00:00:00\", \"genre\": \"Adventure\", \"MPAA_rating\": \"PG\", \"total_gross\": 55483770, \"inflation_adjusted_gross\": 55483770}, {\"movie_title\": \"Pete\\u2019s Dragon\", \"release_date\": \"2016-08-12T00:00:00\", \"genre\": \"Adventure\", \"MPAA_rating\": \"PG\", \"total_gross\": 76233151, \"inflation_adjusted_gross\": 76233151}, {\"movie_title\": \"The Light Between Oceans\", \"release_date\": \"2016-09-02T00:00:00\", \"genre\": \"Drama\", \"MPAA_rating\": \"PG-13\", \"total_gross\": 12545979, \"inflation_adjusted_gross\": 12545979}, {\"movie_title\": \"Queen of Katwe\", \"release_date\": \"2016-09-23T00:00:00\", \"genre\": \"Drama\", \"MPAA_rating\": \"PG\", \"total_gross\": 8874389, \"inflation_adjusted_gross\": 8874389}, {\"movie_title\": \"Doctor Strange\", \"release_date\": \"2016-11-04T00:00:00\", \"genre\": \"Adventure\", \"MPAA_rating\": \"PG-13\", \"total_gross\": 232532923, \"inflation_adjusted_gross\": 232532923}, {\"movie_title\": \"Moana\", \"release_date\": \"2016-11-23T00:00:00\", \"genre\": \"Adventure\", \"MPAA_rating\": \"PG\", \"total_gross\": 246082029, \"inflation_adjusted_gross\": 246082029}, {\"movie_title\": \"Rogue One: A Star Wars Story\", \"release_date\": \"2016-12-16T00:00:00\", \"genre\": \"Adventure\", \"MPAA_rating\": \"PG-13\", \"total_gross\": 529483936, \"inflation_adjusted_gross\": 529483936}]}}, {\"mode\": \"vega-lite\"});\n",
       "</script>"
      ],
      "text/plain": [
       "alt.Chart(...)"
      ]
     },
     "execution_count": 9,
     "metadata": {},
     "output_type": "execute_result"
    }
   ],
   "source": [
    "genre_freq = alt.Chart(disney_data, width=500, height=300).mark_bar().encode(\n",
    "    x=alt.X('genre:N', title=\"Genre\"), \n",
    "    y=alt.Y('count():Q', title=\"Count\") \n",
    ").properties(title=\"Figure 1: Frequency of Movie Genres\")\n",
    "genre_freq"
   ]
  },
  {
   "cell_type": "markdown",
   "metadata": {},
   "source": [
    "Figure 1 shows that Comedy, Adventure and Drama are three of the most common genres. Based on this, we predict that one of these three genres will produce the highest gross revenue."
   ]
  },
  {
   "cell_type": "markdown",
   "metadata": {},
   "source": [
    "We will now explore our other variable of interest: gross revenue. Since the dataset includes inflation adjusted gross revenue and the original gross revenue, we need to determine which one we want to use. First, we will create a new dataframe that has the mean gross and inflation adjusted gross values per year, by using `groupby()`."
   ]
  },
  {
   "cell_type": "code",
   "execution_count": 10,
   "metadata": {},
   "outputs": [
    {
     "data": {
      "text/html": [
       "<div>\n",
       "<style scoped>\n",
       "    .dataframe tbody tr th:only-of-type {\n",
       "        vertical-align: middle;\n",
       "    }\n",
       "\n",
       "    .dataframe tbody tr th {\n",
       "        vertical-align: top;\n",
       "    }\n",
       "\n",
       "    .dataframe thead th {\n",
       "        text-align: right;\n",
       "    }\n",
       "</style>\n",
       "<table border=\"1\" class=\"dataframe\">\n",
       "  <thead>\n",
       "    <tr style=\"text-align: right;\">\n",
       "      <th></th>\n",
       "      <th>year</th>\n",
       "      <th>total_gross</th>\n",
       "      <th>inflation_adjusted_gross</th>\n",
       "    </tr>\n",
       "  </thead>\n",
       "  <tbody>\n",
       "    <tr>\n",
       "      <th>0</th>\n",
       "      <td>1937</td>\n",
       "      <td>184925485.0</td>\n",
       "      <td>5.228953e+09</td>\n",
       "    </tr>\n",
       "    <tr>\n",
       "      <th>1</th>\n",
       "      <td>1940</td>\n",
       "      <td>83810000.0</td>\n",
       "      <td>2.187660e+09</td>\n",
       "    </tr>\n",
       "    <tr>\n",
       "      <th>2</th>\n",
       "      <td>1946</td>\n",
       "      <td>65000000.0</td>\n",
       "      <td>1.078511e+09</td>\n",
       "    </tr>\n",
       "    <tr>\n",
       "      <th>3</th>\n",
       "      <td>1950</td>\n",
       "      <td>85000000.0</td>\n",
       "      <td>9.206087e+08</td>\n",
       "    </tr>\n",
       "    <tr>\n",
       "      <th>4</th>\n",
       "      <td>1954</td>\n",
       "      <td>28200000.0</td>\n",
       "      <td>5.282800e+08</td>\n",
       "    </tr>\n",
       "  </tbody>\n",
       "</table>\n",
       "</div>"
      ],
      "text/plain": [
       "   year  total_gross  inflation_adjusted_gross\n",
       "0  1937  184925485.0              5.228953e+09\n",
       "1  1940   83810000.0              2.187660e+09\n",
       "2  1946   65000000.0              1.078511e+09\n",
       "3  1950   85000000.0              9.206087e+08\n",
       "4  1954   28200000.0              5.282800e+08"
      ]
     },
     "execution_count": 10,
     "metadata": {},
     "output_type": "execute_result"
    }
   ],
   "source": [
    "disney_data = disney_data.assign(year = pd.DatetimeIndex(disney_data['release_date']).year)\n",
    "year_groups = disney_data.groupby(by='year')\n",
    "disney_years = year_groups.mean().reset_index()\n",
    "disney_years.head()"
   ]
  },
  {
   "cell_type": "markdown",
   "metadata": {},
   "source": [
    "**Table 3: Mean Orginal and Inflation Adjusted Gross Revenue per Year**"
   ]
  },
  {
   "cell_type": "markdown",
   "metadata": {},
   "source": [
    "Now we can examine the distribution for both the original gross revenue and inflation adjusted gross revenue variables."
   ]
  },
  {
   "cell_type": "code",
   "execution_count": 11,
   "metadata": {},
   "outputs": [
    {
     "data": {
      "text/html": [
       "\n",
       "<div id=\"altair-viz-f7548a07f81d41b9a1e4888a9b3fb372\"></div>\n",
       "<script type=\"text/javascript\">\n",
       "  (function(spec, embedOpt){\n",
       "    let outputDiv = document.currentScript.previousElementSibling;\n",
       "    if (outputDiv.id !== \"altair-viz-f7548a07f81d41b9a1e4888a9b3fb372\") {\n",
       "      outputDiv = document.getElementById(\"altair-viz-f7548a07f81d41b9a1e4888a9b3fb372\");\n",
       "    }\n",
       "    const paths = {\n",
       "      \"vega\": \"https://cdn.jsdelivr.net/npm//vega@5?noext\",\n",
       "      \"vega-lib\": \"https://cdn.jsdelivr.net/npm//vega-lib?noext\",\n",
       "      \"vega-lite\": \"https://cdn.jsdelivr.net/npm//vega-lite@4.8.1?noext\",\n",
       "      \"vega-embed\": \"https://cdn.jsdelivr.net/npm//vega-embed@6?noext\",\n",
       "    };\n",
       "\n",
       "    function loadScript(lib) {\n",
       "      return new Promise(function(resolve, reject) {\n",
       "        var s = document.createElement('script');\n",
       "        s.src = paths[lib];\n",
       "        s.async = true;\n",
       "        s.onload = () => resolve(paths[lib]);\n",
       "        s.onerror = () => reject(`Error loading script: ${paths[lib]}`);\n",
       "        document.getElementsByTagName(\"head\")[0].appendChild(s);\n",
       "      });\n",
       "    }\n",
       "\n",
       "    function showError(err) {\n",
       "      outputDiv.innerHTML = `<div class=\"error\" style=\"color:red;\">${err}</div>`;\n",
       "      throw err;\n",
       "    }\n",
       "\n",
       "    function displayChart(vegaEmbed) {\n",
       "      vegaEmbed(outputDiv, spec, embedOpt)\n",
       "        .catch(err => showError(`Javascript Error: ${err.message}<br>This usually means there's a typo in your chart specification. See the javascript console for the full traceback.`));\n",
       "    }\n",
       "\n",
       "    if(typeof define === \"function\" && define.amd) {\n",
       "      requirejs.config({paths});\n",
       "      require([\"vega-embed\"], displayChart, err => showError(`Error loading script: ${err.message}`));\n",
       "    } else if (typeof vegaEmbed === \"function\") {\n",
       "      displayChart(vegaEmbed);\n",
       "    } else {\n",
       "      loadScript(\"vega\")\n",
       "        .then(() => loadScript(\"vega-lite\"))\n",
       "        .then(() => loadScript(\"vega-embed\"))\n",
       "        .catch(showError)\n",
       "        .then(() => displayChart(vegaEmbed));\n",
       "    }\n",
       "  })({\"config\": {\"view\": {\"continuousWidth\": 400, \"continuousHeight\": 300}}, \"data\": {\"name\": \"data-01113f1d2947c95731f3fa20faa1cd2a\"}, \"mark\": \"bar\", \"encoding\": {\"x\": {\"type\": \"nominal\", \"bin\": {\"maxbins\": 20}, \"field\": \"year\", \"title\": \"Release Year\"}, \"y\": {\"type\": \"quantitative\", \"field\": \"total_gross\", \"title\": \"Mean Gross Revenue\"}}, \"height\": 300, \"title\": \"Figure 2: Distribution of Original Gross\", \"width\": 500, \"$schema\": \"https://vega.github.io/schema/vega-lite/v4.8.1.json\", \"datasets\": {\"data-01113f1d2947c95731f3fa20faa1cd2a\": [{\"year\": 1937, \"total_gross\": 184925485.0, \"inflation_adjusted_gross\": 5228953251.0}, {\"year\": 1940, \"total_gross\": 83810000.0, \"inflation_adjusted_gross\": 2187659930.0}, {\"year\": 1946, \"total_gross\": 65000000.0, \"inflation_adjusted_gross\": 1078510579.0}, {\"year\": 1950, \"total_gross\": 85000000.0, \"inflation_adjusted_gross\": 920608730.0}, {\"year\": 1954, \"total_gross\": 28200000.0, \"inflation_adjusted_gross\": 528279994.0}, {\"year\": 1955, \"total_gross\": 93600000.0, \"inflation_adjusted_gross\": 1236035515.0}, {\"year\": 1959, \"total_gross\": 9464608.0, \"inflation_adjusted_gross\": 21505832.0}, {\"year\": 1961, \"total_gross\": 62866574.333333336, \"inflation_adjusted_gross\": 599268906.3333334}, {\"year\": 1962, \"total_gross\": 9230769.0, \"inflation_adjusted_gross\": 109581646.0}, {\"year\": 1963, \"total_gross\": 22182353.0, \"inflation_adjusted_gross\": 153870834.0}, {\"year\": 1967, \"total_gross\": 141843000.0, \"inflation_adjusted_gross\": 789612346.0}, {\"year\": 1968, \"total_gross\": 21540050.0, \"inflation_adjusted_gross\": 138612686.0}, {\"year\": 1970, \"total_gross\": 37141374.5, \"inflation_adjusted_gross\": 178181120.5}, {\"year\": 1971, \"total_gross\": 17871174.0, \"inflation_adjusted_gross\": 91305448.0}, {\"year\": 1975, \"total_gross\": 31916500.0, \"inflation_adjusted_gross\": 131246872.0}, {\"year\": 1977, \"total_gross\": 37358799.5, \"inflation_adjusted_gross\": 128905823.5}, {\"year\": 1981, \"total_gross\": 14633077.0, \"inflation_adjusted_gross\": 44372963.0}, {\"year\": 1982, \"total_gross\": 12872661.333333334, \"inflation_adjusted_gross\": 36910384.333333336}, {\"year\": 1983, \"total_gross\": 9708433.0, \"inflation_adjusted_gross\": 25137383.5}, {\"year\": 1984, \"total_gross\": 35499747.5, \"inflation_adjusted_gross\": 89066330.5}, {\"year\": 1985, \"total_gross\": 12163604.333333334, \"inflation_adjusted_gross\": 28854035.333333332}, {\"year\": 1986, \"total_gross\": 36360465.428571425, \"inflation_adjusted_gross\": 82496058.28571428}, {\"year\": 1987, \"total_gross\": 56020881.3, \"inflation_adjusted_gross\": 118664996.9}, {\"year\": 1988, \"total_gross\": 39927441.5, \"inflation_adjusted_gross\": 82236822.25}, {\"year\": 1989, \"total_gross\": 47767937.27272727, \"inflation_adjusted_gross\": 99804658.27272727}, {\"year\": 1990, \"total_gross\": 40923803.733333334, \"inflation_adjusted_gross\": 81764049.66666667}, {\"year\": 1991, \"total_gross\": 40440646.25, \"inflation_adjusted_gross\": 76324377.0}, {\"year\": 1992, \"total_gross\": 44431881.526315786, \"inflation_adjusted_gross\": 90282584.68421052}, {\"year\": 1993, \"total_gross\": 28777851.708333332, \"inflation_adjusted_gross\": 58539487.208333336}, {\"year\": 1994, \"total_gross\": 37577671.68965517, \"inflation_adjusted_gross\": 73638624.06896552}, {\"year\": 1995, \"total_gross\": 35373884.1875, \"inflation_adjusted_gross\": 68393720.09375}, {\"year\": 1996, \"total_gross\": 42000383.44444445, \"inflation_adjusted_gross\": 79895313.18518518}, {\"year\": 1997, \"total_gross\": 34939872.43478261, \"inflation_adjusted_gross\": 64123827.56521739}, {\"year\": 1998, \"total_gross\": 55876325.77272727, \"inflation_adjusted_gross\": 99501418.5909091}, {\"year\": 1999, \"total_gross\": 60003150.75, \"inflation_adjusted_gross\": 99060129.05}, {\"year\": 2000, \"total_gross\": 57838406.15789474, \"inflation_adjusted_gross\": 90088204.84210527}, {\"year\": 2001, \"total_gross\": 67770768.61538461, \"inflation_adjusted_gross\": 99688769.15384616}, {\"year\": 2002, \"total_gross\": 55203288.61904762, \"inflation_adjusted_gross\": 80028556.0}, {\"year\": 2003, \"total_gross\": 82321810.15789473, \"inflation_adjusted_gross\": 114276043.5263158}, {\"year\": 2004, \"total_gross\": 60942098.89473684, \"inflation_adjusted_gross\": 82643113.68421052}, {\"year\": 2005, \"total_gross\": 57096873.058823526, \"inflation_adjusted_gross\": 74940155.23529412}, {\"year\": 2006, \"total_gross\": 75124051.26315789, \"inflation_adjusted_gross\": 96565513.84210527}, {\"year\": 2007, \"total_gross\": 102627696.71428572, \"inflation_adjusted_gross\": 125534267.07142857}, {\"year\": 2008, \"total_gross\": 74482777.61538461, \"inflation_adjusted_gross\": 87335096.53846154}, {\"year\": 2009, \"total_gross\": 75946422.0625, \"inflation_adjusted_gross\": 84994288.5625}, {\"year\": 2010, \"total_gross\": 108498277.14285715, \"inflation_adjusted_gross\": 115895368.5}, {\"year\": 2011, \"total_gross\": 78800504.85714285, \"inflation_adjusted_gross\": 83755638.71428572}, {\"year\": 2012, \"total_gross\": 145297205.7, \"inflation_adjusted_gross\": 153766913.4}, {\"year\": 2013, \"total_gross\": 165577460.9090909, \"inflation_adjusted_gross\": 171623959.8181818}, {\"year\": 2014, \"total_gross\": 126181622.75, \"inflation_adjusted_gross\": 130065943.16666667}, {\"year\": 2015, \"total_gross\": 226878426.9090909, \"inflation_adjusted_gross\": 226878426.9090909}, {\"year\": 2016, \"total_gross\": 205242364.64285713, \"inflation_adjusted_gross\": 205242364.64285713}]}}, {\"mode\": \"vega-lite\"});\n",
       "</script>"
      ],
      "text/plain": [
       "alt.Chart(...)"
      ]
     },
     "execution_count": 11,
     "metadata": {},
     "output_type": "execute_result"
    }
   ],
   "source": [
    "original_gross_plot = alt.Chart(disney_years, width=500, height=300).mark_bar().encode(\n",
    "    x=alt.X('year:N', title=\"Release Year\", bin=alt.Bin(maxbins=20)), \n",
    "    y=alt.Y('total_gross:Q', title=\"Mean Gross Revenue\") \n",
    ").properties(title=\"Figure 2: Distribution of Original Gross\")\n",
    "original_gross_plot"
   ]
  },
  {
   "cell_type": "code",
   "execution_count": 12,
   "metadata": {},
   "outputs": [
    {
     "data": {
      "text/html": [
       "\n",
       "<div id=\"altair-viz-b2c4bbf024c14dfb9e13e2b35a34057e\"></div>\n",
       "<script type=\"text/javascript\">\n",
       "  (function(spec, embedOpt){\n",
       "    let outputDiv = document.currentScript.previousElementSibling;\n",
       "    if (outputDiv.id !== \"altair-viz-b2c4bbf024c14dfb9e13e2b35a34057e\") {\n",
       "      outputDiv = document.getElementById(\"altair-viz-b2c4bbf024c14dfb9e13e2b35a34057e\");\n",
       "    }\n",
       "    const paths = {\n",
       "      \"vega\": \"https://cdn.jsdelivr.net/npm//vega@5?noext\",\n",
       "      \"vega-lib\": \"https://cdn.jsdelivr.net/npm//vega-lib?noext\",\n",
       "      \"vega-lite\": \"https://cdn.jsdelivr.net/npm//vega-lite@4.8.1?noext\",\n",
       "      \"vega-embed\": \"https://cdn.jsdelivr.net/npm//vega-embed@6?noext\",\n",
       "    };\n",
       "\n",
       "    function loadScript(lib) {\n",
       "      return new Promise(function(resolve, reject) {\n",
       "        var s = document.createElement('script');\n",
       "        s.src = paths[lib];\n",
       "        s.async = true;\n",
       "        s.onload = () => resolve(paths[lib]);\n",
       "        s.onerror = () => reject(`Error loading script: ${paths[lib]}`);\n",
       "        document.getElementsByTagName(\"head\")[0].appendChild(s);\n",
       "      });\n",
       "    }\n",
       "\n",
       "    function showError(err) {\n",
       "      outputDiv.innerHTML = `<div class=\"error\" style=\"color:red;\">${err}</div>`;\n",
       "      throw err;\n",
       "    }\n",
       "\n",
       "    function displayChart(vegaEmbed) {\n",
       "      vegaEmbed(outputDiv, spec, embedOpt)\n",
       "        .catch(err => showError(`Javascript Error: ${err.message}<br>This usually means there's a typo in your chart specification. See the javascript console for the full traceback.`));\n",
       "    }\n",
       "\n",
       "    if(typeof define === \"function\" && define.amd) {\n",
       "      requirejs.config({paths});\n",
       "      require([\"vega-embed\"], displayChart, err => showError(`Error loading script: ${err.message}`));\n",
       "    } else if (typeof vegaEmbed === \"function\") {\n",
       "      displayChart(vegaEmbed);\n",
       "    } else {\n",
       "      loadScript(\"vega\")\n",
       "        .then(() => loadScript(\"vega-lite\"))\n",
       "        .then(() => loadScript(\"vega-embed\"))\n",
       "        .catch(showError)\n",
       "        .then(() => displayChart(vegaEmbed));\n",
       "    }\n",
       "  })({\"config\": {\"view\": {\"continuousWidth\": 400, \"continuousHeight\": 300}}, \"data\": {\"name\": \"data-01113f1d2947c95731f3fa20faa1cd2a\"}, \"mark\": \"bar\", \"encoding\": {\"x\": {\"type\": \"nominal\", \"bin\": {\"maxbins\": 20}, \"field\": \"year\", \"title\": \"Release Year\"}, \"y\": {\"type\": \"quantitative\", \"field\": \"inflation_adjusted_gross\", \"title\": \"Mean Inflation Adjusted Gross Revenue\"}}, \"height\": 300, \"title\": \"Figure 3: Distribution of Inflation Adjusted Gross\", \"width\": 500, \"$schema\": \"https://vega.github.io/schema/vega-lite/v4.8.1.json\", \"datasets\": {\"data-01113f1d2947c95731f3fa20faa1cd2a\": [{\"year\": 1937, \"total_gross\": 184925485.0, \"inflation_adjusted_gross\": 5228953251.0}, {\"year\": 1940, \"total_gross\": 83810000.0, \"inflation_adjusted_gross\": 2187659930.0}, {\"year\": 1946, \"total_gross\": 65000000.0, \"inflation_adjusted_gross\": 1078510579.0}, {\"year\": 1950, \"total_gross\": 85000000.0, \"inflation_adjusted_gross\": 920608730.0}, {\"year\": 1954, \"total_gross\": 28200000.0, \"inflation_adjusted_gross\": 528279994.0}, {\"year\": 1955, \"total_gross\": 93600000.0, \"inflation_adjusted_gross\": 1236035515.0}, {\"year\": 1959, \"total_gross\": 9464608.0, \"inflation_adjusted_gross\": 21505832.0}, {\"year\": 1961, \"total_gross\": 62866574.333333336, \"inflation_adjusted_gross\": 599268906.3333334}, {\"year\": 1962, \"total_gross\": 9230769.0, \"inflation_adjusted_gross\": 109581646.0}, {\"year\": 1963, \"total_gross\": 22182353.0, \"inflation_adjusted_gross\": 153870834.0}, {\"year\": 1967, \"total_gross\": 141843000.0, \"inflation_adjusted_gross\": 789612346.0}, {\"year\": 1968, \"total_gross\": 21540050.0, \"inflation_adjusted_gross\": 138612686.0}, {\"year\": 1970, \"total_gross\": 37141374.5, \"inflation_adjusted_gross\": 178181120.5}, {\"year\": 1971, \"total_gross\": 17871174.0, \"inflation_adjusted_gross\": 91305448.0}, {\"year\": 1975, \"total_gross\": 31916500.0, \"inflation_adjusted_gross\": 131246872.0}, {\"year\": 1977, \"total_gross\": 37358799.5, \"inflation_adjusted_gross\": 128905823.5}, {\"year\": 1981, \"total_gross\": 14633077.0, \"inflation_adjusted_gross\": 44372963.0}, {\"year\": 1982, \"total_gross\": 12872661.333333334, \"inflation_adjusted_gross\": 36910384.333333336}, {\"year\": 1983, \"total_gross\": 9708433.0, \"inflation_adjusted_gross\": 25137383.5}, {\"year\": 1984, \"total_gross\": 35499747.5, \"inflation_adjusted_gross\": 89066330.5}, {\"year\": 1985, \"total_gross\": 12163604.333333334, \"inflation_adjusted_gross\": 28854035.333333332}, {\"year\": 1986, \"total_gross\": 36360465.428571425, \"inflation_adjusted_gross\": 82496058.28571428}, {\"year\": 1987, \"total_gross\": 56020881.3, \"inflation_adjusted_gross\": 118664996.9}, {\"year\": 1988, \"total_gross\": 39927441.5, \"inflation_adjusted_gross\": 82236822.25}, {\"year\": 1989, \"total_gross\": 47767937.27272727, \"inflation_adjusted_gross\": 99804658.27272727}, {\"year\": 1990, \"total_gross\": 40923803.733333334, \"inflation_adjusted_gross\": 81764049.66666667}, {\"year\": 1991, \"total_gross\": 40440646.25, \"inflation_adjusted_gross\": 76324377.0}, {\"year\": 1992, \"total_gross\": 44431881.526315786, \"inflation_adjusted_gross\": 90282584.68421052}, {\"year\": 1993, \"total_gross\": 28777851.708333332, \"inflation_adjusted_gross\": 58539487.208333336}, {\"year\": 1994, \"total_gross\": 37577671.68965517, \"inflation_adjusted_gross\": 73638624.06896552}, {\"year\": 1995, \"total_gross\": 35373884.1875, \"inflation_adjusted_gross\": 68393720.09375}, {\"year\": 1996, \"total_gross\": 42000383.44444445, \"inflation_adjusted_gross\": 79895313.18518518}, {\"year\": 1997, \"total_gross\": 34939872.43478261, \"inflation_adjusted_gross\": 64123827.56521739}, {\"year\": 1998, \"total_gross\": 55876325.77272727, \"inflation_adjusted_gross\": 99501418.5909091}, {\"year\": 1999, \"total_gross\": 60003150.75, \"inflation_adjusted_gross\": 99060129.05}, {\"year\": 2000, \"total_gross\": 57838406.15789474, \"inflation_adjusted_gross\": 90088204.84210527}, {\"year\": 2001, \"total_gross\": 67770768.61538461, \"inflation_adjusted_gross\": 99688769.15384616}, {\"year\": 2002, \"total_gross\": 55203288.61904762, \"inflation_adjusted_gross\": 80028556.0}, {\"year\": 2003, \"total_gross\": 82321810.15789473, \"inflation_adjusted_gross\": 114276043.5263158}, {\"year\": 2004, \"total_gross\": 60942098.89473684, \"inflation_adjusted_gross\": 82643113.68421052}, {\"year\": 2005, \"total_gross\": 57096873.058823526, \"inflation_adjusted_gross\": 74940155.23529412}, {\"year\": 2006, \"total_gross\": 75124051.26315789, \"inflation_adjusted_gross\": 96565513.84210527}, {\"year\": 2007, \"total_gross\": 102627696.71428572, \"inflation_adjusted_gross\": 125534267.07142857}, {\"year\": 2008, \"total_gross\": 74482777.61538461, \"inflation_adjusted_gross\": 87335096.53846154}, {\"year\": 2009, \"total_gross\": 75946422.0625, \"inflation_adjusted_gross\": 84994288.5625}, {\"year\": 2010, \"total_gross\": 108498277.14285715, \"inflation_adjusted_gross\": 115895368.5}, {\"year\": 2011, \"total_gross\": 78800504.85714285, \"inflation_adjusted_gross\": 83755638.71428572}, {\"year\": 2012, \"total_gross\": 145297205.7, \"inflation_adjusted_gross\": 153766913.4}, {\"year\": 2013, \"total_gross\": 165577460.9090909, \"inflation_adjusted_gross\": 171623959.8181818}, {\"year\": 2014, \"total_gross\": 126181622.75, \"inflation_adjusted_gross\": 130065943.16666667}, {\"year\": 2015, \"total_gross\": 226878426.9090909, \"inflation_adjusted_gross\": 226878426.9090909}, {\"year\": 2016, \"total_gross\": 205242364.64285713, \"inflation_adjusted_gross\": 205242364.64285713}]}}, {\"mode\": \"vega-lite\"});\n",
       "</script>"
      ],
      "text/plain": [
       "alt.Chart(...)"
      ]
     },
     "execution_count": 12,
     "metadata": {},
     "output_type": "execute_result"
    }
   ],
   "source": [
    "inflation_gross_plot = alt.Chart(disney_years, width=500, height=300).mark_bar().encode(\n",
    "    x=alt.X('year:N', title=\"Release Year\", bin=alt.Bin(maxbins=20)), \n",
    "    y=alt.Y('inflation_adjusted_gross:Q', title=\"Mean Inflation Adjusted Gross Revenue\") \n",
    ").properties(title=\"Figure 3: Distribution of Inflation Adjusted Gross\")\n",
    "inflation_gross_plot "
   ]
  },
  {
   "cell_type": "markdown",
   "metadata": {},
   "source": [
    "We can see in Figures 2 & 3 that there are obvious differences between the original gross revenues and the inflation adjusted gross revnues. For example, the mean inflation adjusted gross revenue for years 1935-1940 is actually much higher than the mean original gross revenue. Therefore, we will use the inflation adjusted gross revenue to ensure that the gross revenue is fairly balanced between all of the years. "
   ]
  },
  {
   "cell_type": "markdown",
   "metadata": {},
   "source": [
    "Now, we can group by genre to determine which genre has the highest mean inflation adjusted gross revenue."
   ]
  },
  {
   "cell_type": "code",
   "execution_count": 13,
   "metadata": {},
   "outputs": [
    {
     "data": {
      "text/html": [
       "<div>\n",
       "<style scoped>\n",
       "    .dataframe tbody tr th:only-of-type {\n",
       "        vertical-align: middle;\n",
       "    }\n",
       "\n",
       "    .dataframe tbody tr th {\n",
       "        vertical-align: top;\n",
       "    }\n",
       "\n",
       "    .dataframe thead th {\n",
       "        text-align: right;\n",
       "    }\n",
       "</style>\n",
       "<table border=\"1\" class=\"dataframe\">\n",
       "  <thead>\n",
       "    <tr style=\"text-align: right;\">\n",
       "      <th></th>\n",
       "      <th>genre</th>\n",
       "      <th>inflation_adjusted_gross</th>\n",
       "      <th>total_gross</th>\n",
       "    </tr>\n",
       "  </thead>\n",
       "  <tbody>\n",
       "    <tr>\n",
       "      <th>8</th>\n",
       "      <td>Musical</td>\n",
       "      <td>6.035979e+08</td>\n",
       "      <td>7.233026e+07</td>\n",
       "    </tr>\n",
       "    <tr>\n",
       "      <th>1</th>\n",
       "      <td>Adventure</td>\n",
       "      <td>1.903974e+08</td>\n",
       "      <td>1.270471e+08</td>\n",
       "    </tr>\n",
       "    <tr>\n",
       "      <th>0</th>\n",
       "      <td>Action</td>\n",
       "      <td>1.374734e+08</td>\n",
       "      <td>1.046141e+08</td>\n",
       "    </tr>\n",
       "    <tr>\n",
       "      <th>10</th>\n",
       "      <td>Thriller/Suspense</td>\n",
       "      <td>8.965379e+07</td>\n",
       "      <td>5.861694e+07</td>\n",
       "    </tr>\n",
       "    <tr>\n",
       "      <th>3</th>\n",
       "      <td>Comedy</td>\n",
       "      <td>8.466773e+07</td>\n",
       "      <td>4.461329e+07</td>\n",
       "    </tr>\n",
       "    <tr>\n",
       "      <th>9</th>\n",
       "      <td>Romantic Comedy</td>\n",
       "      <td>7.777708e+07</td>\n",
       "      <td>5.009595e+07</td>\n",
       "    </tr>\n",
       "    <tr>\n",
       "      <th>11</th>\n",
       "      <td>Western</td>\n",
       "      <td>7.381571e+07</td>\n",
       "      <td>5.128735e+07</td>\n",
       "    </tr>\n",
       "    <tr>\n",
       "      <th>6</th>\n",
       "      <td>Drama</td>\n",
       "      <td>7.189302e+07</td>\n",
       "      <td>3.602608e+07</td>\n",
       "    </tr>\n",
       "    <tr>\n",
       "      <th>4</th>\n",
       "      <td>Concert/Performance</td>\n",
       "      <td>5.741084e+07</td>\n",
       "      <td>5.172823e+07</td>\n",
       "    </tr>\n",
       "    <tr>\n",
       "      <th>2</th>\n",
       "      <td>Black Comedy</td>\n",
       "      <td>5.224349e+07</td>\n",
       "      <td>3.251440e+07</td>\n",
       "    </tr>\n",
       "    <tr>\n",
       "      <th>7</th>\n",
       "      <td>Horror</td>\n",
       "      <td>2.341385e+07</td>\n",
       "      <td>1.451148e+07</td>\n",
       "    </tr>\n",
       "    <tr>\n",
       "      <th>5</th>\n",
       "      <td>Documentary</td>\n",
       "      <td>1.271803e+07</td>\n",
       "      <td>1.129285e+07</td>\n",
       "    </tr>\n",
       "  </tbody>\n",
       "</table>\n",
       "</div>"
      ],
      "text/plain": [
       "                  genre  inflation_adjusted_gross   total_gross\n",
       "8               Musical              6.035979e+08  7.233026e+07\n",
       "1             Adventure              1.903974e+08  1.270471e+08\n",
       "0                Action              1.374734e+08  1.046141e+08\n",
       "10    Thriller/Suspense              8.965379e+07  5.861694e+07\n",
       "3                Comedy              8.466773e+07  4.461329e+07\n",
       "9       Romantic Comedy              7.777708e+07  5.009595e+07\n",
       "11              Western              7.381571e+07  5.128735e+07\n",
       "6                 Drama              7.189302e+07  3.602608e+07\n",
       "4   Concert/Performance              5.741084e+07  5.172823e+07\n",
       "2          Black Comedy              5.224349e+07  3.251440e+07\n",
       "7                Horror              2.341385e+07  1.451148e+07\n",
       "5           Documentary              1.271803e+07  1.129285e+07"
      ]
     },
     "execution_count": 13,
     "metadata": {},
     "output_type": "execute_result"
    }
   ],
   "source": [
    "genre_groups = disney_data.groupby(by='genre')\n",
    "disney_genre = genre_groups.mean().reset_index().sort_values(\n",
    "    by=\"inflation_adjusted_gross\", ascending = False).loc[\n",
    "    :, ['genre','inflation_adjusted_gross','total_gross']]\n",
    "disney_genre"
   ]
  },
  {
   "cell_type": "markdown",
   "metadata": {},
   "source": [
    "**Table 4: Mean Gross Revenue by Movie Genre**"
   ]
  },
  {
   "cell_type": "markdown",
   "metadata": {},
   "source": [
    "Table 4 shows us that Musical genre has the highest inflation adjusted gross revenue, while Adventure and Action are the runners up. It also worth noticing that Action and Adventure have the highest orignal gross revenue. \n",
    "\n",
    "We can demonstrate our findings with another bar plot."
   ]
  },
  {
   "cell_type": "code",
   "execution_count": 14,
   "metadata": {},
   "outputs": [
    {
     "data": {
      "text/html": [
       "\n",
       "<div id=\"altair-viz-3d9417fc24ba4aa886718f24a94a64ee\"></div>\n",
       "<script type=\"text/javascript\">\n",
       "  (function(spec, embedOpt){\n",
       "    let outputDiv = document.currentScript.previousElementSibling;\n",
       "    if (outputDiv.id !== \"altair-viz-3d9417fc24ba4aa886718f24a94a64ee\") {\n",
       "      outputDiv = document.getElementById(\"altair-viz-3d9417fc24ba4aa886718f24a94a64ee\");\n",
       "    }\n",
       "    const paths = {\n",
       "      \"vega\": \"https://cdn.jsdelivr.net/npm//vega@5?noext\",\n",
       "      \"vega-lib\": \"https://cdn.jsdelivr.net/npm//vega-lib?noext\",\n",
       "      \"vega-lite\": \"https://cdn.jsdelivr.net/npm//vega-lite@4.8.1?noext\",\n",
       "      \"vega-embed\": \"https://cdn.jsdelivr.net/npm//vega-embed@6?noext\",\n",
       "    };\n",
       "\n",
       "    function loadScript(lib) {\n",
       "      return new Promise(function(resolve, reject) {\n",
       "        var s = document.createElement('script');\n",
       "        s.src = paths[lib];\n",
       "        s.async = true;\n",
       "        s.onload = () => resolve(paths[lib]);\n",
       "        s.onerror = () => reject(`Error loading script: ${paths[lib]}`);\n",
       "        document.getElementsByTagName(\"head\")[0].appendChild(s);\n",
       "      });\n",
       "    }\n",
       "\n",
       "    function showError(err) {\n",
       "      outputDiv.innerHTML = `<div class=\"error\" style=\"color:red;\">${err}</div>`;\n",
       "      throw err;\n",
       "    }\n",
       "\n",
       "    function displayChart(vegaEmbed) {\n",
       "      vegaEmbed(outputDiv, spec, embedOpt)\n",
       "        .catch(err => showError(`Javascript Error: ${err.message}<br>This usually means there's a typo in your chart specification. See the javascript console for the full traceback.`));\n",
       "    }\n",
       "\n",
       "    if(typeof define === \"function\" && define.amd) {\n",
       "      requirejs.config({paths});\n",
       "      require([\"vega-embed\"], displayChart, err => showError(`Error loading script: ${err.message}`));\n",
       "    } else if (typeof vegaEmbed === \"function\") {\n",
       "      displayChart(vegaEmbed);\n",
       "    } else {\n",
       "      loadScript(\"vega\")\n",
       "        .then(() => loadScript(\"vega-lite\"))\n",
       "        .then(() => loadScript(\"vega-embed\"))\n",
       "        .catch(showError)\n",
       "        .then(() => displayChart(vegaEmbed));\n",
       "    }\n",
       "  })({\"config\": {\"view\": {\"continuousWidth\": 400, \"continuousHeight\": 300}}, \"data\": {\"name\": \"data-9db3ff57d2b952dfe8e9f6ea99fbeb8a\"}, \"mark\": \"bar\", \"encoding\": {\"x\": {\"type\": \"nominal\", \"field\": \"genre\", \"sort\": \"y\", \"title\": \"Genre\"}, \"y\": {\"type\": \"quantitative\", \"field\": \"inflation_adjusted_gross\", \"title\": \"Mean Inflation Adjusted Gross Revenue\"}}, \"height\": 300, \"title\": \"Figure 4: Gross Revenue by Genre\", \"width\": 500, \"$schema\": \"https://vega.github.io/schema/vega-lite/v4.8.1.json\", \"datasets\": {\"data-9db3ff57d2b952dfe8e9f6ea99fbeb8a\": [{\"genre\": \"Musical\", \"inflation_adjusted_gross\": 603597861.0, \"total_gross\": 72330259.6875}, {\"genre\": \"Adventure\", \"inflation_adjusted_gross\": 190397412.0775194, \"total_gross\": 127047050.02325581}, {\"genre\": \"Action\", \"inflation_adjusted_gross\": 137473419.65, \"total_gross\": 104614082.05}, {\"genre\": \"Thriller/Suspense\", \"inflation_adjusted_gross\": 89653789.75, \"total_gross\": 58616938.291666664}, {\"genre\": \"Comedy\", \"inflation_adjusted_gross\": 84667730.29120879, \"total_gross\": 44613294.93406593}, {\"genre\": \"Romantic Comedy\", \"inflation_adjusted_gross\": 77777084.04347827, \"total_gross\": 50095950.217391305}, {\"genre\": \"Western\", \"inflation_adjusted_gross\": 73815706.57142857, \"total_gross\": 51287351.28571428}, {\"genre\": \"Drama\", \"inflation_adjusted_gross\": 71893021.78947368, \"total_gross\": 36026078.684210524}, {\"genre\": \"Concert/Performance\", \"inflation_adjusted_gross\": 57410839.0, \"total_gross\": 51728233.0}, {\"genre\": \"Black Comedy\", \"inflation_adjusted_gross\": 52243491.666666664, \"total_gross\": 32514404.0}, {\"genre\": \"Horror\", \"inflation_adjusted_gross\": 23413848.666666668, \"total_gross\": 14511478.666666666}, {\"genre\": \"Documentary\", \"inflation_adjusted_gross\": 12718026.125, \"total_gross\": 11292851.1875}]}}, {\"mode\": \"vega-lite\"});\n",
       "</script>"
      ],
      "text/plain": [
       "alt.Chart(...)"
      ]
     },
     "execution_count": 14,
     "metadata": {},
     "output_type": "execute_result"
    }
   ],
   "source": [
    "genre_gross_plot = alt.Chart(disney_genre, width=500, height=300).mark_bar().encode(\n",
    "    x=alt.X('genre:N', title=\"Genre\", sort=\"y\"), \n",
    "    y=alt.Y('inflation_adjusted_gross:Q', title=\"Mean Inflation Adjusted Gross Revenue\") \n",
    ").properties(title=\"Figure 4: Gross Revenue by Genre\")\n",
    "genre_gross_plot "
   ]
  },
  {
   "cell_type": "markdown",
   "metadata": {},
   "source": [
    "Figure 4 demonstrates that Musicals have 3 times higher gross revenue than the second highest genre, Adventure."
   ]
  },
  {
   "cell_type": "markdown",
   "metadata": {},
   "source": [
    "Finally, we can display the Disney movies with Musical genres to get an idea of which movies contributed to the high gross revnue."
   ]
  },
  {
   "cell_type": "code",
   "execution_count": 15,
   "metadata": {},
   "outputs": [
    {
     "data": {
      "text/html": [
       "<div>\n",
       "<style scoped>\n",
       "    .dataframe tbody tr th:only-of-type {\n",
       "        vertical-align: middle;\n",
       "    }\n",
       "\n",
       "    .dataframe tbody tr th {\n",
       "        vertical-align: top;\n",
       "    }\n",
       "\n",
       "    .dataframe thead th {\n",
       "        text-align: right;\n",
       "    }\n",
       "</style>\n",
       "<table border=\"1\" class=\"dataframe\">\n",
       "  <thead>\n",
       "    <tr style=\"text-align: right;\">\n",
       "      <th></th>\n",
       "      <th>movie_title</th>\n",
       "      <th>release_date</th>\n",
       "      <th>genre</th>\n",
       "      <th>MPAA_rating</th>\n",
       "      <th>total_gross</th>\n",
       "      <th>inflation_adjusted_gross</th>\n",
       "      <th>year</th>\n",
       "    </tr>\n",
       "  </thead>\n",
       "  <tbody>\n",
       "    <tr>\n",
       "      <th>0</th>\n",
       "      <td>Snow White and the Seven Dwarfs</td>\n",
       "      <td>1937-12-21</td>\n",
       "      <td>Musical</td>\n",
       "      <td>G</td>\n",
       "      <td>184925485</td>\n",
       "      <td>5228953251</td>\n",
       "      <td>1937</td>\n",
       "    </tr>\n",
       "    <tr>\n",
       "      <th>2</th>\n",
       "      <td>Fantasia</td>\n",
       "      <td>1940-11-13</td>\n",
       "      <td>Musical</td>\n",
       "      <td>G</td>\n",
       "      <td>83320000</td>\n",
       "      <td>2187090808</td>\n",
       "      <td>1940</td>\n",
       "    </tr>\n",
       "    <tr>\n",
       "      <th>13</th>\n",
       "      <td>The Jungle Book</td>\n",
       "      <td>1967-10-18</td>\n",
       "      <td>Musical</td>\n",
       "      <td>Not Rated</td>\n",
       "      <td>141843000</td>\n",
       "      <td>789612346</td>\n",
       "      <td>1967</td>\n",
       "    </tr>\n",
       "    <tr>\n",
       "      <th>114</th>\n",
       "      <td>Beauty and the Beast</td>\n",
       "      <td>1991-11-13</td>\n",
       "      <td>Musical</td>\n",
       "      <td>G</td>\n",
       "      <td>218951625</td>\n",
       "      <td>363017667</td>\n",
       "      <td>1991</td>\n",
       "    </tr>\n",
       "    <tr>\n",
       "      <th>15</th>\n",
       "      <td>The Aristocats</td>\n",
       "      <td>1970-04-24</td>\n",
       "      <td>Musical</td>\n",
       "      <td>G</td>\n",
       "      <td>55675257</td>\n",
       "      <td>255161499</td>\n",
       "      <td>1970</td>\n",
       "    </tr>\n",
       "    <tr>\n",
       "      <th>553</th>\n",
       "      <td>Into the Woods</td>\n",
       "      <td>2014-12-25</td>\n",
       "      <td>Musical</td>\n",
       "      <td>PG</td>\n",
       "      <td>128002372</td>\n",
       "      <td>130894237</td>\n",
       "      <td>2014</td>\n",
       "    </tr>\n",
       "    <tr>\n",
       "      <th>10</th>\n",
       "      <td>Babes in Toyland</td>\n",
       "      <td>1961-12-14</td>\n",
       "      <td>Musical</td>\n",
       "      <td>G</td>\n",
       "      <td>10218316</td>\n",
       "      <td>124841160</td>\n",
       "      <td>1961</td>\n",
       "    </tr>\n",
       "    <tr>\n",
       "      <th>474</th>\n",
       "      <td>High School Musical 3: Senior Year</td>\n",
       "      <td>2008-10-24</td>\n",
       "      <td>Musical</td>\n",
       "      <td>G</td>\n",
       "      <td>90559416</td>\n",
       "      <td>106308538</td>\n",
       "      <td>2008</td>\n",
       "    </tr>\n",
       "    <tr>\n",
       "      <th>161</th>\n",
       "      <td>The Nightmare Before Christmas</td>\n",
       "      <td>1993-10-13</td>\n",
       "      <td>Musical</td>\n",
       "      <td>PG</td>\n",
       "      <td>50408318</td>\n",
       "      <td>100026637</td>\n",
       "      <td>1993</td>\n",
       "    </tr>\n",
       "    <tr>\n",
       "      <th>321</th>\n",
       "      <td>Fantasia 2000 (IMAX)</td>\n",
       "      <td>2000-01-01</td>\n",
       "      <td>Musical</td>\n",
       "      <td>G</td>\n",
       "      <td>60507228</td>\n",
       "      <td>94852354</td>\n",
       "      <td>2000</td>\n",
       "    </tr>\n",
       "    <tr>\n",
       "      <th>254</th>\n",
       "      <td>Evita</td>\n",
       "      <td>1996-12-25</td>\n",
       "      <td>Musical</td>\n",
       "      <td>PG</td>\n",
       "      <td>50047179</td>\n",
       "      <td>92077628</td>\n",
       "      <td>1996</td>\n",
       "    </tr>\n",
       "    <tr>\n",
       "      <th>17</th>\n",
       "      <td>Bedknobs and Broomsticks</td>\n",
       "      <td>1971-10-07</td>\n",
       "      <td>Musical</td>\n",
       "      <td>NaN</td>\n",
       "      <td>17871174</td>\n",
       "      <td>91305448</td>\n",
       "      <td>1971</td>\n",
       "    </tr>\n",
       "    <tr>\n",
       "      <th>354</th>\n",
       "      <td>Beauty and the Beast (IMAX)</td>\n",
       "      <td>2002-01-01</td>\n",
       "      <td>Musical</td>\n",
       "      <td>G</td>\n",
       "      <td>25487028</td>\n",
       "      <td>36980311</td>\n",
       "      <td>2002</td>\n",
       "    </tr>\n",
       "    <tr>\n",
       "      <th>446</th>\n",
       "      <td>Tim Burton's The Nightmare Before Chr…</td>\n",
       "      <td>2006-10-20</td>\n",
       "      <td>Musical</td>\n",
       "      <td>PG</td>\n",
       "      <td>24732041</td>\n",
       "      <td>30737517</td>\n",
       "      <td>2006</td>\n",
       "    </tr>\n",
       "    <tr>\n",
       "      <th>330</th>\n",
       "      <td>Fantasia 2000 (Theatrical Release)</td>\n",
       "      <td>2000-06-16</td>\n",
       "      <td>Musical</td>\n",
       "      <td>G</td>\n",
       "      <td>9103630</td>\n",
       "      <td>14238144</td>\n",
       "      <td>2000</td>\n",
       "    </tr>\n",
       "    <tr>\n",
       "      <th>142</th>\n",
       "      <td>Swing Kids</td>\n",
       "      <td>1993-03-05</td>\n",
       "      <td>Musical</td>\n",
       "      <td>PG-13</td>\n",
       "      <td>5632086</td>\n",
       "      <td>11468231</td>\n",
       "      <td>1993</td>\n",
       "    </tr>\n",
       "  </tbody>\n",
       "</table>\n",
       "</div>"
      ],
      "text/plain": [
       "                                movie_title release_date    genre MPAA_rating  \\\n",
       "0           Snow White and the Seven Dwarfs   1937-12-21  Musical           G   \n",
       "2                                  Fantasia   1940-11-13  Musical           G   \n",
       "13                          The Jungle Book   1967-10-18  Musical   Not Rated   \n",
       "114                    Beauty and the Beast   1991-11-13  Musical           G   \n",
       "15                           The Aristocats   1970-04-24  Musical           G   \n",
       "553                          Into the Woods   2014-12-25  Musical          PG   \n",
       "10                         Babes in Toyland   1961-12-14  Musical           G   \n",
       "474      High School Musical 3: Senior Year   2008-10-24  Musical           G   \n",
       "161          The Nightmare Before Christmas   1993-10-13  Musical          PG   \n",
       "321                    Fantasia 2000 (IMAX)   2000-01-01  Musical           G   \n",
       "254                                   Evita   1996-12-25  Musical          PG   \n",
       "17                 Bedknobs and Broomsticks   1971-10-07  Musical         NaN   \n",
       "354             Beauty and the Beast (IMAX)   2002-01-01  Musical           G   \n",
       "446  Tim Burton's The Nightmare Before Chr…   2006-10-20  Musical          PG   \n",
       "330      Fantasia 2000 (Theatrical Release)   2000-06-16  Musical           G   \n",
       "142                              Swing Kids   1993-03-05  Musical       PG-13   \n",
       "\n",
       "     total_gross  inflation_adjusted_gross  year  \n",
       "0      184925485                5228953251  1937  \n",
       "2       83320000                2187090808  1940  \n",
       "13     141843000                 789612346  1967  \n",
       "114    218951625                 363017667  1991  \n",
       "15      55675257                 255161499  1970  \n",
       "553    128002372                 130894237  2014  \n",
       "10      10218316                 124841160  1961  \n",
       "474     90559416                 106308538  2008  \n",
       "161     50408318                 100026637  1993  \n",
       "321     60507228                  94852354  2000  \n",
       "254     50047179                  92077628  1996  \n",
       "17      17871174                  91305448  1971  \n",
       "354     25487028                  36980311  2002  \n",
       "446     24732041                  30737517  2006  \n",
       "330      9103630                  14238144  2000  \n",
       "142      5632086                  11468231  1993  "
      ]
     },
     "execution_count": 15,
     "metadata": {},
     "output_type": "execute_result"
    }
   ],
   "source": [
    "disney_data[disney_data['genre'] == 'Musical'].sort_values(\n",
    "    by=\"inflation_adjusted_gross\", ascending=False)"
   ]
  },
  {
   "cell_type": "markdown",
   "metadata": {},
   "source": [
    "**Table 5: Disney Musicals**"
   ]
  },
  {
   "cell_type": "markdown",
   "metadata": {},
   "source": [
    "Table 5 shows that *Snow White and the Seven Dwarfs* had the highest inflation adjusted gross revenue out of all of the Disney Musicals."
   ]
  },
  {
   "cell_type": "markdown",
   "metadata": {},
   "source": [
    "## Discussion"
   ]
  },
  {
   "cell_type": "markdown",
   "metadata": {},
   "source": [
    "This analysis demonstrates that Musical genre has the highest inflation adjusted gross revenue out of the other movie genres. Therefore, we can conclude that Musicals are the most successful Disney movie genre, followed by Adventure and Action.\n",
    "\n",
    "We originally predicted that Comedy, Adventure or Drama would have the highest gross revenue since they were the most common Disney movie genres. Musicals were one of the less common genres so we were not expecting it to have such a high gross revenue. However, Table 5 lists the musicals with the highest inflation adjusted gross revnue including *Snow White and the Seven Dwarfs*, *Fantasia*, *The Jungle Book* and *Beauty and the Beast*. These are very well known stories and fairytales, so it makes sense that these movies had significantly high revenues. \n",
    "\n",
    "These findings can help Disney choose the genre of their next movie. Since we determined that musicals produced the highest gross revenue, releasing another musical could potentially result in a high revenue amount similar to some of the other past musicals. Furthermore, Adventure and Action had the second and third highest inflation adjusted revenues, so these genres are also excellent options. \n",
    "\n",
    "This analysis also opens the door to other questions such as which directors and actors contributed to movies with the highest revenue? Additionally, is there a difference in revenue between animated movies and live action movies? These questions can help Disney decide exactly who to cast and what kind of movie they should produce next in order to ensure they obtain a high gross revenue."
   ]
  },
  {
   "cell_type": "markdown",
   "metadata": {},
   "source": [
    "## References"
   ]
  },
  {
   "cell_type": "markdown",
   "metadata": {},
   "source": [
    "The data used in this analysis project was obtained from:\n",
    "\n",
    "https://data.world/kgarrett/disney-character-success-00-16"
   ]
  }
 ],
 "metadata": {
  "kernelspec": {
   "display_name": "Python 3",
   "language": "python",
   "name": "python3"
  },
  "language_info": {
   "codemirror_mode": {
    "name": "ipython",
    "version": 3
   },
   "file_extension": ".py",
   "mimetype": "text/x-python",
   "name": "python",
   "nbconvert_exporter": "python",
   "pygments_lexer": "ipython3",
   "version": "3.8.5"
  }
 },
 "nbformat": 4,
 "nbformat_minor": 4
}
