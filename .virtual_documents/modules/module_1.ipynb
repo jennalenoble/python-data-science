import pandas as pd


cars = pd.read_csv('https://raw.githubusercontent.com/plotly/datasets/master/mtcars.csv')


cars


cars.columns


cars.shape


cars.head(2)


cars.head()


cars.loc[5:10]


cars.loc[5:10, 'mpg':'disp']


cars.loc[:6]


cars.loc[:6, 'hp':]


cars.loc[:, 'manufacturer':'wt']


cars.loc[[2,4,6], ['manufacturer','mpg']]


cars.loc[[10]]


cars.loc[10, 'mpg']


cars.loc[:, ['manufacturer']]


cars[['manufacturer']]


cars.head(10)


cars.loc[2:5]


cars.iloc[2:5]


cars.iloc[2:6]


cars.iloc[:, 0:6]


cars.iloc[2:6, 0:6]


cars.head(3)


cars.iloc[0:3]


cars.iloc[:3]


cars.iloc[29:32]


cars.iloc[-3:]


cars.iloc[[4,7,6], [0,3,5,2]]


cars.sort_values(by='mpg')


cars.sort_values(by='mpg', ascending=False)


cars.describe()


cars.describe(include='all')


mpg = cars[['mpg']]
mpg.mean()


mpg.sum()


mpg.median()


cars.mean()


cyl_column = cars['cyl']
cyl_frequency = cyl_column.value_counts()
cyl_frequency


cyl_frequency.to_csv('cyl_frequencies.csv', index=False)
cyl_frequency


import altair as alt


chart0 = alt.Chart(cars, width=500, height=300).mark_bar().encode(
    x='cyl',
    y='count()'
)
chart0


chart1 = alt.Chart(cars, width=500, height=300).mark_circle(color='red', size=60, opacity=0.3).encode(
    x='mpg',
    y='hp'
).properties(title="Scatter plot mpg vs hp")
chart1



