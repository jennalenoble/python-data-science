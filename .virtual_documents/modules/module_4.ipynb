import pandas as pd


age = 6
type(age)


age = 6.0
type(age)


type(False)


string = "hello"
type(string)


len(string)


string.upper()


string.count('h')


float(5)


int(3.1)


str(5)


int(4.99)


bool(0)


bool(5.0)


int(False)


float(True)


sentence = "Hi my name is Jenna."
words = sentence.split()
words


sentence.split("e")


type(words)


my_list = [1.2, 3, None, True, 'Hello']
my_list


list_of_lists = [[1,2], ['buckle', 'my', 'shoe'], 3, 4]


len(list_of_lists)


my_list[1]


my_list[1:3]


my_list[2] = "Ta Da!"


my_list


list_of_lists[1][2] = "Sandal"
list_of_lists


sentence


sentence[3:10]


primes = [2,3,5,7,11]


primes.append(13)
primes


max(primes)


sum(primes)


item1 = ['toothpaste', 'London Drugs', 3.99]
item2 = ['apples', 'Produce Store', 4.00]
item3 = ['bread', 'Bakery', 3.50]
column_names = ['item', 'location', 'price']

shopping_items = pd.DataFrame(data=[item1, item2, item3], columns = column_names)
shopping_items


type(shopping_items)


my_tuple = ('I', 'lose', None, 'socks', 'when', 1, 'do', 'laundry', False)


my_list = list(my_tuple)
type(my_list)


my_set = {2, 1.0, 'Buckle my shoe'}
my_set


my_set.add(3)
my_set.add(4)
my_set


my_list


house = {'bedrooms': 3}


house


condo = {'bedrooms' : 2,
         'bathrooms': 1,
         'kitchens': 1}


condo['bedrooms']


condo['kitchens'] = 0


condo


condo['backyard'] = True


condo


condo[9999] = ['age','old']
condo[('trees', 'flower', 'veggies')] = {'Garden':3}
condo


condo.items()


data = { 'name': ['Cherry', 'Oak', 'Willow', 'Fir'],
        'height': [7, 20, 12, 16],
        'diameter': [12, 89, 30, 18],
        'flowering': [True, False, True, False]}

forest = pd.DataFrame.from_dict(data)
forest


data = {0: ['Cherry', 7, 12, True],
        1: ['Oak', 20, 89, False],
        2: ['Willow', 12, 30, True],
        3: ['Fir', 16, 18, False]}
column_names = ['name', 'height', 'diameter', 'flowering']

forest = pd.DataFrame.from_dict(data, orient='index', columns = column_names)
forest



