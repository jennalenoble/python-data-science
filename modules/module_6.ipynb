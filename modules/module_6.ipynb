{
 "cells": [
  {
   "cell_type": "markdown",
   "id": "2cf1f908-5e47-41d8-a167-9a33e5193385",
   "metadata": {},
   "source": [
    "# Module 6: Functions Fundamentals & Best Practices"
   ]
  },
  {
   "cell_type": "code",
   "execution_count": 2,
   "id": "49f3165d-66c8-4bd4-9132-b494e822d83a",
   "metadata": {},
   "outputs": [],
   "source": [
    "import pandas as pd"
   ]
  },
  {
   "cell_type": "code",
   "execution_count": 3,
   "id": "f4e80d99-5c57-41a0-abe6-2d4673d30e1d",
   "metadata": {},
   "outputs": [],
   "source": [
    "def squares_a_list(numerical_list):\n",
    "    new_squared_list = list()\n",
    "    \n",
    "    for number in numerical_list:\n",
    "        new_squared_list.append(number ** 2)\n",
    "        \n",
    "    return new_squared_list"
   ]
  },
  {
   "cell_type": "markdown",
   "id": "929979b6-ea19-49a8-b541-7a70adda799c",
   "metadata": {},
   "source": [
    "### Global vs Local Variables\n",
    "\n",
    "Local: variables assigned within a function\n",
    "\n",
    "Global: variables outside of a function\n",
    "\n",
    "Making a global variable equal to something inside a function will not change the global variable. However, appending to a global list will change it."
   ]
  },
  {
   "cell_type": "markdown",
   "id": "d24a1ba5-8353-4851-9949-1d077a3673ed",
   "metadata": {},
   "source": [
    "### Side Effects\n",
    "\n",
    "A side effect is when a function produces changes to global variables outside the environment it was created, this means a function has an observable effect besides the returning value."
   ]
  },
  {
   "cell_type": "markdown",
   "id": "3c91c998-332d-4176-aeba-7e8cf59885bc",
   "metadata": {},
   "source": [
    "Example of a function that produces a sided effect:"
   ]
  },
  {
   "cell_type": "code",
   "execution_count": 4,
   "id": "1936146f-3354-4cac-89ae-ee355c146ccc",
   "metadata": {},
   "outputs": [
    {
     "name": "stdout",
     "output_type": "stream",
     "text": [
      "truck\n"
     ]
    }
   ],
   "source": [
    "toy = \"ball\"\n",
    "\n",
    "def playtime():\n",
    "    toy = \"truck\"\n",
    "    print(toy) \n",
    "\n",
    "playtime()"
   ]
  },
  {
   "cell_type": "markdown",
   "id": "8f93ea90-76c5-46a4-9c80-b1501245a391",
   "metadata": {},
   "source": [
    "### Function Arguments"
   ]
  },
  {
   "cell_type": "code",
   "execution_count": 12,
   "id": "db12a4ff-2b7e-401a-9f23-c267a5b66609",
   "metadata": {},
   "outputs": [],
   "source": [
    "def exponent_a_list(numerical_list, exponent=2):\n",
    "    new_exponent_list = list()\n",
    "    \n",
    "    for number in numerical_list:\n",
    "        new_exponent_list.append(number ** exponent)\n",
    "        \n",
    "    return new_exponent_list"
   ]
  },
  {
   "cell_type": "code",
   "execution_count": 13,
   "id": "56bae9d3-b804-471a-bc09-258dc125880a",
   "metadata": {},
   "outputs": [],
   "source": [
    "numbers = [2,3,5]"
   ]
  },
  {
   "cell_type": "code",
   "execution_count": 14,
   "id": "e65e8175-0c5a-47dc-9320-da3abf5b1b68",
   "metadata": {},
   "outputs": [
    {
     "data": {
      "text/plain": [
       "[4, 9, 25]"
      ]
     },
     "execution_count": 14,
     "metadata": {},
     "output_type": "execute_result"
    }
   ],
   "source": [
    "exponent_a_list(numbers)"
   ]
  },
  {
   "cell_type": "code",
   "execution_count": 15,
   "id": "c21d58a2-1d9f-4329-914d-f067a39fc9fc",
   "metadata": {},
   "outputs": [
    {
     "data": {
      "text/plain": [
       "[32, 243, 3125]"
      ]
     },
     "execution_count": 15,
     "metadata": {},
     "output_type": "execute_result"
    }
   ],
   "source": [
    "exponent_a_list(numbers, 5)"
   ]
  },
  {
   "cell_type": "markdown",
   "id": "64bf99e6-acaf-40bc-a0a2-dc27510ee5d2",
   "metadata": {},
   "source": [
    "### Docstrings"
   ]
  },
  {
   "cell_type": "code",
   "execution_count": 16,
   "id": "b5ee16cb-2787-4eb1-946f-e5232b1562d5",
   "metadata": {},
   "outputs": [],
   "source": [
    "def squares_a_list(numerical_list):\n",
    "    \"\"\"\n",
    "    Squared every element in a list.\n",
    "    \n",
    "    Parameters\n",
    "    **********\n",
    "    numerical_list: list\n",
    "        The list from which to calculate squared values\n",
    "    \n",
    "    Returns\n",
    "    *******\n",
    "    list\n",
    "        A new list containing the squared value of each of the elements from the input list\n",
    "    \n",
    "    Examples\n",
    "    ********\n",
    "    >>> squares_a_list([1, 2, 3, 4])\n",
    "    [1, 4, 9, 16]\n",
    "    \"\"\"\n",
    "    new_squared_list = list()\n",
    "    for number in numerical_list:\n",
    "        new_squared_list.append(number ** 2)\n",
    "        \n",
    "    return new_squared_list"
   ]
  },
  {
   "cell_type": "code",
   "execution_count": 17,
   "id": "ad84f52f-e584-4324-88ba-13c24726959b",
   "metadata": {},
   "outputs": [
    {
     "data": {
      "text/plain": [
       "\u001b[0;31mSignature:\u001b[0m \u001b[0msquares_a_list\u001b[0m\u001b[0;34m(\u001b[0m\u001b[0mnumerical_list\u001b[0m\u001b[0;34m)\u001b[0m\u001b[0;34m\u001b[0m\u001b[0;34m\u001b[0m\u001b[0m\n",
       "\u001b[0;31mDocstring:\u001b[0m\n",
       "Squared every element in a list.\n",
       "\n",
       "Parameters\n",
       "**********\n",
       "numerical_list: list\n",
       "    The list from which to calculate squared values\n",
       "\n",
       "Returns\n",
       "*******\n",
       "list\n",
       "    A new list containing the squared value of each of the elements from the input list\n",
       "\n",
       "Examples\n",
       "********\n",
       ">>> squares_a_list([1, 2, 3, 4])\n",
       "[1, 4, 9, 16]\n",
       "\u001b[0;31mFile:\u001b[0m      /var/folders/r6/4krssl3d0zb29z_04r0ktqdc0000gn/T/ipykernel_61403/917758802.py\n",
       "\u001b[0;31mType:\u001b[0m      function"
      ]
     },
     "metadata": {},
     "output_type": "display_data"
    }
   ],
   "source": [
    "?squares_a_list"
   ]
  },
  {
   "cell_type": "markdown",
   "id": "df6b2e98-51b2-44a7-b567-dde7e872926d",
   "metadata": {},
   "source": [
    "### Defensive Programming using Exceptions"
   ]
  },
  {
   "cell_type": "code",
   "execution_count": 27,
   "id": "b3a194f0-29a9-464e-8ac2-32edc2696b4b",
   "metadata": {},
   "outputs": [],
   "source": [
    "def exponent_a_list(numerical_list, exponent=2):\n",
    "    \"\"\"\n",
    "    Creates a new list containing specifiec exponential values of the input list.\n",
    "    \n",
    "    Parameters\n",
    "    ----------\n",
    "    numerical_list: list\n",
    "        The list from which to calculate exponential values from\n",
    "    exponent: int or float, optional\n",
    "        The exponent value (the default is 2, which implies the square).\n",
    "        \n",
    "    Returns\n",
    "    -------\n",
    "    new_exponent_list: list\n",
    "        A new list containing the exponential value specified of each\n",
    "        of the elements from the input list\n",
    "        \n",
    "    Raises\n",
    "    ------\n",
    "    TypeError\n",
    "        If the input argument numerical_list is not of type list\n",
    "        \n",
    "    \"\"\"\n",
    "    new_exponent_list = list()\n",
    "    \n",
    "    if type(numerical_list) is not list:\n",
    "        raise Exception(\"You are not using a list for the numerical_list input.\")\n",
    "    \n",
    "    for number in numerical_list:\n",
    "        new_exponent_list.append(number ** exponent)\n",
    "        \n",
    "    return new_exponent_list"
   ]
  },
  {
   "cell_type": "markdown",
   "id": "73d22a20-f3b3-4499-8cf7-959561e8289b",
   "metadata": {},
   "source": [
    "### Unit Tests"
   ]
  },
  {
   "cell_type": "code",
   "execution_count": 19,
   "id": "031302f9-f6c2-4747-b2da-91c34f7e6e73",
   "metadata": {},
   "outputs": [
    {
     "ename": "AssertionError",
     "evalue": "1 is not equal to 2.",
     "output_type": "error",
     "traceback": [
      "\u001b[0;31m---------------------------------------------------------------------------\u001b[0m",
      "\u001b[0;31mAssertionError\u001b[0m                            Traceback (most recent call last)",
      "Cell \u001b[0;32mIn[19], line 1\u001b[0m\n\u001b[0;32m----> 1\u001b[0m \u001b[38;5;28;01massert\u001b[39;00m \u001b[38;5;241m1\u001b[39m \u001b[38;5;241m==\u001b[39m \u001b[38;5;241m2\u001b[39m , \u001b[38;5;124m\"\u001b[39m\u001b[38;5;124m1 is not equal to 2.\u001b[39m\u001b[38;5;124m\"\u001b[39m\n",
      "\u001b[0;31mAssertionError\u001b[0m: 1 is not equal to 2."
     ]
    }
   ],
   "source": [
    "assert 1 == 2 , \"1 is not equal to 2.\""
   ]
  },
  {
   "cell_type": "code",
   "execution_count": 28,
   "id": "9a9fec08-7e16-4d48-a56a-909dd7a43cb7",
   "metadata": {},
   "outputs": [],
   "source": [
    "assert type(exponent_a_list([1,2,4], 2)) == list, \"output type not a list\""
   ]
  },
  {
   "cell_type": "code",
   "execution_count": 22,
   "id": "d00e2244-a1c0-4a12-b040-d35b8003ffca",
   "metadata": {},
   "outputs": [],
   "source": [
    "assert exponent_a_list([1, 2, 4, 7], 2) == [1, 4, 16, 49], \"incorrect output for exponent = 2\""
   ]
  },
  {
   "cell_type": "code",
   "execution_count": 23,
   "id": "f96cc50f-7fa0-4543-ab30-507a767fcab2",
   "metadata": {},
   "outputs": [],
   "source": [
    "assert exponent_a_list([1, 2, 3], 3) == [1, 8, 27], \"incorrect output exponent = 3\""
   ]
  },
  {
   "cell_type": "code",
   "execution_count": 24,
   "id": "9c7cd4ae-5a26-45b6-988e-7086580280cd",
   "metadata": {},
   "outputs": [],
   "source": [
    "def column_stats(df, column):\n",
    "    stats_dict = {'max': df[column].max(),\n",
    "                  'min': df[column].min(),\n",
    "                  'mean': round(df[column].mean()),\n",
    "                  'range': df[column].max() - df[column].min()}\n",
    "    return stats_dict"
   ]
  },
  {
   "cell_type": "code",
   "execution_count": 25,
   "id": "38804683-7602-45c2-9fe9-596bad8e2758",
   "metadata": {},
   "outputs": [
    {
     "data": {
      "text/html": [
       "<div>\n",
       "<style scoped>\n",
       "    .dataframe tbody tr th:only-of-type {\n",
       "        vertical-align: middle;\n",
       "    }\n",
       "\n",
       "    .dataframe tbody tr th {\n",
       "        vertical-align: top;\n",
       "    }\n",
       "\n",
       "    .dataframe thead th {\n",
       "        text-align: right;\n",
       "    }\n",
       "</style>\n",
       "<table border=\"1\" class=\"dataframe\">\n",
       "  <thead>\n",
       "    <tr style=\"text-align: right;\">\n",
       "      <th></th>\n",
       "      <th>name</th>\n",
       "      <th>height</th>\n",
       "      <th>diameter</th>\n",
       "      <th>age</th>\n",
       "      <th>flowering</th>\n",
       "    </tr>\n",
       "  </thead>\n",
       "  <tbody>\n",
       "    <tr>\n",
       "      <th>0</th>\n",
       "      <td>Cherry</td>\n",
       "      <td>15</td>\n",
       "      <td>2</td>\n",
       "      <td>0</td>\n",
       "      <td>True</td>\n",
       "    </tr>\n",
       "    <tr>\n",
       "      <th>1</th>\n",
       "      <td>Oak</td>\n",
       "      <td>20</td>\n",
       "      <td>5</td>\n",
       "      <td>0</td>\n",
       "      <td>False</td>\n",
       "    </tr>\n",
       "    <tr>\n",
       "      <th>2</th>\n",
       "      <td>Willow</td>\n",
       "      <td>10</td>\n",
       "      <td>3</td>\n",
       "      <td>0</td>\n",
       "      <td>True</td>\n",
       "    </tr>\n",
       "    <tr>\n",
       "      <th>3</th>\n",
       "      <td>Fir</td>\n",
       "      <td>5</td>\n",
       "      <td>10</td>\n",
       "      <td>0</td>\n",
       "      <td>False</td>\n",
       "    </tr>\n",
       "    <tr>\n",
       "      <th>4</th>\n",
       "      <td>Oak</td>\n",
       "      <td>10</td>\n",
       "      <td>5</td>\n",
       "      <td>0</td>\n",
       "      <td>False</td>\n",
       "    </tr>\n",
       "  </tbody>\n",
       "</table>\n",
       "</div>"
      ],
      "text/plain": [
       "     name  height  diameter  age  flowering\n",
       "0  Cherry      15         2    0       True\n",
       "1     Oak      20         5    0      False\n",
       "2  Willow      10         3    0       True\n",
       "3     Fir       5        10    0      False\n",
       "4     Oak      10         5    0      False"
      ]
     },
     "execution_count": 25,
     "metadata": {},
     "output_type": "execute_result"
    }
   ],
   "source": [
    "data = {'name': ['Cherry', 'Oak', 'Willow', 'Fir', 'Oak'],\n",
    "        'height': [15, 20, 10, 5, 10],\n",
    "        'diameter': [2, 5, 3, 10, 5],\n",
    "        'age': [0, 0, 0, 0, 0],\n",
    "        'flowering': [True, False, True, False, False]}\n",
    "\n",
    "forest = pd.DataFrame.from_dict(data)\n",
    "forest"
   ]
  },
  {
   "cell_type": "code",
   "execution_count": 26,
   "id": "416f44ff-0ad3-416f-a9fa-93af0ee031ba",
   "metadata": {},
   "outputs": [],
   "source": [
    "assert column_stats(forest, 'height') == {'max':20, 'min': 5, 'mean': 12.0, 'range':15}"
   ]
  },
  {
   "cell_type": "markdown",
   "id": "411ca251-01c5-4341-a5d7-b24113413d95",
   "metadata": {},
   "source": [
    "### Good Function Design"
   ]
  },
  {
   "cell_type": "markdown",
   "id": "71b3ac00-c9f7-4c92-9e16-77429f78bc72",
   "metadata": {},
   "source": [
    "**1. Avoid Hard coding**\n",
    "\n",
    "Hard coding is the process of embedding values directly into your code without saving them as objects.\n",
    "\n",
    "**2. Less is more**\n",
    "\n",
    "**3. Return a single object**\n",
    "\n",
    "**4. Keep global variables in their global environment**"
   ]
  },
  {
   "cell_type": "code",
   "execution_count": null,
   "id": "e4341d66-6890-42b2-8293-f6fbedf7b982",
   "metadata": {},
   "outputs": [],
   "source": []
  }
 ],
 "metadata": {
  "kernelspec": {
   "display_name": "Python 3 (ipykernel)",
   "language": "python",
   "name": "python3"
  },
  "language_info": {
   "codemirror_mode": {
    "name": "ipython",
    "version": 3
   },
   "file_extension": ".py",
   "mimetype": "text/x-python",
   "name": "python",
   "nbconvert_exporter": "python",
   "pygments_lexer": "ipython3",
   "version": "3.10.8"
  }
 },
 "nbformat": 4,
 "nbformat_minor": 5
}
