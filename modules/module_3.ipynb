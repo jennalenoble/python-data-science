{
 "cells": [
  {
   "cell_type": "markdown",
   "id": "fdf49a67-7656-4de7-a749-e0e6151bbdcd",
   "metadata": {},
   "source": [
    "# Module 3: Tidy Data & Joining Data Frames"
   ]
  },
  {
   "cell_type": "markdown",
   "id": "f2effa48-6b3f-4638-b235-e60fe8912095",
   "metadata": {},
   "source": [
    "Tidy data:\n",
    "* Each row is a single observation\n",
    "* Each column is a single variable\n",
    "* Each value is a single cell"
   ]
  },
  {
   "cell_type": "markdown",
   "id": "0a543226-5abb-4d03-b4e7-42c041caa8a8",
   "metadata": {},
   "source": [
    "### Pivot"
   ]
  },
  {
   "cell_type": "markdown",
   "id": "572a3a62-8f6c-4cd6-8466-12a43ada1748",
   "metadata": {},
   "source": [
    "`cereal_wide = cereal_long.pivot(index=\"name\", columns=\"nutrition\", values=\"value\")`\n",
    "\n",
    "`cereal_wide_messy = cereal_wide.reset_index()`\n",
    "\n",
    "`cereal_wide_cleaned = cereal_wide_messy.rename_axis('', axis='columns')`\n",
    "\n",
    "\n",
    "**To keep multiple index variables:**\n",
    "\n",
    "`cereal_wider = cereal_long.pivot_table(index=['name', 'mfr'], columns = 'nutrition', values='value')`\n",
    "\n",
    "`cereal_wider.reset_index().rename_axis('', axis='columns')`\n",
    "\n",
    "**Check for duplicate rows before using pivot table:**\n",
    "\n",
    "`cereal_problem.duplicated(subset=['name', 'nutrition'], keep=False)`\n",
    "\n",
    "`duplicate_info = cereal_problem.duplicated(subset=['name', 'nutrition'], keep=False)`\n",
    "\n",
    "`cereal_problem[duplicate_info]`\n",
    "\n",
    "`cereal_no_problem = cereal_problem.drop(axis=0, index=1)`"
   ]
  },
  {
   "cell_type": "markdown",
   "id": "b3469cb5-e0a2-4474-aa6d-07bf3320d6fd",
   "metadata": {},
   "source": [
    "**Practice**\n",
    "\n",
    "`tidied_lego = (lego.pivot_table(index=['set_num', 'name', 'year'],   columns='lego_info',values='value').reset_index())`\n",
    "              \n",
    "Find the mean number of parts for each production year and save it in an object name year_parts_mean\n",
    "\n",
    "`year_parts_mean = tidied_lego.groupby('year').mean()[['num_parts']].round()`"
   ]
  },
  {
   "cell_type": "markdown",
   "id": "403bb8d8-9467-43b3-b0b8-23b2d55c4d8a",
   "metadata": {},
   "source": [
    "### Melt\n",
    "\n",
    "`melted_cereal = (cereal.melt(id_vars=['name', 'mfr'], value_vars=['calories, 'protein'], var_name='nutrition', value_name ='value'))`"
   ]
  },
  {
   "cell_type": "markdown",
   "id": "b046c8f9-9620-462e-9f27-fdd15e1cf419",
   "metadata": {},
   "source": [
    "### Concatenation"
   ]
  },
  {
   "cell_type": "markdown",
   "id": "03e5ae01-2430-4906-8bac-7886161b8539",
   "metadata": {},
   "source": [
    "**horizontal**\n",
    "\n",
    "`candy_nutrition = pd.concat([candy, candy2], axis=1)` (axis = 1 for columns (horizontal))\n",
    "\n",
    "`candy_nutrition.loc[:,~candy_nutrition.columns.duplicated()]`\n",
    "\n",
    "`candy_nutrition_cleaned = candy_nutrition.loc[:, ~candy_nutrition.columns.duplicated()]`"
   ]
  },
  {
   "cell_type": "markdown",
   "id": "5383887d-f00b-47c8-a694-9274c486f916",
   "metadata": {},
   "source": [
    "**vertical**\n",
    "\n",
    "`large_candybars = pd.concat([candy, candy_more], axis=0)`\n",
    "\n",
    "`large_candybars_cleaned = large_candybars.reset_index(drop=True)`"
   ]
  },
  {
   "cell_type": "markdown",
   "id": "ccf364e4-147e-429d-a420-735cdbf203be",
   "metadata": {},
   "source": [
    "### Merge\n",
    "\n",
    "`candy.merge(candy2m, left_on='name', right_on='chocolate_bar', how='inner')`\n",
    "\n",
    "options:\n",
    "* outer\n",
    "* left\n",
    "* right\n",
    "\n",
    "`candy.merge(candy2m, left_on='name', right_on='chocolate_bar', how='inner', indicatior=True)` (creates _merge column)"
   ]
  },
  {
   "cell_type": "code",
   "execution_count": null,
   "id": "3f369b3b-8296-4375-b58f-1572309c4b37",
   "metadata": {},
   "outputs": [],
   "source": []
  }
 ],
 "metadata": {
  "kernelspec": {
   "display_name": "Python 3 (ipykernel)",
   "language": "python",
   "name": "python3"
  },
  "language_info": {
   "codemirror_mode": {
    "name": "ipython",
    "version": 3
   },
   "file_extension": ".py",
   "mimetype": "text/x-python",
   "name": "python",
   "nbconvert_exporter": "python",
   "pygments_lexer": "ipython3",
   "version": "3.10.8"
  }
 },
 "nbformat": 4,
 "nbformat_minor": 5
}
