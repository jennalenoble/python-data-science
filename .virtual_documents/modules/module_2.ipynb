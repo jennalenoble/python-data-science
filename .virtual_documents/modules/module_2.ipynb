import pandas as pd


candybars = pd.read_csv("https://raw.githubusercontent.com/UBC-MDS/MCL-DSCI-511-programming-in-python/master/data/candybars.csv")
candybars.head()


# candybars = pd.read_csv('candybars-text.txt', delimiter = '\t')
# candybars = pd.read_excel('foods.xlsx', sheet_name='chocolate')


df = pd.read_csv('https://raw.githubusercontent.com/plotly/datasets/master/mtcars.csv', index_col="manufacturer")
df.head()


df = pd.read_csv('https://raw.githubusercontent.com/plotly/datasets/master/mtcars.csv', index_col=0)
df.head()


# candybars = pd.read_csv('candybars-h.csv', header=2)


candybars = pd.read_csv('https://raw.githubusercontent.com/UBC-MDS/MCL-DSCI-511-programming-in-python/master/data/candybars.csv', 
                        nrows=7)
candybars


candybars = pd.read_csv('https://raw.githubusercontent.com/UBC-MDS/MCL-DSCI-511-programming-in-python/master/data/candybars.csv', 
                        usecols = [2,5,10])
candybars.head()


candybars = pd.read_csv('https://raw.githubusercontent.com/UBC-MDS/MCL-DSCI-511-programming-in-python/master/data/candybars.csv', 
                        usecols = ['name', 'weight'])
candybars.head()


candy = pd.read_csv('https://raw.githubusercontent.com/UBC-MDS/MCL-DSCI-511-programming-in-python/master/data/candybars.csv')
candy


candy = candy.rename(columns={'available_canada_america':'availability'})
candy.head()


candy = candy.rename(columns={'available_canada_america':'availability',
                             'weight':'wight_g'})
candy.head()


candy = candy.drop(columns=['coconut', 'nougat'])
candy.head()


cereal = pd.read_csv('https://raw.githubusercontent.com/UBC-MDS/programming-in-python-for-data-science/master/data/cereal.csv', nrows=5)
cereal


cereal['fat']


cereal['fat']*1000


cereal['rating']*10


cereal['sugars']/cereal['cups']


cereal = pd.read_csv('https://raw.githubusercontent.com/UBC-MDS/programming-in-python-for-data-science/master/data/cereal.csv', 
                    usecols = ['name', 'mfr', 'type', 'fat', 'sugars', 'weight', 'cups', 'rating'])
cereal


oz_to_g = 28.3495
cereal['weight']*oz_to_g


cereal = cereal.assign(weight_g=cereal['weight']*oz_to_g)
cereal.head()


cereal['sugars']/cereal['cups']


cereal = cereal.assign(sugar_per_cup=cereal['sugars']/cereal['cups'])
cereal.head()


cereal = pd.read_csv('https://raw.githubusercontent.com/UBC-MDS/programming-in-python-for-data-science/master/data/cereal.csv')
cereal.head()


cereal['protein'] > 4


cereal[cereal['protein'] > 4]


cereal[cereal['protein'] == 4]


cereal[cereal['mfr'] == 'Q']


cereal[cereal['protein'] >= 4]


cereal[cereal['protein'] <= 5]


cereal[(cereal['protein'] >= 4) & (cereal['protein'] <= 5)]


cereal[(cereal['mfr'] == 'Q') & (cereal['protein'] > 4)]


cereal[(cereal['mfr'] == 'Q') | (cereal['protein'] > 4)] # or


(cereal['protein'] > 4).head()


(~(cereal['protein'] > 4)).head() # ~ = opposite


cereal[~(cereal['protein'] > 4)]


cereal = pd.read_csv('https://raw.githubusercontent.com/UBC-MDS/programming-in-python-for-data-science/master/data/cereal.csv', 
                    usecols = ['name', 'mfr', 'type', 'calories', 'protein', 'weight','rating'])
cereal.head()


cereal[cereal['mfr'] == 'Q'].assign(mfr = 'Quaker')


cereal.loc[cereal['mfr'] == 'Q']


cereal.loc[cereal['mfr'] == 'Q', 'mfr']


cereal.loc[cereal['mfr'] == 'Q', 'mfr'] = 'Quaker'
cereal


cereal.loc[cereal['protein'] >= 3, 'protein_level'] = 'high'
cereal.loc[cereal['protein'] < 3, 'protein_level'] = 'low'
cereal


cereal = pd.read_csv('https://raw.githubusercontent.com/UBC-MDS/programming-in-python-for-data-science/master/data/cereal.csv')
cereal['mfr'].value_counts()


mfr_k = cereal[cereal['mfr'] == 'K']
csr_df = mfr_k.loc[:, ["calories", "sugars", "rating"]]
cereal_mean = csr_df.mean()
cereal_mean


cereal_mean = cereal[cereal['mfr'] == 'K'].loc[:, ["calories", "sugars", "rating"]].mean()
cereal_mean


mfr_group = cereal.groupby(by='mfr')
mfr_group.groups


mfr_group.groups['K']


mfr_group.get_group('K')


cereal['mfr'].value_counts()


mfr_group.size()


mfr_group.mean()


cereal.agg('mean')


cereal.mean()


cereal.agg(['max', 'min', 'median'])


mfr_group.agg(['max', 'min', 'median'])


mfr_group.agg({"calories":['max', 'min'],
               "rating":['sum'],
               "sugars":['mean', 'median']})


import altair as alt


chart0 = alt.Chart(cereal, width=500, height=300).mark_circle().encode(
    x='mfr:N',
    y='calories:Q'
).properties(title="Scatter plot of manufacturer calorie content")
chart0


chart1 = alt.Chart(cereal, width=500, height=300).mark_circle().encode(
    x='sugars:Q',
    y='rating:Q'
).properties(title="Scatter plot of cereal rating vs sugar content")
chart1


chart2 = alt.Chart(cereal, width=500, height=300).mark_circle().encode(
    x=alt.X('sugars:Q'), # use alt.X() to map the x-axis
    y=alt.Y('rating:Q') # use alt.Y() to map the y-axis
).properties(title="Scatter plot of cereal rating vs sugar content")
chart2


chart3 = alt.Chart(cereal, width=500, height=300).mark_bar().encode(
    x=alt.X('calories:Q', bin=True), 
    y=alt.Y('count():Q') 
).properties(title="Histogram plot of cereal content")
chart3


chart4 = alt.Chart(cereal, width=500, height=300).mark_bar().encode(
    x=alt.X('calories:Q', bin=alt.Bin(maxbins=20)), 
    y=alt.Y('count():Q') 
).properties(title="Histogram plot of cereal content")
chart4


chart5 = alt.Chart(cereal, width=500, height=300).mark_bar().encode(
    x=alt.X('calories:Q', bin=alt.Bin(maxbins=20), title="Calorie Content"), 
    y=alt.Y('count():Q', title="Number of Cereals") 
).properties(title="Histogram plot of cereal content")
chart5


mfr_mean = cereal.groupby(by='mfr').mean()
mfr_mean = mfr_mean.reset_index()

chart6 = alt.Chart(mfr_mean, width=500, height=300).mark_bar().encode(
    x=alt.X('mfr:N', title="Manufacturer"), 
    y=alt.Y('sugars:Q', title="Mean sugar content") 
).properties(title="Bar plot of manufacturers mean sugar content")
chart6


chart7 = alt.Chart(mfr_mean, width=500, height=300).mark_bar().encode(
    x=alt.X('mfr:N', sort="y", title="Manufacturer"), 
    y=alt.Y('sugars:Q', title="Mean sugar content") 
).properties(title="Bar plot of manufacturers mean sugar content")
chart7


chart8 = alt.Chart(mfr_mean, width=500, height=300).mark_bar().encode(
    x=alt.X('mfr:N', sort="-y", title="Manufacturer"), 
    y=alt.Y('sugars:Q', title="Mean sugar content") 
).properties(title="Bar plot of manufacturers mean sugar content")
chart8



